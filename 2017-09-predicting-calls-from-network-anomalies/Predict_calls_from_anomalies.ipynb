{
 "cells": [
  {
   "cell_type": "code",
   "execution_count": 1,
   "metadata": {
    "collapsed": true
   },
   "outputs": [],
   "source": [
    "import matplotlib.pyplot as plt\n",
    "import numpy as np\n",
    "%matplotlib inline\n",
    "import pandas as pd"
   ]
  },
  {
   "cell_type": "markdown",
   "metadata": {
    "collapsed": true
   },
   "source": [
    "# Predicting Subscribers Calls following a Network Element Anomaly\n",
    "\n",
    "Assume some anomaly detection algorithm is able to detect anomalies in network elements in a fairly reliable way. It is natural to think that some subscribers will be impacted by this anomaly. The goal is to use these anomalies and recognize their configurations to predict an increase of calls.\n",
    "\n",
    "The following is assumed about the prediction model:\n",
    "\n",
    "- each network element has a subscribers population: the larger the network element, the more subscribers will call following an anomaly on that element\n",
    "- an anomaly likeliness is estimated by a probability (e.g. could be the z-score of a measurement after removal of the expected signal) and we call rating the negative log of that probability: the higher the rating, the more unlikely the anomaly is\n",
    "- at peak hour (e.g. from 6:30PM to 10:00PM), more subscribers are using their home devices (e.g. set top box) and will react quickly if a network anomaly occurs.\n",
    "- during off peak hours, less subscribers are using their devices: calls of those subscribers will be deferred to when they turn them on later in the day: the calls increase is less sudden and spread over more time\n",
    "- subscribers are assumed to behave the same in different regions at at the same time local to their time zone\n",
    "\n",
    "### Example of high increase following an severe anomaly at peak hour on a large network element\n",
    "\n",
    "![High Increase at Peak Hour ](predict_peak_hour.png)\n",
    "\n",
    "### Example of smaller increase following an severe anomaly at off peak hour on a large network element\n",
    "\n",
    "![Smaller Increase at Off Peak Hour ](predict_offpeak_hour.png)\n",
    "\n",
    "** The proof of concept in this notebook uses synthetic data with the assumptions made above to compare logistic regression with a simple neural network **"
   ]
  },
  {
   "cell_type": "markdown",
   "metadata": {},
   "source": [
    "### Simple crafted data set\n",
    "Each row in the data set corresponds to one network element anomaly along with the expected number of calls (if there was no anomaly) followed by the actual calls following the \n",
    "- the regions of the network elements (not the elements themselves) are one-hot encoded. As the timezone of the network element is assumed to be not available, the model is expected to \"learn the local time\" given the region and the UTC time\n",
    "- the UTC time of the anomaly is encoded: in this first limited data set only four values are considered\n",
    "- rating which the unlikeliness of the anomaly: the higher the more severely the subscribers are impacted\n",
    "- the population covered by the network element: the larger, the more calls are expected to follow the anomaly\n",
    "- the expected number of calls (if there was no anomaly, from the median of the calls over the 5 previous weeks at the same time)\n",
    "- the actual calls following the anomaly after 1h, 2h and 3h.\n",
    "Note that the calls increase were crafted to respect the assumptions above: more calls in case of higher rating, larger population. Also ** calls spikes are observed during peak hour while during off peak hour calls are shifted and spread over a longer period **. The model is expected to learn this pattern."
   ]
  },
  {
   "cell_type": "code",
   "execution_count": 2,
   "metadata": {
    "collapsed": false
   },
   "outputs": [
    {
     "data": {
      "text/html": [
       "<div>\n",
       "<table border=\"1\" class=\"dataframe\">\n",
       "  <thead>\n",
       "    <tr style=\"text-align: right;\">\n",
       "      <th></th>\n",
       "      <th>region_east</th>\n",
       "      <th>region_pacific</th>\n",
       "      <th>ano_18h</th>\n",
       "      <th>ano_23h</th>\n",
       "      <th>ano_21h</th>\n",
       "      <th>ano_2h</th>\n",
       "      <th>rating</th>\n",
       "      <th>population</th>\n",
       "      <th>calls</th>\n",
       "      <th>calls+1</th>\n",
       "      <th>calls+2</th>\n",
       "      <th>calls+3</th>\n",
       "    </tr>\n",
       "  </thead>\n",
       "  <tbody>\n",
       "    <tr>\n",
       "      <th>0</th>\n",
       "      <td>1</td>\n",
       "      <td>0</td>\n",
       "      <td>1</td>\n",
       "      <td>0</td>\n",
       "      <td>0</td>\n",
       "      <td>0</td>\n",
       "      <td>30</td>\n",
       "      <td>300</td>\n",
       "      <td>2</td>\n",
       "      <td>4</td>\n",
       "      <td>10</td>\n",
       "      <td>25</td>\n",
       "    </tr>\n",
       "    <tr>\n",
       "      <th>1</th>\n",
       "      <td>1</td>\n",
       "      <td>0</td>\n",
       "      <td>0</td>\n",
       "      <td>1</td>\n",
       "      <td>0</td>\n",
       "      <td>0</td>\n",
       "      <td>30</td>\n",
       "      <td>300</td>\n",
       "      <td>4</td>\n",
       "      <td>32</td>\n",
       "      <td>34</td>\n",
       "      <td>30</td>\n",
       "    </tr>\n",
       "    <tr>\n",
       "      <th>2</th>\n",
       "      <td>1</td>\n",
       "      <td>0</td>\n",
       "      <td>1</td>\n",
       "      <td>0</td>\n",
       "      <td>0</td>\n",
       "      <td>0</td>\n",
       "      <td>30</td>\n",
       "      <td>600</td>\n",
       "      <td>4</td>\n",
       "      <td>8</td>\n",
       "      <td>20</td>\n",
       "      <td>50</td>\n",
       "    </tr>\n",
       "    <tr>\n",
       "      <th>3</th>\n",
       "      <td>1</td>\n",
       "      <td>0</td>\n",
       "      <td>0</td>\n",
       "      <td>1</td>\n",
       "      <td>0</td>\n",
       "      <td>0</td>\n",
       "      <td>30</td>\n",
       "      <td>600</td>\n",
       "      <td>8</td>\n",
       "      <td>64</td>\n",
       "      <td>68</td>\n",
       "      <td>60</td>\n",
       "    </tr>\n",
       "    <tr>\n",
       "      <th>4</th>\n",
       "      <td>1</td>\n",
       "      <td>0</td>\n",
       "      <td>0</td>\n",
       "      <td>0</td>\n",
       "      <td>1</td>\n",
       "      <td>0</td>\n",
       "      <td>30</td>\n",
       "      <td>300</td>\n",
       "      <td>3</td>\n",
       "      <td>27</td>\n",
       "      <td>34</td>\n",
       "      <td>32</td>\n",
       "    </tr>\n",
       "    <tr>\n",
       "      <th>5</th>\n",
       "      <td>1</td>\n",
       "      <td>0</td>\n",
       "      <td>0</td>\n",
       "      <td>0</td>\n",
       "      <td>0</td>\n",
       "      <td>1</td>\n",
       "      <td>30</td>\n",
       "      <td>300</td>\n",
       "      <td>2</td>\n",
       "      <td>15</td>\n",
       "      <td>15</td>\n",
       "      <td>7</td>\n",
       "    </tr>\n",
       "    <tr>\n",
       "      <th>6</th>\n",
       "      <td>1</td>\n",
       "      <td>0</td>\n",
       "      <td>0</td>\n",
       "      <td>0</td>\n",
       "      <td>1</td>\n",
       "      <td>0</td>\n",
       "      <td>30</td>\n",
       "      <td>600</td>\n",
       "      <td>6</td>\n",
       "      <td>54</td>\n",
       "      <td>68</td>\n",
       "      <td>64</td>\n",
       "    </tr>\n",
       "    <tr>\n",
       "      <th>7</th>\n",
       "      <td>1</td>\n",
       "      <td>0</td>\n",
       "      <td>0</td>\n",
       "      <td>0</td>\n",
       "      <td>0</td>\n",
       "      <td>1</td>\n",
       "      <td>30</td>\n",
       "      <td>600</td>\n",
       "      <td>4</td>\n",
       "      <td>30</td>\n",
       "      <td>30</td>\n",
       "      <td>14</td>\n",
       "    </tr>\n",
       "    <tr>\n",
       "      <th>8</th>\n",
       "      <td>0</td>\n",
       "      <td>1</td>\n",
       "      <td>0</td>\n",
       "      <td>0</td>\n",
       "      <td>1</td>\n",
       "      <td>0</td>\n",
       "      <td>30</td>\n",
       "      <td>300</td>\n",
       "      <td>2</td>\n",
       "      <td>4</td>\n",
       "      <td>10</td>\n",
       "      <td>25</td>\n",
       "    </tr>\n",
       "    <tr>\n",
       "      <th>9</th>\n",
       "      <td>0</td>\n",
       "      <td>1</td>\n",
       "      <td>0</td>\n",
       "      <td>0</td>\n",
       "      <td>0</td>\n",
       "      <td>1</td>\n",
       "      <td>30</td>\n",
       "      <td>300</td>\n",
       "      <td>4</td>\n",
       "      <td>32</td>\n",
       "      <td>34</td>\n",
       "      <td>30</td>\n",
       "    </tr>\n",
       "    <tr>\n",
       "      <th>10</th>\n",
       "      <td>0</td>\n",
       "      <td>1</td>\n",
       "      <td>0</td>\n",
       "      <td>0</td>\n",
       "      <td>1</td>\n",
       "      <td>0</td>\n",
       "      <td>30</td>\n",
       "      <td>600</td>\n",
       "      <td>4</td>\n",
       "      <td>8</td>\n",
       "      <td>20</td>\n",
       "      <td>50</td>\n",
       "    </tr>\n",
       "    <tr>\n",
       "      <th>11</th>\n",
       "      <td>0</td>\n",
       "      <td>1</td>\n",
       "      <td>0</td>\n",
       "      <td>0</td>\n",
       "      <td>0</td>\n",
       "      <td>1</td>\n",
       "      <td>30</td>\n",
       "      <td>600</td>\n",
       "      <td>8</td>\n",
       "      <td>64</td>\n",
       "      <td>68</td>\n",
       "      <td>60</td>\n",
       "    </tr>\n",
       "    <tr>\n",
       "      <th>12</th>\n",
       "      <td>0</td>\n",
       "      <td>1</td>\n",
       "      <td>1</td>\n",
       "      <td>0</td>\n",
       "      <td>0</td>\n",
       "      <td>0</td>\n",
       "      <td>30</td>\n",
       "      <td>300</td>\n",
       "      <td>2</td>\n",
       "      <td>4</td>\n",
       "      <td>5</td>\n",
       "      <td>6</td>\n",
       "    </tr>\n",
       "    <tr>\n",
       "      <th>13</th>\n",
       "      <td>0</td>\n",
       "      <td>1</td>\n",
       "      <td>0</td>\n",
       "      <td>1</td>\n",
       "      <td>0</td>\n",
       "      <td>0</td>\n",
       "      <td>30</td>\n",
       "      <td>300</td>\n",
       "      <td>4</td>\n",
       "      <td>10</td>\n",
       "      <td>30</td>\n",
       "      <td>31</td>\n",
       "    </tr>\n",
       "    <tr>\n",
       "      <th>14</th>\n",
       "      <td>0</td>\n",
       "      <td>1</td>\n",
       "      <td>1</td>\n",
       "      <td>0</td>\n",
       "      <td>0</td>\n",
       "      <td>0</td>\n",
       "      <td>30</td>\n",
       "      <td>600</td>\n",
       "      <td>4</td>\n",
       "      <td>8</td>\n",
       "      <td>10</td>\n",
       "      <td>12</td>\n",
       "    </tr>\n",
       "    <tr>\n",
       "      <th>15</th>\n",
       "      <td>0</td>\n",
       "      <td>1</td>\n",
       "      <td>0</td>\n",
       "      <td>1</td>\n",
       "      <td>0</td>\n",
       "      <td>0</td>\n",
       "      <td>30</td>\n",
       "      <td>600</td>\n",
       "      <td>8</td>\n",
       "      <td>20</td>\n",
       "      <td>60</td>\n",
       "      <td>62</td>\n",
       "    </tr>\n",
       "  </tbody>\n",
       "</table>\n",
       "</div>"
      ],
      "text/plain": [
       "    region_east  region_pacific  ano_18h  ano_23h  ano_21h  ano_2h  rating  \\\n",
       "0             1               0        1        0        0       0      30   \n",
       "1             1               0        0        1        0       0      30   \n",
       "2             1               0        1        0        0       0      30   \n",
       "3             1               0        0        1        0       0      30   \n",
       "4             1               0        0        0        1       0      30   \n",
       "5             1               0        0        0        0       1      30   \n",
       "6             1               0        0        0        1       0      30   \n",
       "7             1               0        0        0        0       1      30   \n",
       "8             0               1        0        0        1       0      30   \n",
       "9             0               1        0        0        0       1      30   \n",
       "10            0               1        0        0        1       0      30   \n",
       "11            0               1        0        0        0       1      30   \n",
       "12            0               1        1        0        0       0      30   \n",
       "13            0               1        0        1        0       0      30   \n",
       "14            0               1        1        0        0       0      30   \n",
       "15            0               1        0        1        0       0      30   \n",
       "\n",
       "    population  calls  calls+1  calls+2  calls+3  \n",
       "0          300      2        4       10       25  \n",
       "1          300      4       32       34       30  \n",
       "2          600      4        8       20       50  \n",
       "3          600      8       64       68       60  \n",
       "4          300      3       27       34       32  \n",
       "5          300      2       15       15        7  \n",
       "6          600      6       54       68       64  \n",
       "7          600      4       30       30       14  \n",
       "8          300      2        4       10       25  \n",
       "9          300      4       32       34       30  \n",
       "10         600      4        8       20       50  \n",
       "11         600      8       64       68       60  \n",
       "12         300      2        4        5        6  \n",
       "13         300      4       10       30       31  \n",
       "14         600      4        8       10       12  \n",
       "15         600      8       20       60       62  "
      ]
     },
     "execution_count": 2,
     "metadata": {},
     "output_type": "execute_result"
    }
   ],
   "source": [
    "data=pd.read_csv('data.csv')\n",
    "data"
   ]
  },
  {
   "cell_type": "code",
   "execution_count": 3,
   "metadata": {
    "collapsed": false
   },
   "outputs": [
    {
     "data": {
      "text/plain": [
       "array([[  1,   0,   1,   0,   0,   0,  30, 300,   2],\n",
       "       [  1,   0,   0,   1,   0,   0,  30, 300,   4],\n",
       "       [  1,   0,   1,   0,   0,   0,  30, 600,   4]], dtype=int64)"
      ]
     },
     "execution_count": 3,
     "metadata": {},
     "output_type": "execute_result"
    }
   ],
   "source": [
    "X=data.iloc[:,0:9].values\n",
    "X[:3]"
   ]
  },
  {
   "cell_type": "code",
   "execution_count": 4,
   "metadata": {
    "collapsed": false
   },
   "outputs": [
    {
     "data": {
      "text/plain": [
       "array([[ 4, 10, 25],\n",
       "       [32, 34, 30],\n",
       "       [ 8, 20, 50]], dtype=int64)"
      ]
     },
     "execution_count": 4,
     "metadata": {},
     "output_type": "execute_result"
    }
   ],
   "source": [
    "Y=data.iloc[:,9:12].values\n",
    "Y[:3]"
   ]
  },
  {
   "cell_type": "code",
   "execution_count": 6,
   "metadata": {
    "collapsed": false
   },
   "outputs": [],
   "source": [
    "from sklearn.preprocessing import StandardScaler  \n",
    "scaler = StandardScaler()  \n",
    "scaler.fit(X)  \n",
    "X_std = scaler.transform(X)  "
   ]
  },
  {
   "cell_type": "markdown",
   "metadata": {},
   "source": [
    "## Using Neural Network to Predict Calls (using Multilayer Perceptron Regressor)"
   ]
  },
  {
   "cell_type": "code",
   "execution_count": 7,
   "metadata": {
    "collapsed": true
   },
   "outputs": [],
   "source": [
    "from sklearn.neural_network import MLPRegressor\n",
    "regressor=MLPRegressor(hidden_layer_sizes=(100,100), activation='relu', solver='adam', alpha=0.0001, \n",
    "                       batch_size='auto', learning_rate='constant', learning_rate_init=0.001, \n",
    "                       power_t=0.5, max_iter=2000, shuffle=True, random_state=None, tol=0.0001, \n",
    "                       verbose=False, warm_start=False, momentum=0.9, nesterovs_momentum=True, \n",
    "                       early_stopping=False, validation_fraction=0.1, beta_1=0.9, beta_2=0.999, \n",
    "                       epsilon=1e-08)"
   ]
  },
  {
   "cell_type": "code",
   "execution_count": 8,
   "metadata": {
    "collapsed": false
   },
   "outputs": [
    {
     "data": {
      "text/plain": [
       "MLPRegressor(activation='relu', alpha=0.0001, batch_size='auto', beta_1=0.9,\n",
       "       beta_2=0.999, early_stopping=False, epsilon=1e-08,\n",
       "       hidden_layer_sizes=(100, 100), learning_rate='constant',\n",
       "       learning_rate_init=0.001, max_iter=2000, momentum=0.9,\n",
       "       nesterovs_momentum=True, power_t=0.5, random_state=None,\n",
       "       shuffle=True, solver='adam', tol=0.0001, validation_fraction=0.1,\n",
       "       verbose=False, warm_start=False)"
      ]
     },
     "execution_count": 8,
     "metadata": {},
     "output_type": "execute_result"
    }
   ],
   "source": [
    "regressor.fit(X_std,Y)"
   ]
  },
  {
   "cell_type": "code",
   "execution_count": 11,
   "metadata": {
    "collapsed": false
   },
   "outputs": [
    {
     "data": {
      "text/plain": [
       "array([[  4.01751597,   9.94850869,  25.08601922],\n",
       "       [ 32.04990559,  33.97456191,  30.0105897 ],\n",
       "       [  8.00254789,  20.00550341,  49.92479102],\n",
       "       [ 63.93866273,  68.0465592 ,  59.98397908],\n",
       "       [ 26.81987163,  34.25348114,  31.88744452],\n",
       "       [ 14.98573513,  15.07208359,   6.84246168],\n",
       "       [ 54.09600577,  67.85686358,  64.07628671],\n",
       "       [ 30.16376266,  29.70065861,  14.35385183],\n",
       "       [  3.99906557,   9.91756426,  25.01490579],\n",
       "       [ 32.20282539,  33.60058413,  30.40821066],\n",
       "       [  8.00978862,  20.06799759,  49.98196747],\n",
       "       [ 63.81116069,  68.33516923,  59.64402979],\n",
       "       [  4.04399499,   5.42093679,   5.5806298 ],\n",
       "       [  9.83637234,  30.22110125,  30.80109953],\n",
       "       [  8.00026023,   9.68145261,  12.33458018],\n",
       "       [ 20.14031563,  59.81124926,  62.17101375]])"
      ]
     },
     "execution_count": 11,
     "metadata": {},
     "output_type": "execute_result"
    }
   ],
   "source": [
    "# predicted calls 1h, 2h, 3h following the anomaly : on training set\n",
    "regressor.predict(X_std)"
   ]
  },
  {
   "cell_type": "code",
   "execution_count": 10,
   "metadata": {
    "collapsed": false
   },
   "outputs": [
    {
     "data": {
      "text/plain": [
       "array([[ 4, 10, 25],\n",
       "       [32, 34, 30],\n",
       "       [ 8, 20, 50],\n",
       "       [64, 68, 60],\n",
       "       [27, 34, 32],\n",
       "       [15, 15,  7],\n",
       "       [54, 68, 64],\n",
       "       [30, 30, 14],\n",
       "       [ 4, 10, 25],\n",
       "       [32, 34, 30],\n",
       "       [ 8, 20, 50],\n",
       "       [64, 68, 60],\n",
       "       [ 4,  5,  6],\n",
       "       [10, 30, 31],\n",
       "       [ 8, 10, 12],\n",
       "       [20, 60, 62]], dtype=int64)"
      ]
     },
     "execution_count": 10,
     "metadata": {},
     "output_type": "execute_result"
    }
   ],
   "source": [
    "# actual calls 1h, 2h, 3h following the anomaly\n",
    "Y"
   ]
  },
  {
   "cell_type": "markdown",
   "metadata": {},
   "source": [
    "#### Without any SSE error measurement, it can be seen above that expected +1h, +2h, +3h calls match fairly the actual calls)"
   ]
  },
  {
   "cell_type": "code",
   "execution_count": 12,
   "metadata": {
    "collapsed": false
   },
   "outputs": [
    {
     "data": {
      "text/html": [
       "<div>\n",
       "<table border=\"1\" class=\"dataframe\">\n",
       "  <thead>\n",
       "    <tr style=\"text-align: right;\">\n",
       "      <th></th>\n",
       "      <th>region_east</th>\n",
       "      <th>region_pacific</th>\n",
       "      <th>ano_18h</th>\n",
       "      <th>ano_23h</th>\n",
       "      <th>ano_21h</th>\n",
       "      <th>ano_2h</th>\n",
       "      <th>rating</th>\n",
       "      <th>population</th>\n",
       "      <th>calls</th>\n",
       "    </tr>\n",
       "  </thead>\n",
       "  <tbody>\n",
       "    <tr>\n",
       "      <th>0</th>\n",
       "      <td>1</td>\n",
       "      <td>0</td>\n",
       "      <td>1</td>\n",
       "      <td>0</td>\n",
       "      <td>0</td>\n",
       "      <td>0</td>\n",
       "      <td>30</td>\n",
       "      <td>450</td>\n",
       "      <td>3</td>\n",
       "    </tr>\n",
       "    <tr>\n",
       "      <th>1</th>\n",
       "      <td>1</td>\n",
       "      <td>0</td>\n",
       "      <td>1</td>\n",
       "      <td>0</td>\n",
       "      <td>0</td>\n",
       "      <td>0</td>\n",
       "      <td>30</td>\n",
       "      <td>500</td>\n",
       "      <td>4</td>\n",
       "    </tr>\n",
       "    <tr>\n",
       "      <th>2</th>\n",
       "      <td>1</td>\n",
       "      <td>0</td>\n",
       "      <td>1</td>\n",
       "      <td>0</td>\n",
       "      <td>0</td>\n",
       "      <td>0</td>\n",
       "      <td>30</td>\n",
       "      <td>550</td>\n",
       "      <td>4</td>\n",
       "    </tr>\n",
       "    <tr>\n",
       "      <th>3</th>\n",
       "      <td>1</td>\n",
       "      <td>0</td>\n",
       "      <td>1</td>\n",
       "      <td>0</td>\n",
       "      <td>0</td>\n",
       "      <td>0</td>\n",
       "      <td>30</td>\n",
       "      <td>590</td>\n",
       "      <td>4</td>\n",
       "    </tr>\n",
       "    <tr>\n",
       "      <th>4</th>\n",
       "      <td>1</td>\n",
       "      <td>0</td>\n",
       "      <td>1</td>\n",
       "      <td>0</td>\n",
       "      <td>0</td>\n",
       "      <td>0</td>\n",
       "      <td>30</td>\n",
       "      <td>599</td>\n",
       "      <td>4</td>\n",
       "    </tr>\n",
       "    <tr>\n",
       "      <th>5</th>\n",
       "      <td>1</td>\n",
       "      <td>0</td>\n",
       "      <td>1</td>\n",
       "      <td>0</td>\n",
       "      <td>0</td>\n",
       "      <td>0</td>\n",
       "      <td>30</td>\n",
       "      <td>600</td>\n",
       "      <td>4</td>\n",
       "    </tr>\n",
       "    <tr>\n",
       "      <th>6</th>\n",
       "      <td>1</td>\n",
       "      <td>0</td>\n",
       "      <td>1</td>\n",
       "      <td>0</td>\n",
       "      <td>0</td>\n",
       "      <td>0</td>\n",
       "      <td>30</td>\n",
       "      <td>1200</td>\n",
       "      <td>8</td>\n",
       "    </tr>\n",
       "  </tbody>\n",
       "</table>\n",
       "</div>"
      ],
      "text/plain": [
       "   region_east  region_pacific  ano_18h  ano_23h  ano_21h  ano_2h  rating  \\\n",
       "0            1               0        1        0        0       0      30   \n",
       "1            1               0        1        0        0       0      30   \n",
       "2            1               0        1        0        0       0      30   \n",
       "3            1               0        1        0        0       0      30   \n",
       "4            1               0        1        0        0       0      30   \n",
       "5            1               0        1        0        0       0      30   \n",
       "6            1               0        1        0        0       0      30   \n",
       "\n",
       "   population  calls  \n",
       "0         450      3  \n",
       "1         500      4  \n",
       "2         550      4  \n",
       "3         590      4  \n",
       "4         599      4  \n",
       "5         600      4  \n",
       "6        1200      8  "
      ]
     },
     "execution_count": 12,
     "metadata": {},
     "output_type": "execute_result"
    }
   ],
   "source": [
    "# predicted calls 1h, 2h, 3h following the anomaly : on test set\n",
    "data_test=pd.read_csv('test.csv')\n",
    "data_test"
   ]
  },
  {
   "cell_type": "code",
   "execution_count": 13,
   "metadata": {
    "collapsed": false
   },
   "outputs": [
    {
     "data": {
      "text/plain": [
       "array([[   4.51249882,   13.08295886,   36.02928949],\n",
       "       [   6.32404407,   16.17408245,   41.9181388 ],\n",
       "       [   6.98815235,   17.9068261 ,   45.93589914],\n",
       "       [   7.75989066,   19.55189425,   49.13138509],\n",
       "       [   7.97808945,   19.960199  ,   49.84559481],\n",
       "       [   8.00254789,   20.00550341,   49.92479102],\n",
       "       [  54.09307877,   78.02645002,  109.72637183]])"
      ]
     },
     "execution_count": 13,
     "metadata": {},
     "output_type": "execute_result"
    }
   ],
   "source": [
    "X_test=data_test.values\n",
    "X_test_std = scaler.transform(X_test)\n",
    "regressor.predict(X_test_std)"
   ]
  },
  {
   "cell_type": "markdown",
   "metadata": {},
   "source": [
    "#### On a test set with manually crafted data, the predicted subscriber behavior is compliant with the expectation. For example:\n",
    "- row 1: the increase is small on as the anomaly happens during off peak hour (18:00 UTC = 11:00 in region east)\n",
    "- row 2-6: with increasing population and calls, all predicted +1h, +2h, +3h are increasing"
   ]
  },
  {
   "cell_type": "markdown",
   "metadata": {},
   "source": [
    "## Using Linear Regression (Ridge) to Predict Calls: not good"
   ]
  },
  {
   "cell_type": "code",
   "execution_count": 15,
   "metadata": {
    "collapsed": true
   },
   "outputs": [],
   "source": [
    "from sklearn.linear_model import Ridge\n",
    "ridge=Ridge(alpha=1.0, fit_intercept=True, normalize=False, copy_X=True, max_iter=None, \n",
    "            tol=0.001, solver='auto', random_state=None)"
   ]
  },
  {
   "cell_type": "code",
   "execution_count": 16,
   "metadata": {
    "collapsed": false
   },
   "outputs": [
    {
     "data": {
      "text/plain": [
       "Ridge(alpha=1.0, copy_X=True, fit_intercept=True, max_iter=None,\n",
       "   normalize=False, random_state=None, solver='auto', tol=0.001)"
      ]
     },
     "execution_count": 16,
     "metadata": {},
     "output_type": "execute_result"
    }
   ],
   "source": [
    "ridge.fit(X_std,Y)"
   ]
  },
  {
   "cell_type": "code",
   "execution_count": 17,
   "metadata": {
    "collapsed": false
   },
   "outputs": [
    {
     "data": {
      "text/plain": [
       "array([[  8.69965638,   9.36386019,  16.93831994],\n",
       "       [ 25.17902848,  35.83736074,  31.61931116],\n",
       "       [ 17.33395168,  22.56131906,  33.26643043],\n",
       "       [ 52.01615376,  68.97535282,  63.68444194],\n",
       "       [ 27.7582666 ,  32.96736863,  37.79655416],\n",
       "       [ 23.59912147,  19.43631401,   9.96254422],\n",
       "       [ 45.49397689,  56.1350941 ,  61.99317479],\n",
       "       [ 32.23341678,  32.63377288,  26.2906547 ],\n",
       "       [  5.16542798,  14.28064144,  26.33949488],\n",
       "       [ 28.31052782,  30.66038664,  22.11101536],\n",
       "       [ 13.79972329,  27.47810031,  42.66760537],\n",
       "       [ 55.14765309,  63.79837871,  54.17614613],\n",
       "       [ -4.79176725,   0.64739961,  13.3497708 ],\n",
       "       [ 11.68760485,  27.12090016,  28.03076202],\n",
       "       [  3.84252805,  13.84485847,  29.67788129],\n",
       "       [ 38.52473013,  60.25889223,  60.09589279]])"
      ]
     },
     "execution_count": 17,
     "metadata": {},
     "output_type": "execute_result"
    }
   ],
   "source": [
    "ridge.predict(X_std)"
   ]
  },
  {
   "cell_type": "code",
   "execution_count": 18,
   "metadata": {
    "collapsed": false
   },
   "outputs": [
    {
     "data": {
      "text/plain": [
       "array([[ 4, 10, 25],\n",
       "       [32, 34, 30],\n",
       "       [ 8, 20, 50],\n",
       "       [64, 68, 60],\n",
       "       [27, 34, 32],\n",
       "       [15, 15,  7],\n",
       "       [54, 68, 64],\n",
       "       [30, 30, 14],\n",
       "       [ 4, 10, 25],\n",
       "       [32, 34, 30],\n",
       "       [ 8, 20, 50],\n",
       "       [64, 68, 60],\n",
       "       [ 4,  5,  6],\n",
       "       [10, 30, 31],\n",
       "       [ 8, 10, 12],\n",
       "       [20, 60, 62]], dtype=int64)"
      ]
     },
     "execution_count": 18,
     "metadata": {},
     "output_type": "execute_result"
    }
   ],
   "source": [
    "Y"
   ]
  },
  {
   "cell_type": "markdown",
   "metadata": {},
   "source": [
    "The problem is not linearly well separable, partly due to the local time that is expected to be inferred from the UTC time and the region (assumed the timezone of each region is not available). The linear model learns coefficients for features but can't learn a coefficient for a combination of features. It is possible to add combined features (region + time) but this adds many features to the model which makes it more complex while the neural network better handles these combinations.\n",
    "### At this step the simple synthetic data gives fairly good results. Let's generate much more data (still synthetic) respecting the subscribers behavior for random combinations a larger range for population, rating, time, and calls (baseline and post-anomaly)"
   ]
  },
  {
   "cell_type": "code",
   "execution_count": 19,
   "metadata": {
    "collapsed": false
   },
   "outputs": [
    {
     "name": "stdout",
     "output_type": "stream",
     "text": [
      "region_idx: 3, ano_hour_utc: 6, ano_hour_local: 23\n"
     ]
    },
    {
     "data": {
      "text/plain": [
       "[0.0, 0.0, 0.0, 1.0]"
      ]
     },
     "execution_count": 19,
     "metadata": {},
     "output_type": "execute_result"
    }
   ],
   "source": [
    "# Assume we have 4 regions from 0 to 3, each in its timezone from UTC-4 (e.g. Boston) to UTC-7 (Pacific)\n",
    "REGIONS_NB=4\n",
    "region_names= [ 'utc-' + str(4+i) for i in range(0,REGIONS_NB) ]\n",
    "\n",
    "columns=[]\n",
    "\n",
    "regions=np.zeros(REGIONS_NB)\n",
    "region_idx = np.random.randint(REGIONS_NB)\n",
    "regions[region_idx]=1\n",
    "columns += regions.tolist()\n",
    "\n",
    "# select the UTC time of the anomaly (1 hour between 0-24) and local to the region\n",
    "ano_hour_utc = np.random.randint(24)\n",
    "ano_hour_local = (ano_hour_utc - 4 - region_idx + 24) % 24\n",
    "print('region_idx: %d, ano_hour_utc: %d, ano_hour_local: %d' % (region_idx, ano_hour_utc, ano_hour_local))\n",
    "\n",
    "\n",
    "columns"
   ]
  },
  {
   "cell_type": "code",
   "execution_count": 20,
   "metadata": {
    "collapsed": false
   },
   "outputs": [
    {
     "data": {
      "text/plain": [
       "['utc-4', 'utc-5', 'utc-6', 'utc-7']"
      ]
     },
     "execution_count": 20,
     "metadata": {},
     "output_type": "execute_result"
    }
   ],
   "source": [
    "region_names= [ 'utc-' + str(4+i) for i in range(0,REGIONS_NB) ]\n",
    "region_names"
   ]
  },
  {
   "cell_type": "code",
   "execution_count": 21,
   "metadata": {
    "collapsed": false
   },
   "outputs": [
    {
     "data": {
      "text/plain": [
       "array([ 0.,  0.,  1.,  0.])"
      ]
     },
     "execution_count": 21,
     "metadata": {},
     "output_type": "execute_result"
    }
   ],
   "source": [
    "tmp=np.zeros(4)\n",
    "tmp[2]=1\n",
    "tmp"
   ]
  },
  {
   "cell_type": "code",
   "execution_count": 22,
   "metadata": {
    "collapsed": false
   },
   "outputs": [],
   "source": [
    "class CallsFunction:\n",
    "\n",
    "    def __init__(self):\n",
    "        from sklearn.preprocessing import PolynomialFeatures\n",
    "        from sklearn.linear_model import LinearRegression\n",
    "        self.base_pop = 500 # numbers below are for this base population\n",
    "        self.X=np.array([0,2,4,6,6.75,7.5,8.2,9,13,15,17,19.5,21,23,23.99]).reshape(-1,1)\n",
    "        self.y=np.array([10,3,3,3,14,30,30,20,21,23,40,60,47,13,10])\n",
    "        self.quadratic = PolynomialFeatures(degree=10)\n",
    "        X_quad = self.quadratic.fit_transform(self.X)\n",
    "        self.pr = LinearRegression()\n",
    "        self.pr.fit(X_quad, self.y)\n",
    "\n",
    "    def plot(self, population):\n",
    "        fig = plt.figure(figsize=(12,10)) \n",
    "        ax = fig.add_subplot(1, 1, 1)\n",
    "\n",
    "        hours,calls_for_pop = self.__get_plot_calls(population)\n",
    "        ax.plot(hours,calls_for_pop)\n",
    "        \n",
    "        support_hours,support_points = self.__get_plot_support_points(population)\n",
    "        ax.scatter(support_hours, support_points)\n",
    "        plt.xlim(0,24)\n",
    "        plt.ylim(0,self.get_ylim(population))\n",
    "        plt.grid(True)\n",
    "        plt.xticks(np.arange(24), [ str(i) for i in np.arange(24)])\n",
    "        return ax\n",
    "    \n",
    "    def __get_plot_support_points(self, population):\n",
    "        return (self.X, [ self.adjust_for_pop(calls, population) for calls in self.y ])\n",
    "    \n",
    "    def __get_plot_calls(self, population):\n",
    "        hours = np.arange(0,24,0.1).reshape(-1,1)\n",
    "        all_calls = self.pr.predict(self.quadratic.fit_transform(hours))\n",
    "        calls_for_pop=[ self.adjust_for_pop(calls, population) for calls in all_calls ]\n",
    "        return (hours,calls_for_pop)\n",
    "\n",
    "    def adjust_for_pop(self, calls, population):\n",
    "        return calls * population / self.base_pop\n",
    "    \n",
    "    def get_ylim(self,population):\n",
    "        hours,calls_for_pop = self.__get_plot_calls(population)\n",
    "        support_hours,support_points = self.__get_plot_support_points(population)\n",
    "        return max( max(calls_for_pop), max(support_points) )*1.05\n",
    "    \n",
    "    def get_calls_for_local_hour(self,hour,population):\n",
    "        calls = self.pr.predict(self.quadratic.fit_transform(np.array([hour]).reshape(-1,1)))[0]\n",
    "        return self.adjust_for_pop(calls, population)"
   ]
  },
  {
   "cell_type": "markdown",
   "metadata": {},
   "source": [
    "### Use interpolation to generate a typical expected calls baseline during a normal day\n",
    "The graph below shows the points used to generate a polynomial curve for the expected call rate"
   ]
  },
  {
   "cell_type": "code",
   "execution_count": 23,
   "metadata": {
    "collapsed": false
   },
   "outputs": [
    {
     "data": {
      "text/plain": [
       "8.8406614987115617"
      ]
     },
     "execution_count": 23,
     "metadata": {},
     "output_type": "execute_result"
    },
    {
     "data": {
      "image/png": "[encoded data removed]",
      "text/plain": [
       "<matplotlib.figure.Figure at 0x5f2e978>"
      ]
     },
     "metadata": {},
     "output_type": "display_data"
    }
   ],
   "source": [
    "calls_function = CallsFunction()\n",
    "calls_function.plot(100)\n",
    "calls_function.get_calls_for_local_hour(21.3,100)"
   ]
  },
  {
   "cell_type": "code",
   "execution_count": 24,
   "metadata": {
    "collapsed": false
   },
   "outputs": [],
   "source": [
    "class PostAnomalyCallsFunction:\n",
    "\n",
    "    def __init__(self):\n",
    "        from sklearn.preprocessing import PolynomialFeatures\n",
    "        from sklearn.linear_model import LinearRegression\n",
    "        \n",
    "        # percentage of calls in ano_hour +1\n",
    "        self.X1=np.array( [0, 1,   2,  3,  5,   6,  7, 8.2,  9,  10, 13, 15, 16, 17.5, 19,  22, 23.99    ]).reshape(-1,1)\n",
    "        self.y1=np.array([.4,.2, .05, .05,.05, .2, .8, .8,   .6, .2, .2, .2, .55, .85, .85, .6, .3])\n",
    "        self.quadratic1 = PolynomialFeatures(degree=8)\n",
    "        X_quad = self.quadratic1.fit_transform(self.X1)\n",
    "        self.pr1 = LinearRegression()\n",
    "        self.pr1.fit(X_quad, self.y1)\n",
    "        \n",
    "        # percentage of calls in ano_hour +2\n",
    "        self.X2=np.array( [0,   1,   2,  3,   4,   6, 7.5, 8.2, 9,  13, 15,  17, 19, 21,  23,  23.99    ]).reshape(-1,1)\n",
    "        self.y2=np.array([.05,.05, .05, .05,.15, .3, .15,  .15, .2, .2, .3, .3, .1, .1,  .1, .05])\n",
    "        self.X2=np.array( [0,   1,   2,  3,   4,   6, 7.5, 8.2, 9,  13, 15,  17, 19, 21,  23,  23.99    ]).reshape(-1,1)\n",
    "        self.y2=np.array([.05,.05, .05, .05,.15, .3, .15,  .15, .2, .2, .3, .3, .1, .1,  .1, .05])\n",
    "        self.quadratic2 = PolynomialFeatures(degree=12)\n",
    "        X_quad = self.quadratic2.fit_transform(self.X2)\n",
    "        self.pr2 = LinearRegression()\n",
    "        self.pr2.fit(X_quad, self.y2)\n",
    "        \n",
    "        # percentage of calls in ano_hour +3\n",
    "        self.X3=np.array( [0,   1,   2,  3,   4,   6, 7.5, 8.2,  9,   13,  15,  17,  19,  21,  23,  23.99    ]).reshape(-1,1)\n",
    "        self.y3=np.array([.05,.05, .05, .15,.25, .2, .05,  .05, .05, .05, .35, .15, .05, .05, .05, .05])\n",
    "        self.X3=np.array( [0,   1,   2,  3,   4,   6, 7.5, 8.2,  9,   13, 14, 16, 17,  19,  21,  23,  23.99    ]).reshape(-1,1)\n",
    "        self.y3=np.array([.05,.05, .05, .15,.25, .2, .05,  .05, .05, .05, .5, .2, .15, .05, .05, .05, .05])\n",
    "        self.quadratic3 = PolynomialFeatures(degree=8)\n",
    "        X_quad = self.quadratic3.fit_transform(self.X3)\n",
    "        self.pr3 = LinearRegression()\n",
    "        self.pr3.fit(X_quad, self.y3)\n",
    "        \n",
    "        self.cf = CallsFunction()\n",
    "        \n",
    "    def plot_ano_calls_rate(self):\n",
    "        fig = plt.figure(figsize=(15,13)) \n",
    "        X_fit = np.arange(0,24,0.1).reshape(-1,1)\n",
    "        title_fmt='Percent of calls due to anomaly for hour + %d'\n",
    "        \n",
    "        ax1 = fig.add_subplot(3, 1, 1)\n",
    "        y_quad_fit = self.pr1.predict(self.quadratic1.fit_transform(X_fit))\n",
    "        ax1.plot(X_fit,y_quad_fit)\n",
    "        ax1.scatter(self.X1,self.y1)\n",
    "        plt.xlim(0,24)\n",
    "        plt.ylim(0,1)\n",
    "        plt.grid(True)\n",
    "        plt.title(title_fmt % 1)\n",
    "        plt.xticks(np.arange(24), [ str(i) for i in np.arange(24)])\n",
    "\n",
    "        ax2 = fig.add_subplot(3, 1, 2)\n",
    "        y_quad_fit = self.pr2.predict(self.quadratic2.fit_transform(X_fit))\n",
    "        ax2.plot(X_fit,y_quad_fit)\n",
    "        ax2.scatter(self.X2,self.y2)\n",
    "        plt.xlim(0,24)\n",
    "        plt.ylim(0,1)\n",
    "        plt.grid(True)\n",
    "        plt.title(title_fmt % 2)\n",
    "        plt.xticks(np.arange(24), [ str(i) for i in np.arange(24)])\n",
    "\n",
    "        ax3 = fig.add_subplot(3, 1, 3)\n",
    "        y_quad_fit = self.pr3.predict(self.quadratic3.fit_transform(X_fit))\n",
    "        ax3.plot(X_fit,y_quad_fit)\n",
    "        ax3.scatter(self.X3,self.y3)\n",
    "        plt.xlim(0,24)\n",
    "        plt.ylim(0,1)\n",
    "        plt.grid(True)\n",
    "        plt.title(title_fmt % 3)\n",
    "        plt.xticks(np.arange(24), [ str(i) for i in np.arange(24)])\n",
    "        \n",
    "    def __get_percent(self, pr, quadratic, ano_hour_local):\n",
    "        return max(0.0, pr.predict(quadratic.fit_transform(np.array([ano_hour_local]).reshape(-1,1)))[0])\n",
    "        \n",
    "    def get_predicted_calls(self,population, ano_rating, ano_hour_local, debug=None):\n",
    "        # Get the normal calls adjusted for the population for the hour of the anomaly\n",
    "        normal_calls_for_ano = self.cf.get_calls_for_local_hour(ano_hour_local, population)\n",
    "        if (debug is True):\n",
    "            print('normal_calls at ano hour(%d): %s' % (ano_hour_local, str(normal_calls_for_ano)))\n",
    "\n",
    "        # Compute the calls added by the anomaly for hours +1, +2, +3.\n",
    "        # Assuming only ratings > 20 trigger additional calls.\n",
    "        # With the following formula, the rate of anomaly_calls/normal_calls is:\n",
    "        # rating = 100 ==> anomaly_calls = 1.90 * normal_calls\n",
    "        # rating =  50 ==> anomaly_calls = 1.49 * normal_calls\n",
    "        # rating =  25 ==> anomaly_calls = 0.77 * normal_calls\n",
    "        # rating =  23 ==> anomaly_calls = 0.60 * normal_calls\n",
    "        # rating =  21 ==> anomaly_calls = 0.30 * normal_calls\n",
    "        # rating =  20 ==> anomaly_calls = 0.00 * normal_calls\n",
    "        ano_calls_rate = np.log10(max(ano_rating-19,1))\n",
    "        if (debug is True):\n",
    "            print('ano_calls_rate for rating: ' + str(ano_calls_rate))\n",
    "        ano_calls = ano_calls_rate * normal_calls_for_ano\n",
    "        if (debug is True):\n",
    "            print('ano_calls for rating: ' + str(ano_calls))\n",
    "\n",
    "        # distribute anomaly_calls for hour +1, +2, +3\n",
    "        ano_calls_plus_1h = max(0,int(round(ano_calls * self.__get_percent(self.pr1, self.quadratic1, ano_hour_local))))\n",
    "        ano_calls_plus_2h = max(0,int(round(ano_calls * self.__get_percent(self.pr2, self.quadratic2, ano_hour_local))))\n",
    "        ano_calls_plus_3h = max(0,int(round(ano_calls * self.__get_percent(self.pr3, self.quadratic3, ano_hour_local))))\n",
    "        calls_due_to_ano = [ano_calls_plus_1h, ano_calls_plus_2h, ano_calls_plus_3h]\n",
    "\n",
    "        # compute normal calls for hour +1, +2, +3\n",
    "        next_hours = [ (ano_hour_local + 1 + i+24) % 24 for i in range(3)]\n",
    "        normal_calls = [self.cf.get_calls_for_local_hour(hour, population) for hour in next_hours]\n",
    "\n",
    "        predicted_calls = [a+b for a,b in zip(normal_calls, calls_due_to_ano)]\n",
    "        return normal_calls_for_ano, normal_calls, predicted_calls\n",
    "\n",
    "    \n",
    "    def plot_predicted_calls(self, population, ano_rating, ano_hour_local):\n",
    "        # plot the normal calls\n",
    "        ax = self.cf.plot(population)\n",
    "        ylim = self.cf.get_ylim(population) # max of the normal graph\n",
    "        \n",
    "        normal_calls_for_ano, normal_calls, predicted_calls = \\\n",
    "            self.get_predicted_calls(population, ano_rating, ano_hour_local, debug=True)\n",
    "        print('normal_calls: ' + str(normal_calls))\n",
    "        print('predicted calls: ' + str(predicted_calls))\n",
    "\n",
    "        # mark calls at the time of the anomaly with green cross\n",
    "        ax.scatter([ano_hour_local],[normal_calls_for_ano], c='g',marker='o', s=300)\n",
    "        \n",
    "        # plot the calls (normal calls + predicted calls (normal + due to ano)) for the 3 next hours\n",
    "        next_hours = [ (ano_hour_local + 1 + i+24) % 24 for i in range(3)]\n",
    "        ax.scatter(next_hours, normal_calls, c='g',marker='o', s=60)\n",
    "        ax.scatter(next_hours, predicted_calls, c='r',marker='o', s=60)\n",
    "        plt.grid(True)\n",
    "        plt.ylim(0, max(ylim, max(predicted_calls))*1.05)\n",
    "        plt.xticks(np.arange(24), [ str(i) for i in np.arange(24)])\n",
    "        plt.ylabel('Calls per hour')\n",
    "        plt.xlabel('Hour of the day (local to timezone)')"
   ]
  },
  {
   "cell_type": "code",
   "execution_count": 25,
   "metadata": {
    "collapsed": false
   },
   "outputs": [
    {
     "data": {
      "text/plain": [
       "(57.48116087835124,\n",
       " [51.594436320354795, 43.486797281200417, 37.818159447284962],\n",
       " [75.594436320354788, 50.486797281200417, 40.818159447284962])"
      ]
     },
     "execution_count": 25,
     "metadata": {},
     "output_type": "execute_result"
    }
   ],
   "source": [
    "postAnoCallFunction = PostAnomalyCallsFunction()\n",
    "postAnoCallFunction.get_predicted_calls(population=1000, ano_rating=29, ano_hour_local=10)"
   ]
  },
  {
   "cell_type": "markdown",
   "metadata": {},
   "source": [
    "### Combine +1, +2, +3h increases on a single graph, respecting spikes in peak hour in +1h while more spread during off peak hours"
   ]
  },
  {
   "cell_type": "code",
   "execution_count": 54,
   "metadata": {
    "collapsed": false
   },
   "outputs": [
    {
     "name": "stdout",
     "output_type": "stream",
     "text": [
      "normal_calls at ano hour(6): 37.0669672704\n",
      "ano_calls_rate for rating: 1.0\n",
      "ano_calls for rating: 37.0669672704\n",
      "normal_calls: [69.439612107610827, 98.212675338657576, 114.41381967777382]\n",
      "predicted calls: [85.439612107610827, 106.21267533865758, 120.41381967777382]\n"
     ]
    },
    {
     "data": {
      "image/png": "[encoded data removed]",
      "text/plain": [
       "<matplotlib.figure.Figure at 0xec77828>"
      ]
     },
     "metadata": {},
     "output_type": "display_data"
    },
    {
     "data": {
      "image/png": "[encoded data removed]",
      "text/plain": [
       "<matplotlib.figure.Figure at 0xcf16f60>"
      ]
     },
     "metadata": {},
     "output_type": "display_data"
    }
   ],
   "source": [
    "postAnoCallFunction = PostAnomalyCallsFunction()\n",
    "postAnoCallFunction.plot_predicted_calls(population=2000, ano_rating=29, ano_hour_local=6)\n",
    "postAnoCallFunction.plot_ano_calls_rate()"
   ]
  },
  {
   "cell_type": "markdown",
   "metadata": {},
   "source": [
    "### Example: off peak: +1h, +2h, +3h calls increase is moderate relatively to the expected call rate (blue curve)"
   ]
  },
  {
   "cell_type": "code",
   "execution_count": 28,
   "metadata": {
    "collapsed": false
   },
   "outputs": [
    {
     "name": "stdout",
     "output_type": "stream",
     "text": [
      "normal_calls at ano hour(12): 43.4867972812\n",
      "ano_calls_rate for rating: 1.0\n",
      "ano_calls for rating: 43.4867972812\n",
      "normal_calls: [37.818159447284962, 38.382455814834977, 46.947469961860044]\n",
      "predicted calls: [43.818159447284962, 44.382455814834977, 53.947469961860044]\n"
     ]
    },
    {
     "data": {
      "image/png": "[encoded data removed]",
      "text/plain": [
       "<matplotlib.figure.Figure at 0xd446be0>"
      ]
     },
     "metadata": {},
     "output_type": "display_data"
    }
   ],
   "source": [
    "postAnoCallFunction.plot_predicted_calls(population=1000, ano_rating=29, ano_hour_local=12)"
   ]
  },
  {
   "cell_type": "code",
   "execution_count": 29,
   "metadata": {
    "collapsed": false
   },
   "outputs": [],
   "source": [
    "class RowGenerator:\n",
    "    REGIONS_NB=4\n",
    "    POPULATION_MIN=200\n",
    "    POPULATION_MAX=700\n",
    "    region_names= [ 'utc-' + str(4+i) for i in range(0,REGIONS_NB) ]\n",
    "    RATINGS = [21,30,50,80,120,180]\n",
    "    RATINGS_PROBAS = [0.3, 0.25, 0.2, 0.12, 0.08, 0.05]\n",
    "    utc_cols= [ 'hr=%d' % i for i in range(0,24) ]\n",
    "\n",
    "    def __init__(self):\n",
    "        self.cf = PostAnomalyCallsFunction()\n",
    "        \n",
    "    @staticmethod\n",
    "    def get_header_columns():\n",
    "        header = []\n",
    "        header += RowGenerator.region_names\n",
    "        header += RowGenerator.utc_cols\n",
    "        header += ['rating', 'population', 'calls', 'calls+1', 'calls+2', 'calls+3']\n",
    "        return header\n",
    "\n",
    "    def __gen_region(self):\n",
    "        regions_cols=np.zeros(RowGenerator.REGIONS_NB)\n",
    "        region_idx = np.random.randint(RowGenerator.REGIONS_NB)\n",
    "        regions_cols[region_idx]=1\n",
    "        return (region_idx, RowGenerator.region_names[region_idx], regions_cols)\n",
    "    \n",
    "    def __gen_hour(self, region_idx):\n",
    "        ano_hour_utc = np.random.randint(24)\n",
    "        ano_hour_local = (ano_hour_utc - 4 - region_idx + 24) % 24\n",
    "        ano_utc_cols=np.zeros(24)\n",
    "        ano_utc_cols[ano_hour_utc] = 1\n",
    "        return (ano_hour_utc, ano_hour_local, ano_utc_cols)\n",
    "    \n",
    "    def __gen_population(self):\n",
    "        return np.random.randint(RowGenerator.POPULATION_MIN, RowGenerator.POPULATION_MAX)\n",
    "\n",
    "    def __gen_rating(self):\n",
    "        return np.random.choice(RowGenerator.RATINGS, p=RowGenerator.RATINGS_PROBAS)\n",
    "\n",
    "    def get_row(self, debug=None):\n",
    "        columns=[]\n",
    "\n",
    "        # pick region\n",
    "        region_idx, region_name, regions_cols = self.__gen_region()\n",
    "        columns += regions_cols.tolist()\n",
    "        if (debug is True):\n",
    "            print('region: %s' % region_name)\n",
    "\n",
    "        # select the UTC time of the anomaly (1 hour between 0-24) and local to the region\n",
    "        ano_hour_utc, ano_hour_local, ano_utc_cols = self.__gen_hour(region_idx)\n",
    "        if (debug is True):\n",
    "            print('ano_hour_utc: %d, ano_hour_local: %d' % (ano_hour_utc, ano_hour_local))\n",
    "        columns += ano_utc_cols.tolist()\n",
    "\n",
    "        # pick rating\n",
    "        rating = self.__gen_rating()\n",
    "        columns.append(rating)\n",
    "        \n",
    "        # pick population\n",
    "        population = self.__gen_population()\n",
    "        if (debug is True):\n",
    "            print('population: %d, rating: %d' % (population, rating))\n",
    "        columns.append(population)\n",
    "\n",
    "        # calls for the anomaly plus predicted calls\n",
    "        normal_calls_for_ano, _, predicted_calls = self.cf.get_predicted_calls(population, rating, ano_hour_local)\n",
    "\n",
    "        if (debug is True):\n",
    "            print('normal_calls_for_ano: %d, predicted_calls: %s' % (normal_calls_for_ano, str(predicted_calls)))\n",
    "        columns.append(normal_calls_for_ano)\n",
    "        columns += predicted_calls\n",
    "\n",
    "        return columns\n",
    "    \n",
    "    def plot_random(self):\n",
    "        region_idx, region_name, _ = self.__gen_region()\n",
    "        _, ano_hour_local,_ = self.__gen_hour(region_idx)\n",
    "        population = self.__gen_population()\n",
    "        rating = self.__gen_rating()\n",
    "        print('region_name: %s, rating: %d, population: %d, ano_hour_local: %d' % \\\n",
    "              (region_name, rating, population, ano_hour_local))\n",
    "        self.cf.plot_predicted_calls(population, rating, ano_hour_local)\n"
   ]
  },
  {
   "cell_type": "code",
   "execution_count": 30,
   "metadata": {
    "collapsed": false,
    "scrolled": true
   },
   "outputs": [
    {
     "name": "stdout",
     "output_type": "stream",
     "text": [
      "region: utc-5\n",
      "ano_hour_utc: 3, ano_hour_local: 22\n",
      "population: 585, rating: 21\n",
      "normal_calls_for_ano: 37, predicted_calls: [21.547515866340923, 13.685990641645127, 4.6384210025850621]\n"
     ]
    },
    {
     "data": {
      "text/plain": [
       "[0.0,\n",
       " 1.0,\n",
       " 0.0,\n",
       " 0.0,\n",
       " 0.0,\n",
       " 0.0,\n",
       " 0.0,\n",
       " 1.0,\n",
       " 0.0,\n",
       " 0.0,\n",
       " 0.0,\n",
       " 0.0,\n",
       " 0.0,\n",
       " 0.0,\n",
       " 0.0,\n",
       " 0.0,\n",
       " 0.0,\n",
       " 0.0,\n",
       " 0.0,\n",
       " 0.0,\n",
       " 0.0,\n",
       " 0.0,\n",
       " 0.0,\n",
       " 0.0,\n",
       " 0.0,\n",
       " 0.0,\n",
       " 0.0,\n",
       " 0.0,\n",
       " 21,\n",
       " 585,\n",
       " 37.035056721760277,\n",
       " 21.547515866340923,\n",
       " 13.685990641645127,\n",
       " 4.6384210025850621]"
      ]
     },
     "execution_count": 30,
     "metadata": {},
     "output_type": "execute_result"
    }
   ],
   "source": [
    "generator = RowGenerator()\n",
    "generator.get_row(True)"
   ]
  },
  {
   "cell_type": "markdown",
   "metadata": {},
   "source": [
    "## Use a random data generator to generate various configurations"
   ]
  },
  {
   "cell_type": "code",
   "execution_count": 38,
   "metadata": {
    "collapsed": false
   },
   "outputs": [
    {
     "name": "stdout",
     "output_type": "stream",
     "text": [
      "region_name: utc-6, rating: 50, population: 455, ano_hour_local: 16\n",
      "normal_calls at ano hour(16): 28.5522393729\n",
      "ano_calls_rate for rating: 1.49136169383\n",
      "ano_calls for rating: 42.581716074\n",
      "normal_calls: [37.607379823811868, 46.288891283601956, 51.92869087454249]\n",
      "predicted calls: [59.607379823811868, 60.288891283601956, 62.92869087454249]\n"
     ]
    },
    {
     "data": {
      "image/png": "[encoded data removed]",
      "text/plain": [
       "<matplotlib.figure.Figure at 0xebfb780>"
      ]
     },
     "metadata": {},
     "output_type": "display_data"
    }
   ],
   "source": [
    "generator.plot_random()"
   ]
  },
  {
   "cell_type": "markdown",
   "metadata": {},
   "source": [
    "## Use the generator to generate a larger data set"
   ]
  },
  {
   "cell_type": "code",
   "execution_count": 43,
   "metadata": {
    "collapsed": false,
    "scrolled": true
   },
   "outputs": [
    {
     "data": {
      "text/html": [
       "<div>\n",
       "<table border=\"1\" class=\"dataframe\">\n",
       "  <thead>\n",
       "    <tr style=\"text-align: right;\">\n",
       "      <th></th>\n",
       "      <th>utc-4</th>\n",
       "      <th>utc-5</th>\n",
       "      <th>utc-6</th>\n",
       "      <th>utc-7</th>\n",
       "      <th>hr=0</th>\n",
       "      <th>hr=1</th>\n",
       "      <th>hr=2</th>\n",
       "      <th>hr=3</th>\n",
       "      <th>hr=4</th>\n",
       "      <th>hr=5</th>\n",
       "      <th>...</th>\n",
       "      <th>hr=20</th>\n",
       "      <th>hr=21</th>\n",
       "      <th>hr=22</th>\n",
       "      <th>hr=23</th>\n",
       "      <th>rating</th>\n",
       "      <th>population</th>\n",
       "      <th>calls</th>\n",
       "      <th>calls+1</th>\n",
       "      <th>calls+2</th>\n",
       "      <th>calls+3</th>\n",
       "    </tr>\n",
       "  </thead>\n",
       "  <tbody>\n",
       "    <tr>\n",
       "      <th>0</th>\n",
       "      <td>0.0</td>\n",
       "      <td>0.0</td>\n",
       "      <td>1.0</td>\n",
       "      <td>0.0</td>\n",
       "      <td>0.0</td>\n",
       "      <td>0.0</td>\n",
       "      <td>0.0</td>\n",
       "      <td>0.0</td>\n",
       "      <td>0.0</td>\n",
       "      <td>0.0</td>\n",
       "      <td>...</td>\n",
       "      <td>0.0</td>\n",
       "      <td>0.0</td>\n",
       "      <td>0.0</td>\n",
       "      <td>0.0</td>\n",
       "      <td>30</td>\n",
       "      <td>356</td>\n",
       "      <td>1.404014</td>\n",
       "      <td>0.593245</td>\n",
       "      <td>2.215413</td>\n",
       "      <td>6.597920</td>\n",
       "    </tr>\n",
       "    <tr>\n",
       "      <th>1</th>\n",
       "      <td>0.0</td>\n",
       "      <td>0.0</td>\n",
       "      <td>1.0</td>\n",
       "      <td>0.0</td>\n",
       "      <td>0.0</td>\n",
       "      <td>0.0</td>\n",
       "      <td>0.0</td>\n",
       "      <td>0.0</td>\n",
       "      <td>1.0</td>\n",
       "      <td>0.0</td>\n",
       "      <td>...</td>\n",
       "      <td>0.0</td>\n",
       "      <td>0.0</td>\n",
       "      <td>0.0</td>\n",
       "      <td>0.0</td>\n",
       "      <td>180</td>\n",
       "      <td>639</td>\n",
       "      <td>40.453677</td>\n",
       "      <td>68.890363</td>\n",
       "      <td>24.764697</td>\n",
       "      <td>7.974275</td>\n",
       "    </tr>\n",
       "    <tr>\n",
       "      <th>2</th>\n",
       "      <td>0.0</td>\n",
       "      <td>0.0</td>\n",
       "      <td>0.0</td>\n",
       "      <td>1.0</td>\n",
       "      <td>0.0</td>\n",
       "      <td>0.0</td>\n",
       "      <td>1.0</td>\n",
       "      <td>0.0</td>\n",
       "      <td>0.0</td>\n",
       "      <td>0.0</td>\n",
       "      <td>...</td>\n",
       "      <td>0.0</td>\n",
       "      <td>0.0</td>\n",
       "      <td>0.0</td>\n",
       "      <td>0.0</td>\n",
       "      <td>50</td>\n",
       "      <td>635</td>\n",
       "      <td>72.471909</td>\n",
       "      <td>169.388491</td>\n",
       "      <td>73.583908</td>\n",
       "      <td>46.200446</td>\n",
       "    </tr>\n",
       "  </tbody>\n",
       "</table>\n",
       "<p>3 rows × 34 columns</p>\n",
       "</div>"
      ],
      "text/plain": [
       "   utc-4  utc-5  utc-6  utc-7  hr=0  hr=1  hr=2  hr=3  hr=4  hr=5    ...      \\\n",
       "0    0.0    0.0    1.0    0.0   0.0   0.0   0.0   0.0   0.0   0.0    ...       \n",
       "1    0.0    0.0    1.0    0.0   0.0   0.0   0.0   0.0   1.0   0.0    ...       \n",
       "2    0.0    0.0    0.0    1.0   0.0   0.0   1.0   0.0   0.0   0.0    ...       \n",
       "\n",
       "   hr=20  hr=21  hr=22  hr=23  rating  population      calls     calls+1  \\\n",
       "0    0.0    0.0    0.0    0.0      30         356   1.404014    0.593245   \n",
       "1    0.0    0.0    0.0    0.0     180         639  40.453677   68.890363   \n",
       "2    0.0    0.0    0.0    0.0      50         635  72.471909  169.388491   \n",
       "\n",
       "     calls+2    calls+3  \n",
       "0   2.215413   6.597920  \n",
       "1  24.764697   7.974275  \n",
       "2  73.583908  46.200446  \n",
       "\n",
       "[3 rows x 34 columns]"
      ]
     },
     "execution_count": 43,
     "metadata": {},
     "output_type": "execute_result"
    }
   ],
   "source": [
    "data = pd.DataFrame([generator.get_row() for i in range(1000)], columns=RowGenerator.get_header_columns())\n",
    "data[:3]"
   ]
  },
  {
   "cell_type": "code",
   "execution_count": 44,
   "metadata": {
    "collapsed": false,
    "scrolled": false
   },
   "outputs": [],
   "source": [
    "X=data.iloc[:,0:-3].values\n",
    "Y=data.iloc[:,-3:].values"
   ]
  },
  {
   "cell_type": "code",
   "execution_count": 45,
   "metadata": {
    "collapsed": false
   },
   "outputs": [],
   "source": [
    "from sklearn.model_selection import train_test_split\n",
    "X_train, X_test, Y_train, Y_test = train_test_split( X, Y, test_size=0.3, random_state=0)"
   ]
  },
  {
   "cell_type": "code",
   "execution_count": 46,
   "metadata": {
    "collapsed": true
   },
   "outputs": [],
   "source": [
    "from sklearn.preprocessing import StandardScaler  \n",
    "scaler = StandardScaler()  \n",
    "scaler.fit(X_train)  \n",
    "X_train_std = scaler.transform(X_train)  "
   ]
  },
  {
   "cell_type": "code",
   "execution_count": 47,
   "metadata": {
    "collapsed": true
   },
   "outputs": [],
   "source": [
    "from sklearn.neural_network import MLPRegressor\n",
    "regressor=MLPRegressor(hidden_layer_sizes=(100,100), activation='relu', solver='adam', alpha=0.0001, \n",
    "                       batch_size='auto', learning_rate='constant', learning_rate_init=0.001, \n",
    "                       power_t=0.5, max_iter=2000, shuffle=True, random_state=None, tol=0.0001, \n",
    "                       verbose=False, warm_start=False, momentum=0.9, nesterovs_momentum=True, \n",
    "                       early_stopping=False, validation_fraction=0.1, beta_1=0.9, beta_2=0.999, \n",
    "                       epsilon=1e-08)"
   ]
  },
  {
   "cell_type": "code",
   "execution_count": 48,
   "metadata": {
    "collapsed": false
   },
   "outputs": [
    {
     "data": {
      "text/plain": [
       "MLPRegressor(activation='relu', alpha=0.0001, batch_size='auto', beta_1=0.9,\n",
       "       beta_2=0.999, early_stopping=False, epsilon=1e-08,\n",
       "       hidden_layer_sizes=(100, 100), learning_rate='constant',\n",
       "       learning_rate_init=0.001, max_iter=2000, momentum=0.9,\n",
       "       nesterovs_momentum=True, power_t=0.5, random_state=None,\n",
       "       shuffle=True, solver='adam', tol=0.0001, validation_fraction=0.1,\n",
       "       verbose=False, warm_start=False)"
      ]
     },
     "execution_count": 48,
     "metadata": {},
     "output_type": "execute_result"
    }
   ],
   "source": [
    "regressor.fit(X_train_std,Y_train)"
   ]
  },
  {
   "cell_type": "code",
   "execution_count": 49,
   "metadata": {
    "collapsed": true
   },
   "outputs": [],
   "source": [
    "X_test_std = scaler.transform(X_test)  "
   ]
  },
  {
   "cell_type": "markdown",
   "metadata": {},
   "source": [
    "### Comparing expected calls increase to actual: results are faily good"
   ]
  },
  {
   "cell_type": "code",
   "execution_count": 50,
   "metadata": {
    "collapsed": false,
    "scrolled": true
   },
   "outputs": [
    {
     "data": {
      "text/plain": [
       "array([[  95.77760772,   91.33078777,   92.63042552],\n",
       "       [  28.2010991 ,   12.86174022,    7.18313825],\n",
       "       [  65.20936444,   37.34175784,   29.31619591],\n",
       "       [  21.54976504,   15.80243523,   15.69678115],\n",
       "       [  77.76584101,   42.01105918,   31.57653095],\n",
       "       [  54.64588509,   26.0342186 ,    9.29938089],\n",
       "       [  49.88179539,   62.00959581,   71.39080542],\n",
       "       [   3.79767928,    0.89201762,    0.98577095],\n",
       "       [  72.31316715,   18.68073469,    7.52348619],\n",
       "       [  32.07750108,   39.65226932,   48.91590068],\n",
       "       [  47.7952165 ,   36.48919173,   31.04470096],\n",
       "       [  79.21992708,   33.80137076,   13.47030578],\n",
       "       [   3.1081483 ,    7.17564837,   14.09360779],\n",
       "       [  55.21846011,   19.20061351,    7.09972674],\n",
       "       [  41.90537311,   50.38523635,   53.91458376],\n",
       "       [   1.59112222,    7.94907731,   14.8168349 ],\n",
       "       [  55.70257418,   37.53205926,   31.05817918],\n",
       "       [  21.07027699,   29.00313338,   34.22124027],\n",
       "       [   2.14662278,    0.79926608,    5.16394743],\n",
       "       [  45.12061895,   29.78899194,   22.40889458],\n",
       "       [  -1.91829277,    4.62339463,   11.15716678],\n",
       "       [  -0.47453175,    2.24779116,    7.64919096],\n",
       "       [  19.10292412,    8.8408422 ,    6.86190859],\n",
       "       [  66.50535345,   18.65319407,   11.15067235],\n",
       "       [   9.13399656,   17.25800874,   24.21475637],\n",
       "       [  49.92215709,   40.59823958,   34.13141203],\n",
       "       [  36.77831407,   21.64046113,   16.32555295],\n",
       "       [  13.15506103,   11.0818075 ,   15.31688177],\n",
       "       [   0.36736828,    2.2049628 ,    4.71271847],\n",
       "       [  72.77975038,   24.57789043,   11.81796198],\n",
       "       [  18.48046581,   16.90383246,   16.87702094],\n",
       "       [  23.45000904,   17.81397613,   13.36856208],\n",
       "       [  21.99122206,   21.77684549,   20.39592944],\n",
       "       [  76.22248501,   33.50794768,   21.70707584],\n",
       "       [  44.20482012,   33.36945188,   25.9689603 ],\n",
       "       [  70.44195776,   69.10963932,   70.99054184],\n",
       "       [  77.63884841,   39.66072821,   25.05965586],\n",
       "       [   3.86166765,    0.49912273,   -0.57584855],\n",
       "       [  23.24440753,   16.99660893,   16.9250023 ],\n",
       "       [ 122.7693484 ,   88.79591717,   81.39615898],\n",
       "       [   5.53884384,    2.87468726,    2.30928958],\n",
       "       [   4.05054488,    1.69989041,    1.45813032],\n",
       "       [   0.66482731,    4.37940755,   12.33588149],\n",
       "       [   8.21114791,    5.01613038,    2.97095584],\n",
       "       [  20.84315804,   29.939264  ,   38.48292183],\n",
       "       [  12.40336024,    9.85203029,   10.08503569],\n",
       "       [  30.60217156,   12.191233  ,    4.10809294],\n",
       "       [  15.61804276,   19.96567895,   23.29403718],\n",
       "       [  33.71016856,   22.63427417,   16.99593203],\n",
       "       [  62.32581669,   24.29802584,   10.88094146],\n",
       "       [  15.16744285,   15.54313877,   16.99597747],\n",
       "       [   7.77096608,   11.65792802,   14.46849705],\n",
       "       [ 106.47458719,   65.38136719,   51.54863761],\n",
       "       [   1.60238766,    1.18698488,    6.01397149],\n",
       "       [  28.42105508,   18.73117962,   15.43968291],\n",
       "       [  10.6311603 ,   19.33004085,   26.84181111],\n",
       "       [  25.06881549,    8.70617182,    8.01788704],\n",
       "       [  -3.19177572,   -2.19487672,   -3.25837809],\n",
       "       [   4.59895557,   14.61672132,   24.59101488],\n",
       "       [  47.06982469,   38.81386203,   35.61813408],\n",
       "       [  26.58774291,   38.09447489,   49.74319518],\n",
       "       [   4.76605714,    2.06873802,    2.37251541],\n",
       "       [  25.38676168,   31.09399053,   36.04823647],\n",
       "       [ 149.3999094 ,   97.44628033,   84.89508249],\n",
       "       [  34.44873809,   48.44288435,   60.09191616],\n",
       "       [  77.97161197,   25.34179608,   11.89527689],\n",
       "       [   4.94708736,    2.17029822,    2.55910126],\n",
       "       [  53.84433337,   43.82956284,   36.89197414],\n",
       "       [   5.80076781,    2.91140055,    2.24095753],\n",
       "       [  24.55627793,   20.38426693,   19.77086979],\n",
       "       [  27.8381455 ,   29.03844166,   28.37802891],\n",
       "       [  11.38984804,    6.1861574 ,    2.65635414],\n",
       "       [  21.81306599,   20.62953927,   18.49549366],\n",
       "       [  13.79868331,   16.87879611,   22.87291234],\n",
       "       [  29.4443418 ,   39.62983108,   49.69337663],\n",
       "       [  26.89729711,   36.27522073,   45.41710822],\n",
       "       [   1.85033462,    3.9484016 ,   10.80941725],\n",
       "       [  -4.30019556,   -2.115718  ,   -0.11780311],\n",
       "       [  32.08069854,   24.63050085,   22.6932218 ],\n",
       "       [   1.89989758,    0.81331299,    2.9974519 ],\n",
       "       [   3.16716178,    1.17596634,    0.80570552],\n",
       "       [   9.73662787,    4.28874064,    3.58013482],\n",
       "       [   2.29995663,    0.86586171,    2.69797439],\n",
       "       [  33.2348252 ,   25.5360337 ,   21.23664932],\n",
       "       [   1.13338543,    0.46663769,    0.58459914],\n",
       "       [  64.17329878,   34.17948652,   22.77827383],\n",
       "       [  57.14825378,   27.49784271,   17.3435023 ],\n",
       "       [   3.15134171,   12.24544787,   21.36091029],\n",
       "       [  38.71986033,   53.05873623,   64.98147734],\n",
       "       [   0.30163106,   -0.13530914,    1.70710273],\n",
       "       [  10.50111855,   16.39733662,   21.73747041],\n",
       "       [   4.50277369,   10.26194946,   18.80789292],\n",
       "       [  42.68465891,   53.45298938,   63.46238985],\n",
       "       [  24.94711938,   30.54463582,   38.49214584],\n",
       "       [  10.04584768,    3.66030863,    1.99448696],\n",
       "       [  43.32818052,   54.93789434,   65.92652172],\n",
       "       [  43.42092554,   19.83362232,    6.25494288],\n",
       "       [  40.12923693,   25.08746254,   17.71839142],\n",
       "       [  -2.37815491,   -0.51987681,    0.50207486],\n",
       "       [   3.60562953,    2.37806377,    3.51217756],\n",
       "       [   7.79316457,    3.50499955,    2.03239203],\n",
       "       [   8.43926424,    2.32180093,    1.80074932],\n",
       "       [  69.56073174,   39.23370226,   26.93775437],\n",
       "       [  27.66277604,   37.59111524,   48.46580299],\n",
       "       [  31.50954095,   38.37752555,   48.98553066],\n",
       "       [  61.95099561,   15.02186026,    7.46046777],\n",
       "       [  27.95580846,   22.72109403,   23.62190172],\n",
       "       [  48.19269315,   12.29314185,    6.4935504 ],\n",
       "       [  35.75413134,   10.49722863,    5.85051802],\n",
       "       [  28.87749662,   25.47057516,   22.7787637 ],\n",
       "       [  13.20203866,   22.57822506,   29.8511669 ],\n",
       "       [  24.34242399,   10.22782286,    4.58836012],\n",
       "       [   7.12087454,    1.00560624,    0.7978561 ],\n",
       "       [  -1.09756112,    3.45970963,    7.85322397],\n",
       "       [  18.9776365 ,   15.82346878,   12.63535488],\n",
       "       [  29.87111641,    8.99704196,    3.26145843],\n",
       "       [  39.86143423,   15.8646538 ,    9.0868214 ],\n",
       "       [ 107.16273287,   71.71941865,   57.31343645],\n",
       "       [   1.37140948,    5.59286174,   10.36525688],\n",
       "       [  -4.91943439,    8.37136029,   15.93391425],\n",
       "       [   4.86156285,    2.21616481,    1.24660407],\n",
       "       [  31.91215124,   23.53647062,   19.31558878],\n",
       "       [   0.91293139,   -0.32119964,    2.18602791],\n",
       "       [  27.27395677,   18.73545772,   14.57326251],\n",
       "       [  14.04447209,   21.80186875,   27.89461473],\n",
       "       [  81.16409012,   78.3227294 ,   79.95040818],\n",
       "       [   8.42491867,    3.34343283,    2.14450777],\n",
       "       [  30.68088702,   20.41679345,   16.5307346 ],\n",
       "       [   2.89161684,    0.9381528 ,    0.51628102],\n",
       "       [  11.32693717,   13.02750197,   14.67285335],\n",
       "       [  25.6830295 ,   35.59822129,   42.648778  ],\n",
       "       [  18.02055799,   24.97560164,   33.05592045],\n",
       "       [   4.09299499,    2.29616693,    1.14640423],\n",
       "       [  22.16699782,   16.92160114,   13.50032982],\n",
       "       [  44.3186711 ,   36.07124586,   32.44594106],\n",
       "       [  14.87126894,   24.47097221,   29.32858801],\n",
       "       [   8.32653018,    8.84030233,   12.59664436],\n",
       "       [  49.66481265,   30.51802552,   21.84466297],\n",
       "       [  25.83653748,   19.09126203,   14.65654768],\n",
       "       [  10.37735857,    5.93859944,    3.95746265],\n",
       "       [  13.21664431,    3.87004915,    3.15272635],\n",
       "       [ 119.10450963,   54.94771206,   34.29102554],\n",
       "       [  33.48149762,   43.68230552,   52.96254435],\n",
       "       [  53.82579461,   48.00299591,   44.28928141],\n",
       "       [  36.29021578,   15.20996718,    5.44218585],\n",
       "       [  25.00703162,   33.86829775,   42.90013177],\n",
       "       [  25.03620176,    8.68632346,    7.9881068 ],\n",
       "       [  -1.33869722,    1.28671642,    4.65574783],\n",
       "       [  -3.0109855 ,    6.03021742,   13.1698147 ],\n",
       "       [   6.87541037,   27.3186599 ,   39.41553001],\n",
       "       [  74.6942105 ,   32.37578191,   12.43948768],\n",
       "       [   4.42831227,    2.02965742,    3.38091323],\n",
       "       [  22.79588773,    6.452679  ,    4.28743177],\n",
       "       [  72.32338095,   30.21235203,   10.36035201],\n",
       "       [   4.87065432,   12.44383845,   18.80666854],\n",
       "       [  32.08022369,   22.47956704,   20.96144132],\n",
       "       [   2.88715291,    0.5944984 ,   -0.20718592],\n",
       "       [  71.74200504,   71.76973636,   74.92015707],\n",
       "       [  99.14498757,   29.59640151,    9.85999084],\n",
       "       [  17.22085242,   21.30168474,   27.72684864],\n",
       "       [  18.97525981,    6.06524908,    5.29761779],\n",
       "       [   0.74853797,   10.0771864 ,   18.41741059],\n",
       "       [   1.27071078,    0.63485427,    1.43406096],\n",
       "       [  33.0265194 ,   43.066848  ,   52.24924686],\n",
       "       [  60.99842066,   53.80103983,   51.00976989],\n",
       "       [ 114.44384128,   38.76613863,   12.59875591],\n",
       "       [  42.87408559,   16.17630799,    6.99922817],\n",
       "       [  21.0386988 ,   28.73046915,   38.39485377],\n",
       "       [   1.91706288,    5.70930777,   10.34193233],\n",
       "       [  87.4916332 ,   34.08271781,   13.34899071],\n",
       "       [  61.17468201,   24.5790582 ,    8.44820288],\n",
       "       [   9.51448481,    3.56465439,    2.02409722],\n",
       "       [   8.61577901,   14.06407903,   17.66938541],\n",
       "       [   2.46748322,   -0.85218694,   -1.63035601],\n",
       "       [  24.1797398 ,   20.07969663,   19.49817877],\n",
       "       [  49.56384941,   38.32926005,   32.74294599],\n",
       "       [  80.80800426,   21.43694704,    8.80481783],\n",
       "       [  61.36972684,   42.63197679,   35.54643115],\n",
       "       [  15.01775332,   12.36240671,   11.62052861],\n",
       "       [  19.98011286,   19.87530315,   24.94778725],\n",
       "       [  61.95757719,   64.17628043,   66.25452156],\n",
       "       [   3.52811034,   12.00437471,   21.36493953],\n",
       "       [   3.77442647,    8.44698991,   11.29984089],\n",
       "       [  97.89436447,   53.3942831 ,   41.11163983],\n",
       "       [  29.41948327,   35.75591115,   43.18429083],\n",
       "       [  20.20491705,   12.61455781,   11.23556579],\n",
       "       [  38.71833306,   50.74616619,   63.57022151],\n",
       "       [   4.82455501,    2.71824031,    1.89210896],\n",
       "       [  21.67056838,   22.44121656,   27.84111512],\n",
       "       [  42.89900482,   40.35356902,   38.21973091],\n",
       "       [   5.59237866,    2.31010472,    1.98712198],\n",
       "       [   8.47616145,   15.36360314,   22.09920335],\n",
       "       [  35.94069577,   27.73839531,   21.62216527],\n",
       "       [  13.45447653,   18.39186842,   21.58762974],\n",
       "       [  25.00410423,   35.6503145 ,   46.66584387],\n",
       "       [  30.21821549,   31.60105303,   37.25993932],\n",
       "       [  23.29864714,   15.39509095,   12.80302101],\n",
       "       [   3.70078909,    9.04315814,   12.64155798],\n",
       "       [  19.35845975,   28.3256533 ,   39.20188113],\n",
       "       [ 103.46611143,   45.90367921,   28.59167897],\n",
       "       [ 136.7398183 ,   33.85394431,   14.41987138],\n",
       "       [   2.91823383,    1.1394547 ,    0.46461742],\n",
       "       [   2.31189973,    0.8768928 ,    2.72157163],\n",
       "       [  20.6685311 ,   15.26980863,   14.38192148],\n",
       "       [  27.18473619,   34.7347665 ,   45.13767295],\n",
       "       [  36.31322453,   35.46014811,   34.44761044],\n",
       "       [  37.82448953,   39.12703839,   40.34667277],\n",
       "       [  25.13265064,   20.02764639,   14.7458526 ],\n",
       "       [  52.17965585,   11.85320795,    4.68929282],\n",
       "       [  77.642463  ,   75.75124657,   77.39138593],\n",
       "       [   1.99839501,    1.05837182,    2.04349175],\n",
       "       [  27.01197593,   29.22866443,   36.82644778],\n",
       "       [  31.89368593,   28.05076552,   23.16260685],\n",
       "       [  88.09992144,   19.92658272,    6.29261951],\n",
       "       [  54.33943563,   11.18401909,    5.06545209],\n",
       "       [  18.92195641,    7.30316965,    2.74388936],\n",
       "       [   0.84474412,    2.20651917,    7.15927284],\n",
       "       [  -2.47299327,    0.08185996,    1.60465553],\n",
       "       [  29.91378545,   36.39155442,   43.9872199 ],\n",
       "       [  66.24814764,   27.44404613,    9.25394385],\n",
       "       [  69.52235911,   30.51067276,   20.18442284],\n",
       "       [ 108.82427105,   87.65747188,   69.3265929 ],\n",
       "       [  14.58956172,   17.66893996,   22.65577996],\n",
       "       [ 134.1542494 ,   38.5849274 ,   13.06235319],\n",
       "       [  17.17589236,   21.42581452,   26.19003881],\n",
       "       [   1.89670328,    8.09740915,   16.27517825],\n",
       "       [  23.56067722,   18.01666058,   15.00520012],\n",
       "       [  52.25736582,   58.66601617,   63.11046725],\n",
       "       [   6.51150004,    2.90739378,    4.3939617 ],\n",
       "       [  20.97247647,   22.43917934,   27.77995329],\n",
       "       [  26.88760379,   19.92123137,   20.20087825],\n",
       "       [  33.27383885,   41.48187257,   47.60183977],\n",
       "       [  67.96664037,   67.93847722,   71.14148931],\n",
       "       [  14.26984484,   13.29070541,   16.21230069],\n",
       "       [  22.38884802,   15.51926535,   10.78233574],\n",
       "       [  36.33338257,   49.59262366,   60.93180424],\n",
       "       [  35.64894418,   27.10907346,   22.33738576],\n",
       "       [  49.57144433,   49.20374984,   52.36550271],\n",
       "       [  18.28627525,   24.71142385,   29.00540127],\n",
       "       [  10.98870289,   14.3503526 ,   19.37014275],\n",
       "       [  71.89295094,   80.53022436,   86.65469001],\n",
       "       [   3.62091659,    8.8077225 ,   16.25724098],\n",
       "       [   2.99284929,    6.98259114,   12.88965555],\n",
       "       [  -0.19819717,    2.84397642,    8.23339656],\n",
       "       [  10.55394513,   12.40911403,   13.18195779],\n",
       "       [  41.90067264,   29.61911589,   24.16108268],\n",
       "       [   3.14955254,    5.57887798,   10.40256229],\n",
       "       [ 163.52908621,   74.34750472,   46.00460569],\n",
       "       [  52.81981388,   52.85178388,   51.72585419],\n",
       "       [  82.23217659,   36.20276661,   23.12738562],\n",
       "       [  37.34486751,   23.23756465,   16.44655462],\n",
       "       [  18.95962991,   23.36871768,   30.66636649],\n",
       "       [   5.66882161,   16.27988872,   26.70293908],\n",
       "       [  39.7081429 ,   54.03465903,   65.65831099],\n",
       "       [ 136.40160669,   35.57247187,   13.45107979],\n",
       "       [   5.71139862,    1.84487644,    1.64158443],\n",
       "       [  40.89536114,   47.23908767,   52.84994405],\n",
       "       [  27.24316438,   24.86445362,   20.91536389],\n",
       "       [  22.06521949,   26.70743172,   30.59012082],\n",
       "       [   9.53114601,   14.54519032,   20.04405807],\n",
       "       [ 100.40881182,   70.29437278,   57.54739338],\n",
       "       [   0.31395677,   -0.1230206 ,    1.67373786],\n",
       "       [   3.37067261,    0.92820814,    0.06200503],\n",
       "       [  94.81018735,   41.91962937,   26.30349385],\n",
       "       [  17.55257045,   22.02678516,   26.16510186],\n",
       "       [ 105.25361934,   34.55620392,   15.14219136],\n",
       "       [  52.20615081,   29.65253162,   23.64712321],\n",
       "       [  44.39416516,   24.62883021,   18.9530707 ],\n",
       "       [  38.47795714,   39.82133618,   41.05983186],\n",
       "       [  99.36542299,   91.09418294,   93.98027963],\n",
       "       [  27.68626246,    9.90933117,    4.17634229],\n",
       "       [  10.63909213,   14.22377903,   19.63307804],\n",
       "       [ 101.28327461,   43.98548583,   18.61835372],\n",
       "       [  -3.36391   ,   -2.35852643,   -3.51150327],\n",
       "       [  59.39650248,   61.76470686,   63.80819523],\n",
       "       [   6.12866743,    2.34264212,    0.68825576],\n",
       "       [  18.6257047 ,   12.58130608,   12.06340053],\n",
       "       [   1.42656578,    5.54043056,    9.63729921],\n",
       "       [  15.08541713,   14.59479939,   13.28372664],\n",
       "       [  23.73595061,   18.53227193,   14.93439226],\n",
       "       [  34.56753435,   42.55270819,   49.91631027],\n",
       "       [  67.40435913,   49.95687686,   45.32318485],\n",
       "       [  15.5527653 ,    4.49212824,    4.36382219],\n",
       "       [  37.73961995,   21.65212477,   16.19679525],\n",
       "       [  78.20712049,   73.26166197,   71.24059863],\n",
       "       [  14.91057514,   21.35885648,   27.97312424],\n",
       "       [   1.98883622,    0.39476992,    0.26396197],\n",
       "       [  40.54909461,   26.81864715,   20.08634541],\n",
       "       [  11.32905951,    3.93081608,    2.83565091],\n",
       "       [  31.86122429,   40.07736111,   47.72428306],\n",
       "       [  53.14113716,   39.48946557,   37.52477754],\n",
       "       [  35.34914107,   23.45369782,   18.7318586 ],\n",
       "       [  28.89043246,   22.68923149,   21.76769818],\n",
       "       [  87.5188856 ,   48.43368451,   35.39732868],\n",
       "       [   1.2658741 ,    9.80084562,   18.23204216],\n",
       "       [  22.90697841,    9.14076245,    2.78436977],\n",
       "       [  32.88561205,   21.63848764,   17.36403731],\n",
       "       [   5.35918972,    2.28777111,    1.90567608],\n",
       "       [  54.17952664,   40.80372933,   31.9966304 ],\n",
       "       [  44.88620657,   55.58484247,   60.2149086 ]])"
      ]
     },
     "execution_count": 50,
     "metadata": {},
     "output_type": "execute_result"
    }
   ],
   "source": [
    "np.set_printoptions(suppress=True)\n",
    "regressor.predict(X_test_std)"
   ]
  },
  {
   "cell_type": "code",
   "execution_count": 51,
   "metadata": {
    "collapsed": false,
    "scrolled": true
   },
   "outputs": [
    {
     "data": {
      "text/plain": [
       "array([[  90.27893235,   91.50154211,   95.09139072],\n",
       "       [  21.72158871,   13.82582301,    4.68195766],\n",
       "       [  60.71839532,   34.04839523,   25.78325984],\n",
       "       [  21.91636414,   16.71126402,   16.93077531],\n",
       "       [  67.87463471,   37.84139867,   29.53658063],\n",
       "       [  49.40508273,   26.06988455,    9.8475492 ],\n",
       "       [  50.64323509,   61.94723459,   70.78481373],\n",
       "       [   3.43571057,    1.94826692,    0.82321084],\n",
       "       [  77.05827527,   17.41420476,   10.16900804],\n",
       "       [  27.91036534,   39.62306113,   49.33494803],\n",
       "       [  44.5212771 ,   38.47923943,   32.03441028],\n",
       "       [ 108.43737521,   39.88259189,   14.70201922],\n",
       "       [   2.60746637,    7.76552964,   14.54759874],\n",
       "       [  48.84513335,   16.47291322,   11.62606248],\n",
       "       [  40.780844  ,   48.27155301,   52.78740097],\n",
       "       [   2.89372759,    8.61806989,   16.14470982],\n",
       "       [  58.7550204 ,   38.71731786,   31.83398672],\n",
       "       [  20.54725081,   28.64686811,   33.20749024],\n",
       "       [   0.37494421,    1.40019077,    4.17003382],\n",
       "       [  44.0818672 ,   29.1877281 ,   21.91545242],\n",
       "       [   0.94319299,    3.52225767,   11.48995174],\n",
       "       [   0.73155781,    2.73192777,    8.13619932],\n",
       "       [  21.44388325,    6.18573903,    5.68063404],\n",
       "       [  72.80635947,   18.27927089,   11.66721197],\n",
       "       [   9.52621059,   17.84598031,   25.24065756],\n",
       "       [  42.95566376,   39.13282993,   34.33000586],\n",
       "       [  41.46329327,   24.36761933,   16.48129983],\n",
       "       [   6.8936478 ,   12.04089833,   16.61581538],\n",
       "       [   0.4449338 ,    1.66155971,    4.94844013],\n",
       "       [  68.89036348,   24.76469747,    7.97427525],\n",
       "       [  20.04702087,   16.69453617,   16.92871916],\n",
       "       [  22.02626425,   18.07775842,   14.3941299 ],\n",
       "       [  23.64704847,   22.39314244,   20.48611354],\n",
       "       [  82.3392632 ,   36.06458496,   22.62541467],\n",
       "       [  36.90204429,   29.63491216,   24.13517249],\n",
       "       [  72.50025519,   69.84957523,   70.92320556],\n",
       "       [  59.96702076,   41.95680324,   27.08280918],\n",
       "       [   3.30609985,    1.46052474,    0.82821063],\n",
       "       [  24.26445486,   18.88362697,   18.12063144],\n",
       "       [ 119.70041818,   89.85242777,   81.7766286 ],\n",
       "       [   4.36616178,    1.90882832,    0.80654666],\n",
       "       [   4.33289005,    2.45702488,    1.03817886],\n",
       "       [   0.99651839,    3.72139591,   11.08302321],\n",
       "       [   8.70683576,    4.1451083 ,    3.35054066],\n",
       "       [  21.79772919,   28.79921328,   37.61553684],\n",
       "       [  13.13242377,    9.81163115,    9.9431122 ],\n",
       "       [  32.94326897,   10.7978141 ,    7.87056464],\n",
       "       [  17.08936688,   20.5130893 ,   23.56700501],\n",
       "       [  33.70155198,   22.1341908 ,   17.63999016],\n",
       "       [  47.75637968,   24.99365213,    9.42480088],\n",
       "       [  12.24234279,   15.48636961,   17.8760384 ],\n",
       "       [   5.26350935,    9.86042492,   13.9461999 ],\n",
       "       [ 109.5863039 ,   64.52692569,   51.83610453],\n",
       "       [   0.48326143,    1.80469032,    5.37471025],\n",
       "       [  30.53458566,   20.30774532,   16.05162746],\n",
       "       [  11.28608342,   20.26949236,   28.25401741],\n",
       "       [  25.70357193,    7.26659283,    6.77104747],\n",
       "       [   5.52378315,    1.70394553,    1.96624574],\n",
       "       [   4.10722626,   12.2320992 ,   22.915072  ],\n",
       "       [  47.40133642,   39.92145569,   36.07448777],\n",
       "       [  27.19668824,   37.01571334,   48.12069877],\n",
       "       [   4.40207913,    3.8043192 ,    2.15729151],\n",
       "       [  24.70418278,   30.95322476,   35.94442168],\n",
       "       [ 131.93856237,   96.36326557,   87.28457631],\n",
       "       [  33.83984969,   48.21203945,   60.01357414],\n",
       "       [  83.1615675 ,   24.68872246,    8.73380758],\n",
       "       [   4.53268911,    3.95037167,    2.24011257],\n",
       "       [  46.47276779,   41.66200101,   36.60016106],\n",
       "       [   5.78012682,    3.10883123,    2.76290549],\n",
       "       [  26.39530792,   20.73671678,   21.00137178],\n",
       "       [  26.81657377,   28.74535127,   28.87836303],\n",
       "       [  10.21158906,    6.79305519,    1.80366169],\n",
       "       [  22.07564566,   19.56252132,   18.64671639],\n",
       "       [  12.37539086,   16.86823055,   21.26644163],\n",
       "       [  28.91500342,   40.63920029,   51.62477728],\n",
       "       [  26.80236727,   36.81535244,   46.90536609],\n",
       "       [   1.00984974,    3.77118047,   12.23129108],\n",
       "       [   2.93345656,    1.09639313,    0.4632644 ],\n",
       "       [  30.67828156,   25.59448754,   22.69321792],\n",
       "       [   1.98376166,    0.83820861,    3.13020425],\n",
       "       [   3.40093617,    1.92854762,    0.81487875],\n",
       "       [   9.32744485,    3.72086064,    3.10996519],\n",
       "       [   1.94826692,    0.82321084,    3.07419662],\n",
       "       [  32.99607321,   25.43958007,   22.25380561],\n",
       "       [   1.58571257,    0.89920012,    0.37994347],\n",
       "       [  62.82088187,   33.97170718,   23.04760988],\n",
       "       [  56.29738917,   27.92451076,   18.27010184],\n",
       "       [   4.20057231,   12.51010145,   24.43586909],\n",
       "       [  37.36090993,   51.91845253,   65.2125928 ],\n",
       "       [   1.73529847,    0.73322423,    2.73815084],\n",
       "       [  11.42233833,   15.93098273,   20.34909521],\n",
       "       [   3.36668092,   10.02661465,   18.78341508],\n",
       "       [  42.82745682,   54.87273803,   63.46227398],\n",
       "       [  22.73204051,   31.0381176 ,   38.97877923],\n",
       "       [  10.05274387,    2.88451549,    3.10732855],\n",
       "       [  46.27479162,   58.09622773,   68.42989324],\n",
       "       [  42.68311333,   22.33472498,    8.38036384],\n",
       "       [  40.30621115,   25.39397148,   18.51021962],\n",
       "       [   1.14371945,    0.48326143,    1.80469032],\n",
       "       [   1.98770552,    0.83987503,    3.13642732],\n",
       "       [   6.37585782,    2.65676405,    2.50655458],\n",
       "       [  14.15262413,    3.91561311,    3.14210295],\n",
       "       [  55.54709207,   38.04732728,   25.1835755 ],\n",
       "       [  27.37285944,   36.81164343,   47.84763077],\n",
       "       [  28.0657998 ,   37.43606367,   48.34561338],\n",
       "       [  64.1835755 ,   14.49940352,    8.63085201],\n",
       "       [  27.83115759,   23.46398671,   23.79917875],\n",
       "       [  48.16933552,   11.13698642,    5.73312703],\n",
       "       [  40.73910562,   10.36079435,    5.9129115 ],\n",
       "       [  28.77649424,   24.70890136,   22.80818024],\n",
       "       [  12.26835805,   22.10964208,   30.8566533 ],\n",
       "       [  27.86711869,   12.72953489,    3.71793159],\n",
       "       [   7.47224097,    2.01512548,    2.25338102],\n",
       "       [   0.80654666,    3.01196592,    9.97020608],\n",
       "       [  19.66953665,   15.96238653,   12.61117121],\n",
       "       [  24.80241341,    8.3856619 ,    5.93288756],\n",
       "       [  41.08930387,   18.92450589,    6.02403143],\n",
       "       [ 110.51552611,   72.44471891,   59.27358482],\n",
       "       [   1.57443673,    4.68897136,    8.78411093],\n",
       "       [  13.17308489,   14.32488061,   16.62886942],\n",
       "       [   4.26879346,    1.85361428,    0.78321679],\n",
       "       [  26.68279496,   22.10486604,   19.1868671 ],\n",
       "       [   2.17701081,    0.91986313,    4.43513469],\n",
       "       [  26.93100347,   19.00258299,   14.46614788],\n",
       "       [   9.98873956,   17.83910594,   24.81657377],\n",
       "       [  78.59214922,   79.0402962 ,   82.47739456],\n",
       "       [   5.95732655,    2.24405643,    0.94819225],\n",
       "       [  30.81883149,   20.8994613 ,   16.16876428],\n",
       "       [   2.57180281,    0.8913124 ,    0.37661063],\n",
       "       [  10.60363753,   11.75428795,   13.52831325],\n",
       "       [  30.58674801,   37.43283222,   42.99643649],\n",
       "       [  19.40340823,   25.59885238,   33.40020416],\n",
       "       [   4.49890506,    1.67612601,    0.9504703 ],\n",
       "       [  22.75938274,   17.83013951,   14.31136457],\n",
       "       [  42.40584982,   35.43183419,   31.56813696],\n",
       "       [  11.15634903,   21.02645372,   28.91027304],\n",
       "       [   8.54690404,    8.67443501,   10.61012821],\n",
       "       [  52.56813696,   31.64243485,   23.61293825],\n",
       "       [  29.56641496,   19.66500293,   15.04623552],\n",
       "       [  11.15464142,    5.64585964,    3.63449859],\n",
       "       [  15.04915173,    3.81744396,    4.1505605 ],\n",
       "       [ 117.76073317,   58.69168963,   36.74305168],\n",
       "       [  32.936822  ,   42.74821594,   52.15477671],\n",
       "       [  54.58873497,   47.12952633,   43.31711404],\n",
       "       [  35.85122451,   16.12666118,    5.46427436],\n",
       "       [  25.01836341,   34.43076982,   43.76452997],\n",
       "       [  25.68359588,    7.26037331,    6.7640926 ],\n",
       "       [   0.37661063,    1.40641384,    4.1885673 ],\n",
       "       [   2.51412031,    7.48752739,   14.02680165],\n",
       "       [  27.63739581,   33.54811386,   38.21494662],\n",
       "       [  65.43091671,   33.92005042,   12.93112521],\n",
       "       [   0.81243519,    0.34328225,    1.28195244],\n",
       "       [  19.60728381,    5.30256676,    5.69304112],\n",
       "       [  86.28438401,   31.60219612,   11.84225114],\n",
       "       [  11.13502448,   15.17349785,   18.93501752],\n",
       "       [  27.91675682,   20.45089936,   19.69636828],\n",
       "       [   1.8847724 ,    1.0687861 ,    0.45159947],\n",
       "       [  71.45947012,   72.95360485,   75.77094501],\n",
       "       [ 106.40508273,   31.06988455,   10.8475492 ],\n",
       "       [  16.58327706,   22.0606728 ,   29.47738283],\n",
       "       [  19.50860093,    4.96049299,    5.31052274],\n",
       "       [   3.44758083,   10.26754993,   19.23477255],\n",
       "       [   1.41978966,    0.59991074,    2.24030523],\n",
       "       [  32.56030896,   42.25229445,   51.54437375],\n",
       "       [  65.89699845,   55.87985436,   52.82704453],\n",
       "       [ 123.75203899,   38.47689589,   13.75705238],\n",
       "       [  31.4395981 ,   16.9535629 ,    6.26662222],\n",
       "       [  22.38108404,   28.92910655,   38.32140463],\n",
       "       [   1.69267506,    5.04110755,    9.44378725],\n",
       "       [ 104.10979444,   38.36320494,   14.10519805],\n",
       "       [  77.21111766,   27.94326897,   10.7978141 ],\n",
       "       [   9.19018148,    2.55000446,    2.85150068],\n",
       "       [  13.65210608,   15.65156187,   17.90352094],\n",
       "       [   2.45356986,    0.82426677,    0.34828151],\n",
       "       [  26.04741355,   20.43417151,   20.69431213],\n",
       "       [  47.46146994,   40.41719902,   33.68311333],\n",
       "       [  88.23658937,   20.05546296,   11.4874275 ],\n",
       "       [  67.776696  ,   44.73321328,   36.10121814],\n",
       "       [  11.87169932,    9.45453986,    9.59561395],\n",
       "       [  21.37962549,   21.65387353,   26.8164704 ],\n",
       "       [  62.26045146,   62.32356782,   65.21127069],\n",
       "       [   4.10722626,   12.2320992 ,   22.915072  ],\n",
       "       [   4.1885673 ,    7.84667617,   11.09803231],\n",
       "       [ 102.51579178,   54.46915624,   43.42879891],\n",
       "       [  29.67890773,   36.49052229,   41.01511251],\n",
       "       [  17.45396486,   11.654069  ,    9.3956314 ],\n",
       "       [  37.03227764,   51.47918731,   64.63401772],\n",
       "       [   5.58110208,    2.88627508,    2.63670197],\n",
       "       [  22.821078  ,   23.14667701,   28.08869017],\n",
       "       [  43.54414203,   40.58269792,   37.75328207],\n",
       "       [   5.54378494,    2.8445458 ,    2.61303881],\n",
       "       [   8.932331  ,   15.86007699,   22.01751252],\n",
       "       [  31.90118329,   25.1461962 ,   20.35182113],\n",
       "       [  15.77688863,   20.07113226,   22.05214282],\n",
       "       [  25.83521161,   35.19590028,   45.72374489],\n",
       "       [  27.64871506,   27.95682087,   34.6333186 ],\n",
       "       [  22.24227871,   15.30096843,   12.04120937],\n",
       "       [   4.37390214,    8.19387423,   11.58909569],\n",
       "       [  22.34064543,   27.1027933 ,   35.89020899],\n",
       "       [ 108.28303503,   47.37490805,   29.70296244],\n",
       "       [ 130.74568238,   28.18347601,   14.80345219],\n",
       "       [   2.78195188,    1.57754406,    0.66656749],\n",
       "       [   1.9600985 ,    0.8282101 ,    3.09286583],\n",
       "       [  17.82880154,   14.0261747 ,   14.20562095],\n",
       "       [  27.1021261 ,   35.70364536,   47.03992209],\n",
       "       [  34.401076  ,   34.98327838,   33.94531311],\n",
       "       [  38.21749953,   38.80801131,   40.43979434],\n",
       "       [  24.92314256,   19.78037482,   15.82919421],\n",
       "       [  52.53625763,   11.88831093,    6.53336651],\n",
       "       [  79.55028071,   76.83453275,   78.51552611],\n",
       "       [   1.58148793,    0.6682339 ,    2.4954511 ],\n",
       "       [  26.86762106,   27.25359978,   33.11206945],\n",
       "       [  30.1435578 ,   27.26889052,   23.5786574 ],\n",
       "       [  91.89420116,   20.13536366,   10.74831356],\n",
       "       [  55.0931031 ,   11.71423809,    6.39353414],\n",
       "       [  17.99837725,    7.01518653,    2.25012414],\n",
       "       [   0.6499033 ,    2.42699733,    7.22805862],\n",
       "       [   1.40795808,    0.59491148,    2.22163602],\n",
       "       [  30.0608256 ,   37.030692  ,   41.64438852],\n",
       "       [  76.726205  ,   27.62673003,   10.67347636],\n",
       "       [  75.26132737,   32.4460566 ,   20.91610436],\n",
       "       [  97.3196487 ,   83.22834813,   70.40285984],\n",
       "       [  13.43591568,   17.21098027,   23.33170452],\n",
       "       [ 116.75637968,   30.99365213,   10.42480088],\n",
       "       [  16.7427262 ,   21.10113446,   25.27970811],\n",
       "       [   2.86261224,    8.52540247,   15.97111078],\n",
       "       [  24.27424493,   18.34746995,   14.7757145 ],\n",
       "       [  46.62306113,   56.33494803,   63.64610757],\n",
       "       [   6.36766445,    2.47674418,    1.04651095],\n",
       "       [  22.10253297,   22.41741034,   27.19668824],\n",
       "       [  28.39550426,   21.60653445,   21.88416826],\n",
       "       [  32.47334803,   41.23489699,   46.67619253],\n",
       "       [  68.2278234 ,   69.20679152,   71.68946226],\n",
       "       [  12.55126649,   13.70870517,   16.09834412],\n",
       "       [  18.45862519,   14.87228833,   12.06399286],\n",
       "       [  35.95248584,   50.0358873 ,   62.73298534],\n",
       "       [  34.02796194,   26.30931602,   23.0101688 ],\n",
       "       [  51.48285774,   51.98139401,   53.85269344],\n",
       "       [  17.81758275,   23.15115998,   28.26466564],\n",
       "       [  10.51884904,   14.64297255,   18.56253926],\n",
       "       [  80.36158593,   85.60327594,   90.20551971],\n",
       "       [   2.93728908,    8.74780428,   16.38774846],\n",
       "       [   2.35854356,    7.0241903 ,   13.15880649],\n",
       "       [   0.73322423,    2.73815084,    8.1547328 ],\n",
       "       [   9.25643947,   11.26322457,   12.95624416],\n",
       "       [  45.90728094,   30.87746047,   25.0150348 ],\n",
       "       [   1.53709831,    4.57777046,    8.5757921 ],\n",
       "       [ 169.38849074,   73.58390791,   46.20044619],\n",
       "       [  51.44034413,   51.73307913,   50.67698511],\n",
       "       [  88.84721091,   38.19820067,   24.01818604],\n",
       "       [  37.34833095,   23.26443046,   16.39432624],\n",
       "       [  20.03975423,   26.06531088,   33.49352199],\n",
       "       [   4.34992599,   12.95490506,   24.26914443],\n",
       "       [  40.58855249,   52.50949564,   62.93856237],\n",
       "       [ 129.35119187,   35.2985818 ,   12.11579417],\n",
       "       [   5.97819119,    2.25588801,    0.9531915 ],\n",
       "       [  41.2767655 ,   48.88195598,   53.47217491],\n",
       "       [  27.45483303,   24.56727596,   21.15371889],\n",
       "       [  23.15158419,   27.25853081,   30.26021346],\n",
       "       [  10.17340694,   14.22044532,   18.99776969],\n",
       "       [ 106.68946226,   70.62075694,   57.72186431],\n",
       "       [   1.71557917,    0.72489214,    2.70703549],\n",
       "       [   3.11428343,    1.19893349,    0.50659129],\n",
       "       [  99.86310633,   43.46543208,   26.80372876],\n",
       "       [  10.85981329,   19.47093682,   27.12457164],\n",
       "       [ 115.35765036,   36.26112327,   12.88668818],\n",
       "       [  50.551429  ,   29.22194975,   23.19489714],\n",
       "       [  41.53503879,   25.62389612,   18.71659737],\n",
       "       [  38.63076745,   39.31668045,   41.0104393 ],\n",
       "       [ 100.03912862,   96.9755347 ,   98.37945585],\n",
       "       [  11.45183531,    4.85995823,    3.18884239],\n",
       "       [  10.862235  ,   14.286134  ,   18.75886537],\n",
       "       [  82.62054108,   43.52990976,   16.31311181],\n",
       "       [   4.38073412,    1.54398329,    1.87553696],\n",
       "       [  59.77268699,   60.49235894,   63.15694886],\n",
       "       [   4.84097883,    2.05864439,    2.16738261],\n",
       "       [  20.69814481,   14.04290256,   14.2076771 ],\n",
       "       [   1.78602111,    5.3191098 ,    9.96458434],\n",
       "       [  11.36143725,   12.07065798,   12.12852495],\n",
       "       [  24.51487995,   19.13399447,   15.77017249],\n",
       "       [  34.42270023,   43.11961535,   50.4576824 ],\n",
       "       [  67.33401872,   49.15172921,   45.11126795],\n",
       "       [  18.06673302,    4.44561579,    4.85300335],\n",
       "       [  37.17588747,   23.10964715,   16.26386585],\n",
       "       [  92.47961225,   78.48287988,   73.40865712],\n",
       "       [  15.78845304,   20.76693495,   27.03587834],\n",
       "       [   3.20469687,    1.25020367,    0.52825473],\n",
       "       [  42.62929885,   29.60984698,   19.67579783],\n",
       "       [  14.16708046,    5.6597694 ,    4.64238631],\n",
       "       [  32.85793066,   42.37573311,   49.54207795],\n",
       "       [  51.12825527,   38.18986076,   35.15741293],\n",
       "       [  35.45034935,   24.5435947 ,   18.54210835],\n",
       "       [  29.22136074,   21.58544414,   21.84784195],\n",
       "       [  76.78180118,   47.94854581,   35.36941728],\n",
       "       [   3.66538828,   10.91622186,   20.44996577],\n",
       "       [  13.7978141 ,    8.87056464,    2.45049209],\n",
       "       [  33.28879649,   21.78629643,   17.33744488],\n",
       "       [   5.66672428,    2.64633017,    1.11816696],\n",
       "       [  45.62734011,   36.67146121,   29.22312777],\n",
       "       [  46.57475176,   54.17211498,   59.40688244]])"
      ]
     },
     "execution_count": 51,
     "metadata": {},
     "output_type": "execute_result"
    }
   ],
   "source": [
    "Y_test"
   ]
  },
  {
   "cell_type": "markdown",
   "metadata": {
    "collapsed": true
   },
   "source": [
    "### This notebook with synthetic data shows the ability of a simple neural network to predict increases of subscriber calls following network element anomalies of various of configurations. However nothing replace real wild data that might require much more cleansing, feature engineering and tuning\n"
   ]
  }
 ],
 "metadata": {
  "anaconda-cloud": {},
  "kernelspec": {
   "display_name": "Python [Root]",
   "language": "python",
   "name": "Python [Root]"
  },
  "language_info": {
   "codemirror_mode": {
    "name": "ipython",
    "version": 2
   },
   "file_extension": ".py",
   "mimetype": "text/x-python",
   "name": "python",
   "nbconvert_exporter": "python",
   "pygments_lexer": "ipython2",
   "version": "2.7.12"
  }
 },
 "nbformat": 4,
 "nbformat_minor": 0
}
