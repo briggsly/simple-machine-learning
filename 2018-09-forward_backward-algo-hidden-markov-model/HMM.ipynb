{
 "cells": [
  {
   "cell_type": "markdown",
   "metadata": {},
   "source": [
    "# Implementation of the Forward-Backward Algorithm for Hidden Markov Model\n",
    "\n",
    "The Forward-Backward allows to compute the **probabilities of hidden states** given observations given the known transition probabilities, emission probabilities and initial hidden state probabilities\n"
   ]
  },
  {
   "cell_type": "code",
   "execution_count": 44,
   "metadata": {},
   "outputs": [
    {
     "data": {
      "text/html": [
       "<style>.container { width:100% !important; }</style>"
      ],
      "text/plain": [
       "<IPython.core.display.HTML object>"
      ]
     },
     "metadata": {},
     "output_type": "display_data"
    }
   ],
   "source": [
    "import numpy as np\n",
    "from IPython.core.display import display, HTML\n",
    "display(HTML(\"<style>.container { width:100% !important; }</style>\"))\n",
    "import numpy as np\n",
    "\n",
    "%matplotlib inline\n",
    "import matplotlib.pyplot as plt\n",
    "\n",
    "np.set_printoptions(precision=5)\n",
    "np.set_printoptions(suppress=True)"
   ]
  },
  {
   "cell_type": "markdown",
   "metadata": {},
   "source": [
    "\n",
    "This is a (simple) implementation of the Forward-Backward Algorithm inspired from\n",
    "https://www.youtube.com/watch?v=7zDARfKVm7s&t=5s\n",
    "\n",
    "\n",
    "![hmm_algo](hmm_algo.png)"
   ]
  },
  {
   "cell_type": "markdown",
   "metadata": {},
   "source": [
    "#### Notation:\n",
    "\n",
    "- `T`: transition matrix probabilities: probability of going from hidden state *Z=i* to hidden state *Z=j* \n",
    "- `E`: emission probabilities: probability of going from hidden stats *Z=i* to observable state *X=j*\n",
    "- `pz_init`: probabilities for initial hidden states"
   ]
  },
  {
   "cell_type": "code",
   "execution_count": 3,
   "metadata": {},
   "outputs": [],
   "source": [
    "# transition matrix\n",
    "T=np.array([[0.2, 0.3, 0.5],\n",
    "            [0.7, 0.2, 0.1],\n",
    "            [0.4, 0.5, 0.1]])\n",
    "\n",
    "# emission matrix\n",
    "E=np.array([[0.2, 0.8],\n",
    "            [0.4, 0.6],\n",
    "            [0.7, 0.3]])\n",
    "\n",
    "nz=T.shape[0] # number of states of z\n",
    "nx = E.shape[1] # number of states of x\n",
    "x_obs = np.array([0, 1, 1, 0]) #  observed x states\n",
    "pz_init=np.array([0.1, 0.6, 0.3]) # initial probas of z\n",
    "if len(pz_init) != nz:\n",
    "    raise Exception('number of initial probas of z should be %d' % nz)\n",
    "\n",
    "def p_xk_given_zk(xk, zk):\n",
    "    return E[zk, xk]\n",
    "def p_zk_given_zk_prev(zk, zk_prev):\n",
    "    return T[zk_prev, zk]\n",
    "\n"
   ]
  },
  {
   "cell_type": "markdown",
   "metadata": {},
   "source": [
    "## Forward phase"
   ]
  },
  {
   "cell_type": "code",
   "execution_count": 4,
   "metadata": {},
   "outputs": [
    {
     "data": {
      "text/plain": [
       "array([ 0.02,  0.24,  0.21])"
      ]
     },
     "execution_count": 4,
     "metadata": {},
     "output_type": "execute_result"
    }
   ],
   "source": [
    "# initialize alpha\n",
    "def init_alpha():\n",
    "    alpha=np.zeros(nz)\n",
    "    for z0 in range(nz):\n",
    "        alpha[z0] = pz_init[z0] * p_xk_given_zk(x_obs[0],z0)\n",
    "    return alpha\n",
    "\n",
    "alpha = init_alpha()\n",
    "alpha"
   ]
  },
  {
   "cell_type": "code",
   "execution_count": 5,
   "metadata": {},
   "outputs": [],
   "source": [
    "def alpha_k_zk(k, zk, alpha_k_prev, debug=False):\n",
    "    total=0.0\n",
    "    xk=x_obs[k]\n",
    "    for zk_prev in range(nz):\n",
    "        \n",
    "        if debug is True:\n",
    "            print('zk_prev: %d' % zk_prev )\n",
    "            print('p_xk_given_zk(xk, zk): %.5f' % p_xk_given_zk(xk, zk))\n",
    "            print('p_zk_given_zk_prev(zk, zk_prev): %.5f' % p_zk_given_zk_prev(zk, zk_prev))\n",
    "            print('alpha_k_prev: %.5f' % alpha_k_prev[zk_prev])\n",
    "        \n",
    "        total += p_xk_given_zk(xk, zk) * \\\n",
    "                 p_zk_given_zk_prev(zk, zk_prev) * \\\n",
    "                 alpha_k_prev[zk_prev]\n",
    "    return total\n",
    "\n",
    "def alpha_k_inc(k, alpha_k_prev, debug):\n",
    "    new_alpha = np.zeros(nz)\n",
    "    for zk in range(nz):\n",
    "        new_alpha[zk] = alpha_k_zk(k, zk, alpha_k_prev, debug)\n",
    "    return new_alpha\n",
    "\n",
    "def alpha_k(k, debug=False):\n",
    "    alpha = init_alpha()\n",
    "    for ik in range(0,k):\n",
    "        alpha = alpha_k_inc(ik+1,alpha, debug)\n",
    "        if debug is True:\n",
    "            print(alpha)\n",
    "    return alpha"
   ]
  },
  {
   "cell_type": "code",
   "execution_count": 6,
   "metadata": {},
   "outputs": [
    {
     "name": "stdout",
     "output_type": "stream",
     "text": [
      "[ 0.02  0.24  0.21]\n",
      "[ 0.01384  0.02205  0.03813]\n"
     ]
    }
   ],
   "source": [
    "print(alpha_k(0))\n",
    "print(alpha_k(len(x_obs)-1))"
   ]
  },
  {
   "cell_type": "markdown",
   "metadata": {},
   "source": [
    "### Below  is an implementation of forward phase with the log-sum-exp trick to avoid numerical underflow problems"
   ]
  },
  {
   "cell_type": "code",
   "execution_count": 10,
   "metadata": {},
   "outputs": [],
   "source": [
    "def init_log_alpha():\n",
    "    alpha = init_alpha()\n",
    "    return np.log(alpha)\n",
    "\n",
    "def log_alpha_k_zk(k, zk, log_alpha_k_prev, debug=False):\n",
    "    total=0.0\n",
    "    xk=x_obs[k]\n",
    "             \n",
    "    ais=np.zeros(nz)\n",
    "    for zk_prev in range(nz):\n",
    "        \n",
    "        p_kx_zk = p_xk_given_zk(xk, zk)\n",
    "        log_p_kx_zk = np.log(p_kx_zk)\n",
    "        \n",
    "        p_zk_zk_prev = p_zk_given_zk_prev(zk, zk_prev)\n",
    "        log_p_zk_zk_prev = np.log(p_zk_zk_prev)\n",
    "        if debug:\n",
    "            print('zk_prev: %d' % zk_prev )\n",
    "            print('p_xk_given_zk(xk, zk): %.5f; log: %.5f' % (p_kx_zk, log_p_kx_zk))\n",
    "            print('p_zk_given_zk_prev(zk, zk_prev): %.5f; log: %.5f' % (p_zk_zk_prev,log_p_zk_zk_prev))\n",
    "            print('log_alpha_k_prev: %.5f' % log_alpha_k_prev[zk_prev])\n",
    "        \n",
    "        ais[zk_prev] = log_p_kx_zk + log_p_zk_zk_prev + log_alpha_k_prev[zk_prev]\n",
    "        \n",
    "    b = np.max(ais)\n",
    "    exp_ais = np.exp(ais-b)\n",
    "    sum_e_ais = np.sum(exp_ais)\n",
    "    log_alpha = b + np.log(sum_e_ais)\n",
    "    return log_alpha\n",
    "    \n",
    "def log_alpha_k(k, log_alpha_k_prev, debug=False):\n",
    "    new_log_alpha = np.zeros(nz)\n",
    "    for zk in range(nz):\n",
    "        new_log_alpha[zk] = log_alpha_k_zk(k, zk, log_alpha_k_prev, debug)\n",
    "    return new_log_alpha"
   ]
  },
  {
   "cell_type": "code",
   "execution_count": 11,
   "metadata": {},
   "outputs": [
    {
     "data": {
      "text/plain": [
       "array([-3.91202, -1.42712, -1.56065])"
      ]
     },
     "execution_count": 11,
     "metadata": {},
     "output_type": "execute_result"
    }
   ],
   "source": [
    "log_alpha = init_log_alpha()\n",
    "log_alpha"
   ]
  },
  {
   "cell_type": "code",
   "execution_count": 12,
   "metadata": {
    "scrolled": true
   },
   "outputs": [
    {
     "name": "stdout",
     "output_type": "stream",
     "text": [
      "[-1.58572 -2.34968 -4.10439]\n",
      "[-2.39172 -2.93253 -3.37913]\n",
      "[-4.28007 -3.81431 -3.26678]\n"
     ]
    }
   ],
   "source": [
    "for k in range(1,len(x_obs)):\n",
    "    log_alpha = log_alpha_k(k,log_alpha)\n",
    "    print(log_alpha)"
   ]
  },
  {
   "cell_type": "markdown",
   "metadata": {},
   "source": [
    "Check that we obtain the same results as without the log-sum-exp trick"
   ]
  },
  {
   "cell_type": "code",
   "execution_count": 13,
   "metadata": {},
   "outputs": [
    {
     "name": "stdout",
     "output_type": "stream",
     "text": [
      "[ 0.01384  0.02205  0.03813]\n",
      "[ 0.01384  0.02205  0.03813]\n"
     ]
    }
   ],
   "source": [
    "print(np.exp(log_alpha))\n",
    "print(alpha_k(len(x_obs)-1))"
   ]
  },
  {
   "cell_type": "markdown",
   "metadata": {},
   "source": [
    "**With the simple examples in this notebook, we won't use this trick**"
   ]
  },
  {
   "cell_type": "markdown",
   "metadata": {},
   "source": [
    "## Backward phase"
   ]
  },
  {
   "cell_type": "code",
   "execution_count": 14,
   "metadata": {},
   "outputs": [],
   "source": [
    "def beta_k_zk(k, zk, beta_k_next, debug=False):\n",
    "    total=0.0\n",
    "    xk_next=x_obs[k+1]\n",
    "    for zk_next in range(nz):\n",
    "        \n",
    "        p_xk_next_zk_next = p_xk_given_zk(xk_next,zk_next)\n",
    "        p_zk_next_zk      = p_zk_given_zk_prev(zk_next, zk)\n",
    "        if debug is True:\n",
    "            print('zk_next: %d' % zk_next )\n",
    "            print('p(xk+1|zk+1): %.5f' % p_xk_next_zk_next)\n",
    "            print('p(zk+1|zk): %.5f' % p_zk_next_zk)\n",
    "            print('beta_k_next: %.5f' % beta_k_next[zk_next])\n",
    "        \n",
    "        total += beta_k_next[zk_next] * p_xk_next_zk_next * p_zk_next_zk\n",
    "    return total\n",
    "\n",
    "def beta_k_inc(k, beta_k_next, debug=False):\n",
    "    new_beta = np.zeros(nz)\n",
    "    for zk in range(nz):\n",
    "        new_beta[zk] = beta_k_zk(k, zk, beta_k_next, debug)\n",
    "    return new_beta\n",
    "\n",
    "def beta_k(k, debug=False):\n",
    "    beta = np.ones(nz) # initialize beta\n",
    "\n",
    "    for ik in range(len(x_obs)-1, k,-1):\n",
    "        beta = beta_k_inc(ik-1, beta, debug)\n",
    "        if debug is True:\n",
    "            print(beta)\n",
    "    return beta"
   ]
  },
  {
   "cell_type": "code",
   "execution_count": 15,
   "metadata": {
    "scrolled": true
   },
   "outputs": [
    {
     "data": {
      "text/plain": [
       "array([ 0.12848,  0.15186,  0.16671])"
      ]
     },
     "execution_count": 15,
     "metadata": {},
     "output_type": "execute_result"
    }
   ],
   "source": [
    "beta_k(0, False)"
   ]
  },
  {
   "cell_type": "code",
   "execution_count": 16,
   "metadata": {},
   "outputs": [
    {
     "name": "stdout",
     "output_type": "stream",
     "text": [
      "[ 0.12848  0.15186  0.16671]\n",
      "[ 1.  1.  1.]\n"
     ]
    }
   ],
   "source": [
    "print(beta_k(0))\n",
    "print(beta_k(len(x_obs)-1))"
   ]
  },
  {
   "cell_type": "code",
   "execution_count": 17,
   "metadata": {},
   "outputs": [],
   "source": [
    "def p_zk_x(k):\n",
    "    return alpha_k(k) * beta_k(k)"
   ]
  },
  {
   "cell_type": "code",
   "execution_count": 20,
   "metadata": {},
   "outputs": [
    {
     "name": "stdout",
     "output_type": "stream",
     "text": [
      "unnormalized probabilities\n",
      "[[ 0.00257  0.03645  0.03501]\n",
      " [ 0.03815  0.03157  0.0043 ]\n",
      " [ 0.04665  0.01545  0.01193]\n",
      " [ 0.01384  0.02205  0.03813]]\n"
     ]
    }
   ],
   "source": [
    "p_zk_x_values = np.zeros((len(x_obs),nz))\n",
    "for k in range(len(x_obs)):\n",
    "    p_zk_x_values[k] = p_zk_x(k)\n",
    "print('unnormalized probabilities')\n",
    "print(p_zk_x_values)"
   ]
  },
  {
   "cell_type": "code",
   "execution_count": 52,
   "metadata": {},
   "outputs": [
    {
     "name": "stdout",
     "output_type": "stream",
     "text": [
      "Probabilities of the hidden state for each observation\n",
      "[[ 1.       0.       0.     ]\n",
      " [ 0.00235  0.99378  0.00386]\n",
      " [ 0.02152  0.00408  0.9744 ]\n",
      " [ 0.97336  0.00446  0.02218]\n",
      " [ 0.00521  0.98957  0.00522]\n",
      " [ 0.02256  0.00459  0.97285]\n",
      " [ 0.97263  0.00463  0.02274]\n",
      " [ 0.0056   0.98881  0.00559]\n",
      " [ 0.02512  0.00609  0.96879]\n",
      " [ 0.95639  0.00694  0.03667]\n",
      " [ 0.02961  0.95235  0.01805]]\n"
     ]
    }
   ],
   "source": [
    "normalization_constant = np.sum(p_zk_x_values, axis=1).reshape(-1,1)\n",
    "z_probas = p_zk_x_values / normalization_constant\n",
    "print('Probabilities of the hidden state for each observation')\n",
    "print(z_probas)"
   ]
  },
  {
   "cell_type": "markdown",
   "metadata": {},
   "source": [
    "## Check the algo with a simple example\n",
    "Use probabilities that yield an **almost deterministic** behavior.\n",
    "\n",
    "- The most likely hidden state sequence is 0,1,2,0,1,2,0,1,2...etc...   \n",
    "- The most likely observable sequence is   1,0,1,1,0,1,1,0,1,1...etc...\n",
    "\n",
    "<img src=\"HMM1.png\" align=\"left\" style=\"width: 700px;\"/>"
   ]
  },
  {
   "cell_type": "code",
   "execution_count": 58,
   "metadata": {},
   "outputs": [],
   "source": [
    "# transition matrix\n",
    "T=np.array([[0.1, 0.8, 0.1],\n",
    "            [0.1, 0.1, 0.8],\n",
    "            [0.8, 0.1, 0.1]])\n",
    "\n",
    "# emission matrix\n",
    "E=np.array([[0.1, 0.9],\n",
    "            [0.9, 0.1],\n",
    "            [0.1, 0.9]])\n",
    "\n",
    "nz=T.shape[0] # number of states of z\n",
    "nx = E.shape[1] # number of states of x\n",
    "x_obs = np.array([1, 0, 1, 1, 0, 1, 1, 0, 1, 1, 0]) #  observed x states\n",
    "pz_init=np.array([1.0, 0.0, 0.0]) # initial probas of z\n",
    "if len(pz_init) != nz:\n",
    "    raise Exception('number of initial probas of z should be %d' % nz)"
   ]
  },
  {
   "cell_type": "code",
   "execution_count": 59,
   "metadata": {},
   "outputs": [
    {
     "name": "stdout",
     "output_type": "stream",
     "text": [
      "Probabilities of the hidden state for each observation\n",
      "[[ 1.       0.       0.     ]\n",
      " [ 0.00235  0.99378  0.00386]\n",
      " [ 0.02152  0.00408  0.9744 ]\n",
      " [ 0.97336  0.00446  0.02218]\n",
      " [ 0.00521  0.98957  0.00522]\n",
      " [ 0.02256  0.00459  0.97285]\n",
      " [ 0.97263  0.00463  0.02274]\n",
      " [ 0.0056   0.98881  0.00559]\n",
      " [ 0.02512  0.00609  0.96879]\n",
      " [ 0.95639  0.00694  0.03667]\n",
      " [ 0.02961  0.95235  0.01805]]\n"
     ]
    }
   ],
   "source": [
    "p_zk_x_values = np.zeros((len(x_obs),nz))\n",
    "for k in range(len(x_obs)):\n",
    "    p_zk_x_values[k] = p_zk_x(k)\n",
    "normalization_constant = np.sum(p_zk_x_values, axis=1).reshape(-1,1)\n",
    "z_probas = p_zk_x_values / normalization_constant\n",
    "print('Probabilities of the hidden state for each observation')\n",
    "print(z_probas)"
   ]
  },
  {
   "cell_type": "code",
   "execution_count": 60,
   "metadata": {},
   "outputs": [
    {
     "data": {
      "image/png": "[encoded data removed]",
      "text/plain": [
       "<Figure size 720x576 with 1 Axes>"
      ]
     },
     "metadata": {},
     "output_type": "display_data"
    }
   ],
   "source": [
    "def show_hidden_state_probabilities(z_probas):\n",
    "    ax = plt.figure(figsize=(10,8)).add_subplot(1, 1, 1)\n",
    "    _ = ax.matshow(z_probas.T, cmap=plt.cm.Blues)\n",
    "    ax.set_ylabel('Hidden state',fontsize=20)\n",
    "    ax.set_xlabel('Sequence step',fontsize=20)\n",
    "    ax.set_title('Hidden State Probabilities',fontsize=20)\n",
    "    \n",
    "show_hidden_state_probabilities(z_probas)"
   ]
  },
  {
   "cell_type": "markdown",
   "metadata": {},
   "source": [
    "## Verify we obtain the same probabilities with HMMLEARN"
   ]
  },
  {
   "cell_type": "code",
   "execution_count": 61,
   "metadata": {},
   "outputs": [
    {
     "name": "stdout",
     "output_type": "stream",
     "text": [
      "Probabilities of the hidden state for each observation\n",
      "[[ 1.       0.       0.     ]\n",
      " [ 0.00235  0.99378  0.00386]\n",
      " [ 0.02152  0.00408  0.9744 ]\n",
      " [ 0.97336  0.00446  0.02218]\n",
      " [ 0.00521  0.98957  0.00522]\n",
      " [ 0.02256  0.00459  0.97285]\n",
      " [ 0.97263  0.00463  0.02274]\n",
      " [ 0.0056   0.98881  0.00559]\n",
      " [ 0.02512  0.00609  0.96879]\n",
      " [ 0.95639  0.00694  0.03667]\n",
      " [ 0.02961  0.95235  0.01805]]\n"
     ]
    }
   ],
   "source": [
    "# conda install -c omnia hmmlearn\n",
    "# better create in a separate conda env since uses numpy 1.12 (downgrade from 1.14)\n",
    "from hmmlearn import hmm\n",
    "\n",
    "# Create a Multinomial HMM with hidden state that can take 3 values\n",
    "hmm_model = hmm.MultinomialHMM(n_components=3, n_iter=0, random_state=1000, init_params='')\n",
    "# Reuse the same par\n",
    "hmm_model.transmat_ = T.copy()\n",
    "hmm_model.emissionprob_ = E.copy()\n",
    "hmm_model.startprob_ = pz_init.copy()\n",
    "\n",
    "# Use the same observations\n",
    "observations = x_obs.reshape(-1,1)\n",
    "\n",
    "# # Fit the model using the Forward-Backward algorithm\n",
    "#hmm_model.fit(observations)\n",
    "\n",
    "z_probas=hmm_model.predict_proba(observations, lengths=None)\n",
    "print('Probabilities of the hidden state for each observation')\n",
    "print(z_probas)"
   ]
  },
  {
   "cell_type": "code",
   "execution_count": 62,
   "metadata": {},
   "outputs": [
    {
     "data": {
      "image/png": "[encoded data removed]",
      "text/plain": [
       "<Figure size 720x576 with 1 Axes>"
      ]
     },
     "metadata": {},
     "output_type": "display_data"
    }
   ],
   "source": [
    "show_hidden_state_probabilities(z_probas)"
   ]
  },
  {
   "cell_type": "markdown",
   "metadata": {},
   "source": [
    "## Change observations of steps 5 and 6 and see impact on probabilities of hidden states"
   ]
  },
  {
   "cell_type": "code",
   "execution_count": 63,
   "metadata": {},
   "outputs": [
    {
     "name": "stdout",
     "output_type": "stream",
     "text": [
      "[[ 1.       0.       0.     ]\n",
      " [ 0.00272  0.99294  0.00435]\n",
      " [ 0.02617  0.00729  0.96654]\n",
      " [ 0.93717  0.00749  0.05534]\n",
      " [ 0.06542  0.91433  0.02025]\n",
      " [ 0.112    0.30944  0.57856]\n",
      " [ 0.57714  0.31121  0.11164]\n",
      " [ 0.02147  0.90884  0.06969]\n",
      " [ 0.06218  0.01014  0.92768]\n",
      " [ 0.94338  0.01234  0.04428]\n",
      " [ 0.03312  0.94619  0.02069]]\n"
     ]
    },
    {
     "data": {
      "image/png": "[encoded data removed]",
      "text/plain": [
       "<Figure size 720x576 with 1 Axes>"
      ]
     },
     "metadata": {},
     "output_type": "display_data"
    }
   ],
   "source": [
    "observations[5,0] = 0\n",
    "observations[6,0] = 0\n",
    "z_probas=hmm_model.predict_proba(observations, lengths=None)\n",
    "print(z_probas)\n",
    "show_hidden_state_probabilities(z_probas)"
   ]
  }
 ],
 "metadata": {
  "kernelspec": {
   "display_name": "Python 3",
   "language": "python",
   "name": "python3"
  },
  "language_info": {
   "codemirror_mode": {
    "name": "ipython",
    "version": 3
   },
   "file_extension": ".py",
   "mimetype": "text/x-python",
   "name": "python",
   "nbconvert_exporter": "python",
   "pygments_lexer": "ipython3",
   "version": "3.6.6"
  }
 },
 "nbformat": 4,
 "nbformat_minor": 2
}
