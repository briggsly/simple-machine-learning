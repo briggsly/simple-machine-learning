{
 "cells": [
  {
   "cell_type": "markdown",
   "metadata": {},
   "source": [
    "# Study of Adult Income Data Set\n",
    "https://archive.ics.uci.edu/ml/datasets/Adult\n",
    "\n",
    "Labels imbalance makes accuracy score not appropriate. ROC AUC or F1 is better suited. In the following F1 is used"
   ]
  },
  {
   "cell_type": "code",
   "execution_count": 1,
   "metadata": {
    "collapsed": true
   },
   "outputs": [],
   "source": [
    "import matplotlib.pyplot as plt\n",
    "import numpy as np\n",
    "%matplotlib inline"
   ]
  },
  {
   "cell_type": "code",
   "execution_count": 2,
   "metadata": {
    "collapsed": false
   },
   "outputs": [
    {
     "data": {
      "text/html": [
       "<div>\n",
       "<table border=\"1\" class=\"dataframe\">\n",
       "  <thead>\n",
       "    <tr style=\"text-align: right;\">\n",
       "      <th></th>\n",
       "      <th>age</th>\n",
       "      <th>workclass</th>\n",
       "      <th>fnlwgt</th>\n",
       "      <th>education</th>\n",
       "      <th>education-num</th>\n",
       "      <th>marital-status</th>\n",
       "      <th>occupation</th>\n",
       "      <th>relationship</th>\n",
       "      <th>race</th>\n",
       "      <th>sex</th>\n",
       "      <th>capital-gain</th>\n",
       "      <th>capital-loss</th>\n",
       "      <th>hours-per-week</th>\n",
       "      <th>native-country</th>\n",
       "      <th>income</th>\n",
       "    </tr>\n",
       "  </thead>\n",
       "  <tbody>\n",
       "    <tr>\n",
       "      <th>0</th>\n",
       "      <td>39</td>\n",
       "      <td>State-gov</td>\n",
       "      <td>77516</td>\n",
       "      <td>Bachelors</td>\n",
       "      <td>13</td>\n",
       "      <td>Never-married</td>\n",
       "      <td>Adm-clerical</td>\n",
       "      <td>Not-in-family</td>\n",
       "      <td>White</td>\n",
       "      <td>Male</td>\n",
       "      <td>2174</td>\n",
       "      <td>0</td>\n",
       "      <td>40</td>\n",
       "      <td>United-States</td>\n",
       "      <td>&lt;=50K</td>\n",
       "    </tr>\n",
       "    <tr>\n",
       "      <th>1</th>\n",
       "      <td>50</td>\n",
       "      <td>Self-emp-not-inc</td>\n",
       "      <td>83311</td>\n",
       "      <td>Bachelors</td>\n",
       "      <td>13</td>\n",
       "      <td>Married-civ-spouse</td>\n",
       "      <td>Exec-managerial</td>\n",
       "      <td>Husband</td>\n",
       "      <td>White</td>\n",
       "      <td>Male</td>\n",
       "      <td>0</td>\n",
       "      <td>0</td>\n",
       "      <td>13</td>\n",
       "      <td>United-States</td>\n",
       "      <td>&lt;=50K</td>\n",
       "    </tr>\n",
       "    <tr>\n",
       "      <th>2</th>\n",
       "      <td>38</td>\n",
       "      <td>Private</td>\n",
       "      <td>215646</td>\n",
       "      <td>HS-grad</td>\n",
       "      <td>9</td>\n",
       "      <td>Divorced</td>\n",
       "      <td>Handlers-cleaners</td>\n",
       "      <td>Not-in-family</td>\n",
       "      <td>White</td>\n",
       "      <td>Male</td>\n",
       "      <td>0</td>\n",
       "      <td>0</td>\n",
       "      <td>40</td>\n",
       "      <td>United-States</td>\n",
       "      <td>&lt;=50K</td>\n",
       "    </tr>\n",
       "    <tr>\n",
       "      <th>3</th>\n",
       "      <td>53</td>\n",
       "      <td>Private</td>\n",
       "      <td>234721</td>\n",
       "      <td>11th</td>\n",
       "      <td>7</td>\n",
       "      <td>Married-civ-spouse</td>\n",
       "      <td>Handlers-cleaners</td>\n",
       "      <td>Husband</td>\n",
       "      <td>Black</td>\n",
       "      <td>Male</td>\n",
       "      <td>0</td>\n",
       "      <td>0</td>\n",
       "      <td>40</td>\n",
       "      <td>United-States</td>\n",
       "      <td>&lt;=50K</td>\n",
       "    </tr>\n",
       "    <tr>\n",
       "      <th>4</th>\n",
       "      <td>28</td>\n",
       "      <td>Private</td>\n",
       "      <td>338409</td>\n",
       "      <td>Bachelors</td>\n",
       "      <td>13</td>\n",
       "      <td>Married-civ-spouse</td>\n",
       "      <td>Prof-specialty</td>\n",
       "      <td>Wife</td>\n",
       "      <td>Black</td>\n",
       "      <td>Female</td>\n",
       "      <td>0</td>\n",
       "      <td>0</td>\n",
       "      <td>40</td>\n",
       "      <td>Cuba</td>\n",
       "      <td>&lt;=50K</td>\n",
       "    </tr>\n",
       "  </tbody>\n",
       "</table>\n",
       "</div>"
      ],
      "text/plain": [
       "   age         workclass  fnlwgt  education  education-num  \\\n",
       "0   39         State-gov   77516  Bachelors             13   \n",
       "1   50  Self-emp-not-inc   83311  Bachelors             13   \n",
       "2   38           Private  215646    HS-grad              9   \n",
       "3   53           Private  234721       11th              7   \n",
       "4   28           Private  338409  Bachelors             13   \n",
       "\n",
       "       marital-status         occupation   relationship   race     sex  \\\n",
       "0       Never-married       Adm-clerical  Not-in-family  White    Male   \n",
       "1  Married-civ-spouse    Exec-managerial        Husband  White    Male   \n",
       "2            Divorced  Handlers-cleaners  Not-in-family  White    Male   \n",
       "3  Married-civ-spouse  Handlers-cleaners        Husband  Black    Male   \n",
       "4  Married-civ-spouse     Prof-specialty           Wife  Black  Female   \n",
       "\n",
       "   capital-gain  capital-loss  hours-per-week native-country income  \n",
       "0          2174             0              40  United-States  <=50K  \n",
       "1             0             0              13  United-States  <=50K  \n",
       "2             0             0              40  United-States  <=50K  \n",
       "3             0             0              40  United-States  <=50K  \n",
       "4             0             0              40           Cuba  <=50K  "
      ]
     },
     "execution_count": 2,
     "metadata": {},
     "output_type": "execute_result"
    }
   ],
   "source": [
    "import pandas as pd\n",
    "data=pd.read_csv('adult_all.csv', sep=', ', engine='python',\n",
    "                 names=['age','workclass','fnlwgt','education','education-num','marital-status',\n",
    "                        'occupation','relationship','race','sex','capital-gain','capital-loss',\n",
    "                        'hours-per-week','native-country','income'])\n",
    "data[:5]"
   ]
  },
  {
   "cell_type": "code",
   "execution_count": 3,
   "metadata": {
    "collapsed": false
   },
   "outputs": [
    {
     "name": "stdout",
     "output_type": "stream",
     "text": [
      "(48842, 15)\n"
     ]
    }
   ],
   "source": [
    "print(data.shape)"
   ]
  },
  {
   "cell_type": "markdown",
   "metadata": {},
   "source": [
    "### Finding / removing unknown data"
   ]
  },
  {
   "cell_type": "code",
   "execution_count": 4,
   "metadata": {
    "collapsed": false
   },
   "outputs": [
    {
     "data": {
      "text/plain": [
       "array(['?', 'Federal-gov', 'Local-gov', 'Never-worked', 'Private',\n",
       "       'Self-emp-inc', 'Self-emp-not-inc', 'State-gov', 'Without-pay'], dtype=object)"
      ]
     },
     "execution_count": 4,
     "metadata": {},
     "output_type": "execute_result"
    }
   ],
   "source": [
    "np.unique(data['workclass'])"
   ]
  },
  {
   "cell_type": "code",
   "execution_count": 5,
   "metadata": {
    "collapsed": false
   },
   "outputs": [
    {
     "data": {
      "text/plain": [
       "2799"
      ]
     },
     "execution_count": 5,
     "metadata": {},
     "output_type": "execute_result"
    }
   ],
   "source": [
    "(data['workclass'].values=='?').sum()"
   ]
  },
  {
   "cell_type": "code",
   "execution_count": 6,
   "metadata": {
    "collapsed": false
   },
   "outputs": [
    {
     "data": {
      "text/plain": [
       "array(['10th', '11th', '12th', '1st-4th', '5th-6th', '7th-8th', '9th',\n",
       "       'Assoc-acdm', 'Assoc-voc', 'Bachelors', 'Doctorate', 'HS-grad',\n",
       "       'Masters', 'Preschool', 'Prof-school', 'Some-college'], dtype=object)"
      ]
     },
     "execution_count": 6,
     "metadata": {},
     "output_type": "execute_result"
    }
   ],
   "source": [
    "np.unique(data['education'])"
   ]
  },
  {
   "cell_type": "code",
   "execution_count": 7,
   "metadata": {
    "collapsed": false
   },
   "outputs": [
    {
     "data": {
      "text/plain": [
       "array([ 1,  2,  3,  4,  5,  6,  7,  8,  9, 10, 11, 12, 13, 14, 15, 16], dtype=int64)"
      ]
     },
     "execution_count": 7,
     "metadata": {},
     "output_type": "execute_result"
    }
   ],
   "source": [
    "np.unique(data['education-num'])"
   ]
  },
  {
   "cell_type": "code",
   "execution_count": 8,
   "metadata": {
    "collapsed": false
   },
   "outputs": [
    {
     "data": {
      "text/plain": [
       "array(['Divorced', 'Married-AF-spouse', 'Married-civ-spouse',\n",
       "       'Married-spouse-absent', 'Never-married', 'Separated', 'Widowed'], dtype=object)"
      ]
     },
     "execution_count": 8,
     "metadata": {},
     "output_type": "execute_result"
    }
   ],
   "source": [
    "np.unique(data['marital-status'])"
   ]
  },
  {
   "cell_type": "code",
   "execution_count": 9,
   "metadata": {
    "collapsed": false
   },
   "outputs": [
    {
     "data": {
      "text/plain": [
       "array(['?', 'Adm-clerical', 'Armed-Forces', 'Craft-repair',\n",
       "       'Exec-managerial', 'Farming-fishing', 'Handlers-cleaners',\n",
       "       'Machine-op-inspct', 'Other-service', 'Priv-house-serv',\n",
       "       'Prof-specialty', 'Protective-serv', 'Sales', 'Tech-support',\n",
       "       'Transport-moving'], dtype=object)"
      ]
     },
     "execution_count": 9,
     "metadata": {},
     "output_type": "execute_result"
    }
   ],
   "source": [
    "np.unique(data['occupation'])"
   ]
  },
  {
   "cell_type": "code",
   "execution_count": 10,
   "metadata": {
    "collapsed": false
   },
   "outputs": [
    {
     "data": {
      "text/plain": [
       "2809"
      ]
     },
     "execution_count": 10,
     "metadata": {},
     "output_type": "execute_result"
    }
   ],
   "source": [
    "(data['occupation'].values=='?').sum()"
   ]
  },
  {
   "cell_type": "code",
   "execution_count": 11,
   "metadata": {
    "collapsed": false
   },
   "outputs": [
    {
     "data": {
      "text/plain": [
       "array(['Husband', 'Not-in-family', 'Other-relative', 'Own-child',\n",
       "       'Unmarried', 'Wife'], dtype=object)"
      ]
     },
     "execution_count": 11,
     "metadata": {},
     "output_type": "execute_result"
    }
   ],
   "source": [
    "np.unique(data['relationship'])"
   ]
  },
  {
   "cell_type": "code",
   "execution_count": 12,
   "metadata": {
    "collapsed": false
   },
   "outputs": [
    {
     "data": {
      "text/plain": [
       "array(['Amer-Indian-Eskimo', 'Asian-Pac-Islander', 'Black', 'Other',\n",
       "       'White'], dtype=object)"
      ]
     },
     "execution_count": 12,
     "metadata": {},
     "output_type": "execute_result"
    }
   ],
   "source": [
    "np.unique(data['race'])"
   ]
  },
  {
   "cell_type": "code",
   "execution_count": 13,
   "metadata": {
    "collapsed": false
   },
   "outputs": [
    {
     "data": {
      "text/plain": [
       "array(['Female', 'Male'], dtype=object)"
      ]
     },
     "execution_count": 13,
     "metadata": {},
     "output_type": "execute_result"
    }
   ],
   "source": [
    "np.unique(data['sex'])"
   ]
  },
  {
   "cell_type": "code",
   "execution_count": 14,
   "metadata": {
    "collapsed": false
   },
   "outputs": [
    {
     "data": {
      "text/plain": [
       "array(['?', 'Cambodia', 'Canada', 'China', 'Columbia', 'Cuba',\n",
       "       'Dominican-Republic', 'Ecuador', 'El-Salvador', 'England', 'France',\n",
       "       'Germany', 'Greece', 'Guatemala', 'Haiti', 'Holand-Netherlands',\n",
       "       'Honduras', 'Hong', 'Hungary', 'India', 'Iran', 'Ireland', 'Italy',\n",
       "       'Jamaica', 'Japan', 'Laos', 'Mexico', 'Nicaragua',\n",
       "       'Outlying-US(Guam-USVI-etc)', 'Peru', 'Philippines', 'Poland',\n",
       "       'Portugal', 'Puerto-Rico', 'Scotland', 'South', 'Taiwan',\n",
       "       'Thailand', 'Trinadad&Tobago', 'United-States', 'Vietnam',\n",
       "       'Yugoslavia'], dtype=object)"
      ]
     },
     "execution_count": 14,
     "metadata": {},
     "output_type": "execute_result"
    }
   ],
   "source": [
    "np.unique(data['native-country'])"
   ]
  },
  {
   "cell_type": "code",
   "execution_count": 15,
   "metadata": {
    "collapsed": false
   },
   "outputs": [
    {
     "data": {
      "text/plain": [
       "857"
      ]
     },
     "execution_count": 15,
     "metadata": {},
     "output_type": "execute_result"
    }
   ],
   "source": [
    "(data['native-country'].values=='?').sum()"
   ]
  },
  {
   "cell_type": "markdown",
   "metadata": {},
   "source": [
    "## Normalize class labels"
   ]
  },
  {
   "cell_type": "code",
   "execution_count": 16,
   "metadata": {
    "collapsed": false
   },
   "outputs": [
    {
     "data": {
      "text/plain": [
       "array(['<=50K', '<=50K.', '>50K', '>50K.'], dtype=object)"
      ]
     },
     "execution_count": 16,
     "metadata": {},
     "output_type": "execute_result"
    }
   ],
   "source": [
    "np.unique(data['income'])"
   ]
  },
  {
   "cell_type": "code",
   "execution_count": 17,
   "metadata": {
    "collapsed": false
   },
   "outputs": [
    {
     "data": {
      "text/plain": [
       "array(['<=50K', '>50K'], dtype=object)"
      ]
     },
     "execution_count": 17,
     "metadata": {},
     "output_type": "execute_result"
    }
   ],
   "source": [
    "data.loc[data['income']=='<=50K.','income']='<=50K'\n",
    "data.loc[data['income']=='>50K.','income']='>50K'\n",
    "np.unique(data['income'])"
   ]
  },
  {
   "cell_type": "markdown",
   "metadata": {},
   "source": [
    "#### Keep label (0/1) in income column"
   ]
  },
  {
   "cell_type": "code",
   "execution_count": null,
   "metadata": {
    "collapsed": true
   },
   "outputs": [],
   "source": [
    "from sklearn.preprocessing import LabelEncoder\n",
    "class_le = LabelEncoder()\n",
    "y = class_le.fit_transform(data['income'].values)\n",
    "data['income'] = y"
   ]
  },
  {
   "cell_type": "markdown",
   "metadata": {},
   "source": [
    "### Labels Ratio"
   ]
  },
  {
   "cell_type": "code",
   "execution_count": 410,
   "metadata": {
    "collapsed": false
   },
   "outputs": [
    {
     "name": "stdout",
     "output_type": "stream",
     "text": [
      "labels 0: 37155\n",
      "labels 1: 11687\n",
      "labels 0 ratio over total: 0.761\n"
     ]
    }
   ],
   "source": [
    "print('labels 0: %d' % np.sum(y==0))\n",
    "print('labels 1: %d' % np.sum(y==1))\n",
    "print('labels 0 ratio over total: %.3f' % (float(np.sum(y==0)) / (np.sum(y==0) + np.sum(y==1))))"
   ]
  },
  {
   "cell_type": "markdown",
   "metadata": {},
   "source": [
    "## ==> Labels are not balanced: accuracy score is not an appropriate measure. Use F1 (or ROC AUC). F1 is used in the following\n",
    "Accuracy is not really useful since a model predicting always 0 would have a 76.1% accuracy"
   ]
  },
  {
   "cell_type": "markdown",
   "metadata": {},
   "source": [
    "## Encode Categorical Variables"
   ]
  },
  {
   "cell_type": "code",
   "execution_count": 19,
   "metadata": {
    "collapsed": false
   },
   "outputs": [],
   "source": [
    "def printResults(y_test,y_pred,y_train=None,y_train_pred=None):\n",
    "    from sklearn.metrics import confusion_matrix,precision_score,recall_score, f1_score\n",
    "\n",
    "    if y_train is not None and y_train_pred is not None:\n",
    "        print('==== Training set ====')\n",
    "        print(confusion_matrix(y_true=y_train, y_pred=y_train_pred))\n",
    "        print('Precision: %.3f' % precision_score(y_true=y_train, y_pred=y_train_pred))\n",
    "        print('Recall: %.3f' % recall_score(y_true=y_train, y_pred=y_train_pred))\n",
    "        print('F1 train: %.3f' % f1_score(y_true=y_train, y_pred=y_train_pred))\n",
    "        print('')\n",
    "    print('==== Test set ====')\n",
    "    print(confusion_matrix(y_true=y_test, y_pred=y_pred))\n",
    "    print('Precision: %.3f' % precision_score(y_true=y_test, y_pred=y_pred))\n",
    "    print('Recall: %.3f' % recall_score(y_true=y_test, y_pred=y_pred))\n",
    "    print('F1 test: %.3f' % f1_score(y_true=y_test, y_pred=y_pred))\n",
    "    \n",
    "def encodeNominalVariablesWithGetDummies(data):\n",
    "    # this also removes the rows containing NAs\n",
    "    cleaned_data=(data[(data['workclass']!='?') & (data['occupation']!='?') & (data['native-country']!='?')])\n",
    "    print('keeping %.2f%% of the data after removing rows containing unknown data'\n",
    "          % (float(len(cleaned_data)/float(len(data))*100)))\n",
    "    data=cleaned_data\n",
    "    y = cleaned_data['income']\n",
    "    # drop label column\n",
    "    data=data.iloc[:,:-1]\n",
    "    # encode\n",
    "    data = pd.get_dummies(data)\n",
    "    X=data.values\n",
    "    return X,y\n",
    "\n",
    "def encodeNominalVariablesIntoOnesAndZeros(data):\n",
    "    y = data['income']\n",
    "    # drop label column\n",
    "    data=data.iloc[:,:-1]\n",
    "\n",
    "    from sklearn.preprocessing import LabelEncoder\n",
    "    from sklearn.preprocessing import OneHotEncoder\n",
    "    # init empty array: columns will be concatenated to it\n",
    "    X=np.ndarray(shape=[len(data),0],dtype=np.dtype(np.int64))\n",
    "    new_columns=[]\n",
    "    for column,dtype in zip(data.columns, data.dtypes):\n",
    "        if dtype is np.dtype(np.object):\n",
    "            #print('column %s is object' % column)\n",
    "            columnToEncode=data.loc[:,[column]].values[:,0]\n",
    "            #print('columnToEncode: %s' % columnToEncode)\n",
    "            encoder = LabelEncoder()\n",
    "            encodedColumn = encoder.fit_transform(columnToEncode)\n",
    "            encodedColumn = encodedColumn.reshape(len(encodedColumn),-1)\n",
    "            #print('encodedColumn: %s' % str(encodedColumn))\n",
    "            ohe = OneHotEncoder(categorical_features=[0])\n",
    "            explodedColumn = ohe.fit_transform(encodedColumn).toarray()\n",
    "            for feature in ohe.active_features_:\n",
    "                decoded_value = encoder.inverse_transform(feature)\n",
    "                if (decoded_value != '?'):\n",
    "                    new_columns.append(column + '_' + decoded_value)\n",
    "            \n",
    "            if '?' in np.unique(data[column]):\n",
    "                #print('? in values of column %s' % column)\n",
    "                naIndex = encoder.transform('?')\n",
    "                #print('encodedNA: %d' % naIndex)\n",
    "                # append to X all exploded columns except the NA column\n",
    "                X=np.concatenate((X, explodedColumn[:,0:naIndex],explodedColumn[:,naIndex+1:]), axis=1)\n",
    "            else:\n",
    "                #print('? NOT in values of column %s' % column)\n",
    "                # append to X all exploded columns\n",
    "                X=np.concatenate((X, explodedColumn), axis=1)\n",
    "\n",
    "        else:\n",
    "            #print('column %s is NOT object' % column)\n",
    "            X=np.concatenate((X, data.loc[:,[column]].values), axis=1)\n",
    "            new_columns.append(column)\n",
    "\n",
    "    return X,y,new_columns\n",
    "\n",
    "def testEncodeNominalVariablesIntoOnesAndZeros():\n",
    "    d = {'col1': [1,2,3,4], 'col2': ['a','a','?','b'],'income': [1,0,0,1] }\n",
    "    df = pd.DataFrame(data=d)\n",
    "    print(df)\n",
    "    dfX,dfy,new_columns=encodeNominalVariablesIntoOnesAndZeros(df)\n",
    "    print(dfX)\n",
    "    print('new columns: %s' % new_columns)\n",
    "\n",
    "#testEncodeNominalVariablesIntoOnesAndZeros()"
   ]
  },
  {
   "cell_type": "code",
   "execution_count": 20,
   "metadata": {
    "collapsed": false
   },
   "outputs": [
    {
     "name": "stdout",
     "output_type": "stream",
     "text": [
      "X.shape: (48842L, 105L)\n"
     ]
    },
    {
     "data": {
      "text/plain": [
       "array([[ 39.,   0.,   0., ...,   1.,   0.,   0.],\n",
       "       [ 50.,   0.,   0., ...,   1.,   0.,   0.],\n",
       "       [ 38.,   0.,   0., ...,   1.,   0.,   0.],\n",
       "       ..., \n",
       "       [ 38.,   0.,   0., ...,   1.,   0.,   0.],\n",
       "       [ 44.,   0.,   0., ...,   1.,   0.,   0.],\n",
       "       [ 35.,   0.,   0., ...,   1.,   0.,   0.]])"
      ]
     },
     "execution_count": 20,
     "metadata": {},
     "output_type": "execute_result"
    }
   ],
   "source": [
    "#X,y = encodeNominalVariablesWithGetDummies(data)\n",
    "X,y,columns = encodeNominalVariablesIntoOnesAndZeros(data)\n",
    "print('X.shape: %s' % str(X.shape))\n",
    "columns=np.array(columns)\n",
    "X"
   ]
  },
  {
   "cell_type": "code",
   "execution_count": 21,
   "metadata": {
    "collapsed": false
   },
   "outputs": [
    {
     "data": {
      "text/html": [
       "<div>\n",
       "<table border=\"1\" class=\"dataframe\">\n",
       "  <thead>\n",
       "    <tr style=\"text-align: right;\">\n",
       "      <th></th>\n",
       "      <th>age</th>\n",
       "      <th>workclass_Federal-gov</th>\n",
       "      <th>workclass_Local-gov</th>\n",
       "      <th>workclass_Never-worked</th>\n",
       "      <th>workclass_Private</th>\n",
       "      <th>workclass_Self-emp-inc</th>\n",
       "      <th>workclass_Self-emp-not-inc</th>\n",
       "      <th>workclass_State-gov</th>\n",
       "      <th>workclass_Without-pay</th>\n",
       "      <th>fnlwgt</th>\n",
       "      <th>...</th>\n",
       "      <th>native-country_Portugal</th>\n",
       "      <th>native-country_Puerto-Rico</th>\n",
       "      <th>native-country_Scotland</th>\n",
       "      <th>native-country_South</th>\n",
       "      <th>native-country_Taiwan</th>\n",
       "      <th>native-country_Thailand</th>\n",
       "      <th>native-country_Trinadad&amp;Tobago</th>\n",
       "      <th>native-country_United-States</th>\n",
       "      <th>native-country_Vietnam</th>\n",
       "      <th>native-country_Yugoslavia</th>\n",
       "    </tr>\n",
       "  </thead>\n",
       "  <tbody>\n",
       "    <tr>\n",
       "      <th>0</th>\n",
       "      <td>39</td>\n",
       "      <td>0</td>\n",
       "      <td>0</td>\n",
       "      <td>0</td>\n",
       "      <td>0</td>\n",
       "      <td>0</td>\n",
       "      <td>0</td>\n",
       "      <td>1</td>\n",
       "      <td>0</td>\n",
       "      <td>77516</td>\n",
       "      <td>...</td>\n",
       "      <td>0</td>\n",
       "      <td>0</td>\n",
       "      <td>0</td>\n",
       "      <td>0</td>\n",
       "      <td>0</td>\n",
       "      <td>0</td>\n",
       "      <td>0</td>\n",
       "      <td>1</td>\n",
       "      <td>0</td>\n",
       "      <td>0</td>\n",
       "    </tr>\n",
       "    <tr>\n",
       "      <th>1</th>\n",
       "      <td>50</td>\n",
       "      <td>0</td>\n",
       "      <td>0</td>\n",
       "      <td>0</td>\n",
       "      <td>0</td>\n",
       "      <td>0</td>\n",
       "      <td>1</td>\n",
       "      <td>0</td>\n",
       "      <td>0</td>\n",
       "      <td>83311</td>\n",
       "      <td>...</td>\n",
       "      <td>0</td>\n",
       "      <td>0</td>\n",
       "      <td>0</td>\n",
       "      <td>0</td>\n",
       "      <td>0</td>\n",
       "      <td>0</td>\n",
       "      <td>0</td>\n",
       "      <td>1</td>\n",
       "      <td>0</td>\n",
       "      <td>0</td>\n",
       "    </tr>\n",
       "    <tr>\n",
       "      <th>2</th>\n",
       "      <td>38</td>\n",
       "      <td>0</td>\n",
       "      <td>0</td>\n",
       "      <td>0</td>\n",
       "      <td>1</td>\n",
       "      <td>0</td>\n",
       "      <td>0</td>\n",
       "      <td>0</td>\n",
       "      <td>0</td>\n",
       "      <td>215646</td>\n",
       "      <td>...</td>\n",
       "      <td>0</td>\n",
       "      <td>0</td>\n",
       "      <td>0</td>\n",
       "      <td>0</td>\n",
       "      <td>0</td>\n",
       "      <td>0</td>\n",
       "      <td>0</td>\n",
       "      <td>1</td>\n",
       "      <td>0</td>\n",
       "      <td>0</td>\n",
       "    </tr>\n",
       "    <tr>\n",
       "      <th>3</th>\n",
       "      <td>53</td>\n",
       "      <td>0</td>\n",
       "      <td>0</td>\n",
       "      <td>0</td>\n",
       "      <td>1</td>\n",
       "      <td>0</td>\n",
       "      <td>0</td>\n",
       "      <td>0</td>\n",
       "      <td>0</td>\n",
       "      <td>234721</td>\n",
       "      <td>...</td>\n",
       "      <td>0</td>\n",
       "      <td>0</td>\n",
       "      <td>0</td>\n",
       "      <td>0</td>\n",
       "      <td>0</td>\n",
       "      <td>0</td>\n",
       "      <td>0</td>\n",
       "      <td>1</td>\n",
       "      <td>0</td>\n",
       "      <td>0</td>\n",
       "    </tr>\n",
       "    <tr>\n",
       "      <th>4</th>\n",
       "      <td>28</td>\n",
       "      <td>0</td>\n",
       "      <td>0</td>\n",
       "      <td>0</td>\n",
       "      <td>1</td>\n",
       "      <td>0</td>\n",
       "      <td>0</td>\n",
       "      <td>0</td>\n",
       "      <td>0</td>\n",
       "      <td>338409</td>\n",
       "      <td>...</td>\n",
       "      <td>0</td>\n",
       "      <td>0</td>\n",
       "      <td>0</td>\n",
       "      <td>0</td>\n",
       "      <td>0</td>\n",
       "      <td>0</td>\n",
       "      <td>0</td>\n",
       "      <td>0</td>\n",
       "      <td>0</td>\n",
       "      <td>0</td>\n",
       "    </tr>\n",
       "  </tbody>\n",
       "</table>\n",
       "<p>5 rows × 105 columns</p>\n",
       "</div>"
      ],
      "text/plain": [
       "   age  workclass_Federal-gov  workclass_Local-gov  workclass_Never-worked  \\\n",
       "0   39                      0                    0                       0   \n",
       "1   50                      0                    0                       0   \n",
       "2   38                      0                    0                       0   \n",
       "3   53                      0                    0                       0   \n",
       "4   28                      0                    0                       0   \n",
       "\n",
       "   workclass_Private  workclass_Self-emp-inc  workclass_Self-emp-not-inc  \\\n",
       "0                  0                       0                           0   \n",
       "1                  0                       0                           1   \n",
       "2                  1                       0                           0   \n",
       "3                  1                       0                           0   \n",
       "4                  1                       0                           0   \n",
       "\n",
       "   workclass_State-gov  workclass_Without-pay  fnlwgt  \\\n",
       "0                    1                      0   77516   \n",
       "1                    0                      0   83311   \n",
       "2                    0                      0  215646   \n",
       "3                    0                      0  234721   \n",
       "4                    0                      0  338409   \n",
       "\n",
       "             ...              native-country_Portugal  \\\n",
       "0            ...                                    0   \n",
       "1            ...                                    0   \n",
       "2            ...                                    0   \n",
       "3            ...                                    0   \n",
       "4            ...                                    0   \n",
       "\n",
       "   native-country_Puerto-Rico  native-country_Scotland  native-country_South  \\\n",
       "0                           0                        0                     0   \n",
       "1                           0                        0                     0   \n",
       "2                           0                        0                     0   \n",
       "3                           0                        0                     0   \n",
       "4                           0                        0                     0   \n",
       "\n",
       "   native-country_Taiwan  native-country_Thailand  \\\n",
       "0                      0                        0   \n",
       "1                      0                        0   \n",
       "2                      0                        0   \n",
       "3                      0                        0   \n",
       "4                      0                        0   \n",
       "\n",
       "   native-country_Trinadad&Tobago  native-country_United-States  \\\n",
       "0                               0                             1   \n",
       "1                               0                             1   \n",
       "2                               0                             1   \n",
       "3                               0                             1   \n",
       "4                               0                             0   \n",
       "\n",
       "   native-country_Vietnam  native-country_Yugoslavia  \n",
       "0                       0                          0  \n",
       "1                       0                          0  \n",
       "2                       0                          0  \n",
       "3                       0                          0  \n",
       "4                       0                          0  \n",
       "\n",
       "[5 rows x 105 columns]"
      ]
     },
     "execution_count": 21,
     "metadata": {},
     "output_type": "execute_result"
    }
   ],
   "source": [
    "encoded_data=pd.DataFrame(X, columns=columns)\n",
    "encoded_data[:5]"
   ]
  },
  {
   "cell_type": "markdown",
   "metadata": {},
   "source": [
    "## Utility Functions"
   ]
  },
  {
   "cell_type": "code",
   "execution_count": 51,
   "metadata": {
    "collapsed": false
   },
   "outputs": [],
   "source": [
    "X_orig=X.copy()\n",
    "y_orig=y.copy()\n",
    "columns_orig=list(columns)\n",
    "\n",
    "from sklearn.cross_validation import train_test_split\n",
    "X_train, X_test, y_train, y_test = train_test_split(X, y, test_size=0.25, random_state=1)\n",
    "\n",
    "# keep copies of non standardized data as some models use them\n",
    "X_train_orig=X_train.copy()\n",
    "y_train_orig=y_train.copy()\n",
    "X_test_orig=X_test.copy()\n",
    "y_test_orig=y_test.copy()\n",
    "\n",
    "from sklearn.preprocessing import StandardScaler\n",
    "stdsc = StandardScaler()\n",
    "X_train_std = stdsc.fit_transform(X_train)\n",
    "X_test_std = stdsc.transform(X_test)\n",
    "\n",
    "# keep copies of standardized data\n",
    "X_train_std_orig=X_train_std.copy()\n",
    "X_test_std_orig=X_test_std.copy()\n",
    "y_train_orig=y_train.copy()\n",
    "y_test_orig=y_test.copy()\n",
    "\n",
    "def getDataSetStdCopy():\n",
    "    X_train_std=X_train_std_orig.copy()\n",
    "    X_test_std=X_test_std_orig.copy()\n",
    "    y_train=y_train_orig.copy()\n",
    "    y_test=y_test_orig.copy()\n",
    "    columns=list(columns_orig) \n",
    "    return X_train_std, X_test_std, y_train, y_test, columns\n",
    "\n",
    "def getDataSetCopy():\n",
    "    X_train=X_train_orig.copy()\n",
    "    X_test=X_test_orig.copy()\n",
    "    y_train=y_train_orig.copy()\n",
    "    y_test=y_test_orig.copy()\n",
    "    columns=list(columns_orig)\n",
    "    return X_train, X_test, y_train, y_test, columns\n",
    "\n",
    "# function to test f1 score with for a set of columns\n",
    "def scoreWithColumns(estimator, X_train_std, X_test_std, y_train, y_test, columns, new_columns):\n",
    "\n",
    "    dfX_train_std=pd.DataFrame(X_train_std, columns=columns)\n",
    "    X_train_std=dfX_train_std.loc[:,new_columns].values\n",
    "\n",
    "    dfX_test_std=pd.DataFrame(X_test_std, columns=columns)\n",
    "    X_test_std=dfX_test_std.loc[:,new_columns].values\n",
    "\n",
    "    lr = LogisticRegression(C=1000.0, random_state=0)\n",
    "    lr.fit(X_train_std, y_train)\n",
    "    y_train_pred = lr.predict(X_train_std)\n",
    "    y_test_pred = lr.predict(X_test_std)\n",
    "\n",
    "    printResults(y_test,y_test_pred, y_train=y_train, y_train_pred=y_train_pred)"
   ]
  },
  {
   "cell_type": "markdown",
   "metadata": {},
   "source": [
    "## Feature Selection"
   ]
  },
  {
   "cell_type": "markdown",
   "metadata": {},
   "source": [
    "### Univariate Feature Selection (chi2, f_classif)\n",
    "This selects features independently from each other, with a metric. E.g. chi2 can measure the independence between a feature and the label. See https://en.wikipedia.org/wiki/Chi-squared_test#Example_chi-squared_test_for_categorical_data. When the stat is computed (sum over all cells (for classification we have a 2x2 matrix hence degree of freedom =1)), we get the pvalue with the chi2 distribution: if the p-value is low, the independence hypothesis is rejected. Overall we sort the feature per p-value and keep the k ones with the lowest pvalues (sklearn.feature_selection.chi2 automates that)"
   ]
  },
  {
   "cell_type": "code",
   "execution_count": 69,
   "metadata": {
    "collapsed": false
   },
   "outputs": [],
   "source": [
    "def selectFeaturesWithScore(estimator, X, y, columns, selector_name, selector, max_columns=6):\n",
    "    from sklearn.feature_selection import SelectKBest\n",
    "    col_indices=[]\n",
    "    retained_columns=[]\n",
    "    score_means=[]\n",
    "    score_stds=[]\n",
    "    columns=np.array(columns)\n",
    "    \n",
    "    from sklearn.preprocessing import StandardScaler\n",
    "    from sklearn.pipeline import Pipeline\n",
    "\n",
    "    pipe = Pipeline([('scl', StandardScaler()),\n",
    "                     ('clf', estimator)])\n",
    "    \n",
    "    for k in range(2,max_columns+1):\n",
    "        col_indices.append(k)\n",
    "        best=SelectKBest(selector, k=k)\n",
    "        X_new = best.fit_transform(X, y)\n",
    "        support= best.get_support()\n",
    "        \n",
    "        from sklearn.cross_validation import cross_val_score\n",
    "        scores = cross_val_score(estimator=pipe, X=X_new, y=y, \n",
    "                                 cv=10, scoring='f1', n_jobs=1)\n",
    "\n",
    "        score_means.append(np.mean(scores))\n",
    "        score_stds.append(np.std(scores))\n",
    "        retained_columns.append(list(columns[support]))\n",
    "        print('selector: %s, cols: %d: mean: %.4f, std: %.4f, cols: %s' % \\\n",
    "              (selector_name, k, np.mean(scores), np.std(scores), str(sorted(columns[support]))))\n",
    "\n",
    "    return col_indices, retained_columns, np.array(score_means), np.array(score_stds)"
   ]
  },
  {
   "cell_type": "code",
   "execution_count": 93,
   "metadata": {
    "collapsed": false
   },
   "outputs": [],
   "source": [
    "def plotScoresForGrowingSelectedFeatures(estimator, X, y, columns, featureSelectors, max_columns):\n",
    "\n",
    "    selector_results=[]\n",
    "    colors = ['red', 'blue', 'lightgreen', 'gray', 'cyan']\n",
    "\n",
    "    for idx, (selector_name,selector) in enumerate(featureSelectors):\n",
    "        col_indices, retained_columns,score_means,score_stds = \\\n",
    "                selectFeaturesWithScore(estimator, X, y, columns, selector_name, selector, max_columns)\n",
    "    \n",
    "\n",
    "        plt.plot(col_indices, score_means, color=colors[idx], marker='o', \n",
    "                 markersize=5, label='f1 %s' % selector_name)\n",
    "\n",
    "        plt.fill_between(col_indices, \n",
    "                         score_means + score_stds,\n",
    "                         score_means - score_stds, \n",
    "                         alpha=0.15, color=colors[idx])\n",
    "    plt.grid()\n",
    "    plt.xlabel('Number of columns')\n",
    "    plt.ylabel('f1')\n",
    "    plt.legend(loc='lower right')\n",
    "    plt.tight_layout()\n",
    "    plt.show()\n",
    "    return dict([(colNumber,retained_columns[idx]) for idx,colNumber in enumerate(col_indices)])"
   ]
  },
  {
   "cell_type": "code",
   "execution_count": 94,
   "metadata": {
    "collapsed": false
   },
   "outputs": [
    {
     "name": "stdout",
     "output_type": "stream",
     "text": [
      "selector: chi2, cols: 2: mean: 0.4119, std: 0.0242, cols: ['capital-gain', 'capital-loss']\n",
      "selector: chi2, cols: 3: mean: 0.4124, std: 0.0217, cols: ['capital-gain', 'capital-loss', 'fnlwgt']\n",
      "selector: chi2, cols: 4: mean: 0.3860, std: 0.0248, cols: ['age', 'capital-gain', 'capital-loss', 'fnlwgt']\n",
      "selector: chi2, cols: 5: mean: 0.4037, std: 0.0209, cols: ['age', 'capital-gain', 'capital-loss', 'fnlwgt', 'hours-per-week']\n",
      "selector: chi2, cols: 6: mean: 0.4677, std: 0.0168, cols: ['age', 'capital-gain', 'capital-loss', 'fnlwgt', 'hours-per-week', 'marital-status_Married-civ-spouse']\n",
      "selector: chi2, cols: 7: mean: 0.4674, std: 0.0177, cols: ['age', 'capital-gain', 'capital-loss', 'fnlwgt', 'hours-per-week', 'marital-status_Married-civ-spouse', 'relationship_Husband']\n",
      "selector: chi2, cols: 8: mean: 0.6290, std: 0.0193, cols: ['age', 'capital-gain', 'capital-loss', 'education-num', 'fnlwgt', 'hours-per-week', 'marital-status_Married-civ-spouse', 'relationship_Husband']\n",
      "selector: chi2, cols: 9: mean: 0.6317, std: 0.0193, cols: ['age', 'capital-gain', 'capital-loss', 'education-num', 'fnlwgt', 'hours-per-week', 'marital-status_Married-civ-spouse', 'marital-status_Never-married', 'relationship_Husband']\n",
      "selector: chi2, cols: 10: mean: 0.6318, std: 0.0194, cols: ['age', 'capital-gain', 'capital-loss', 'education-num', 'fnlwgt', 'hours-per-week', 'marital-status_Married-civ-spouse', 'marital-status_Never-married', 'relationship_Husband', 'relationship_Own-child']\n",
      "selector: chi2, cols: 11: mean: 0.6356, std: 0.0191, cols: ['age', 'capital-gain', 'capital-loss', 'education-num', 'fnlwgt', 'hours-per-week', 'marital-status_Married-civ-spouse', 'marital-status_Never-married', 'occupation_Exec-managerial', 'relationship_Husband', 'relationship_Own-child']\n",
      "selector: chi2, cols: 12: mean: 0.6360, std: 0.0200, cols: ['age', 'capital-gain', 'capital-loss', 'education-num', 'fnlwgt', 'hours-per-week', 'marital-status_Married-civ-spouse', 'marital-status_Never-married', 'occupation_Exec-managerial', 'relationship_Husband', 'relationship_Own-child', 'sex_Female']\n",
      "selector: f_classif, cols: 2: mean: 0.0000, std: 0.0000, cols: ['marital-status_Married-civ-spouse', 'relationship_Husband']\n",
      "selector: f_classif, cols: 3: mean: 0.5504, std: 0.0085, cols: ['education-num', 'marital-status_Married-civ-spouse', 'relationship_Husband']\n",
      "selector: f_classif, cols: 4: mean: 0.5504, std: 0.0085, cols: ['education-num', 'marital-status_Married-civ-spouse', 'marital-status_Never-married', 'relationship_Husband']\n",
      "selector: f_classif, cols: 5: mean: 0.5567, std: 0.0098, cols: ['education-num', 'hours-per-week', 'marital-status_Married-civ-spouse', 'marital-status_Never-married', 'relationship_Husband']\n",
      "selector: f_classif, cols: 6: mean: 0.5696, std: 0.0117, cols: ['age', 'education-num', 'hours-per-week', 'marital-status_Married-civ-spouse', 'marital-status_Never-married', 'relationship_Husband']\n",
      "selector: f_classif, cols: 7: mean: 0.5699, std: 0.0113, cols: ['age', 'education-num', 'hours-per-week', 'marital-status_Married-civ-spouse', 'marital-status_Never-married', 'relationship_Husband', 'relationship_Own-child']\n",
      "selector: f_classif, cols: 8: mean: 0.6221, std: 0.0146, cols: ['age', 'capital-gain', 'education-num', 'hours-per-week', 'marital-status_Married-civ-spouse', 'marital-status_Never-married', 'relationship_Husband', 'relationship_Own-child']\n",
      "selector: f_classif, cols: 9: mean: 0.6210, std: 0.0141, cols: ['age', 'capital-gain', 'education-num', 'hours-per-week', 'marital-status_Married-civ-spouse', 'marital-status_Never-married', 'relationship_Husband', 'relationship_Own-child', 'sex_Male']\n",
      "selector: f_classif, cols: 10: mean: 0.6210, std: 0.0141, cols: ['age', 'capital-gain', 'education-num', 'hours-per-week', 'marital-status_Married-civ-spouse', 'marital-status_Never-married', 'relationship_Husband', 'relationship_Own-child', 'sex_Female', 'sex_Male']\n",
      "selector: f_classif, cols: 11: mean: 0.6302, std: 0.0181, cols: ['age', 'capital-gain', 'education-num', 'hours-per-week', 'marital-status_Married-civ-spouse', 'marital-status_Never-married', 'occupation_Exec-managerial', 'relationship_Husband', 'relationship_Own-child', 'sex_Female', 'sex_Male']\n",
      "selector: f_classif, cols: 12: mean: 0.6305, std: 0.0178, cols: ['age', 'capital-gain', 'education-num', 'hours-per-week', 'marital-status_Married-civ-spouse', 'marital-status_Never-married', 'occupation_Exec-managerial', 'relationship_Husband', 'relationship_Not-in-family', 'relationship_Own-child', 'sex_Female', 'sex_Male']\n"
     ]
    },
    {
     "data": {
      "image/png": "[encoded data removed]",
      "text/plain": [
       "<matplotlib.figure.Figure at 0xc47bf60>"
      ]
     },
     "metadata": {},
     "output_type": "display_data"
    }
   ],
   "source": [
    "from sklearn.linear_model import LogisticRegression\n",
    "lr = LogisticRegression(C=1000.0, random_state=0)\n",
    "\n",
    "from sklearn.feature_selection import chi2\n",
    "from sklearn.feature_selection import f_classif\n",
    "\n",
    "selectors=[('chi2',chi2),('f_classif',f_classif)]\n",
    "\n",
    "X_train, X_test, y_train, y_test, columns = getDataSetCopy()\n",
    "\n",
    "columnsForNumberOfColumns = plotScoresForGrowingSelectedFeatures(lr, X_train, y_train, columns, selectors, 12)"
   ]
  },
  {
   "cell_type": "code",
   "execution_count": 95,
   "metadata": {
    "collapsed": false
   },
   "outputs": [
    {
     "name": "stdout",
     "output_type": "stream",
     "text": [
      "score with 8 columns: ['age', 'education-num', 'marital-status_Married-civ-spouse', 'marital-status_Never-married', 'relationship_Husband', 'relationship_Own-child', 'capital-gain', 'hours-per-week']\n",
      "==== Training set ====\n",
      "[[25750  2113]\n",
      " [ 3621  5147]]\n",
      "Precision: 0.709\n",
      "Recall: 0.587\n",
      "F1 train: 0.642\n",
      "\n",
      "==== Test set ====\n",
      "[[8573  719]\n",
      " [1156 1763]]\n",
      "Precision: 0.710\n",
      "Recall: 0.604\n",
      "F1 test: 0.653\n"
     ]
    }
   ],
   "source": [
    "print('score with 8 columns: %s' % str(columnsForNumberOfColumns[8]))\n",
    "from sklearn.linear_model import LogisticRegression\n",
    "lr = LogisticRegression(C=1000.0, random_state=0)\n",
    "\n",
    "X_train_std, X_test_std, y_train, y_test, columns = getDataSetStdCopy()\n",
    "\n",
    "scoreWithColumns(lr, X_train_std, X_test_std, y_train, y_test, columns, \n",
    "                 ['education-num', 'occupation_Exec-managerial', 'relationship_Not-in-family', \n",
    "                  'relationship_Other-relative', 'relationship_Own-child', 'relationship_Unmarried', \n",
    "                  'capital-gain', 'capital-loss'])"
   ]
  },
  {
   "cell_type": "markdown",
   "metadata": {},
   "source": [
    "### Sequential Backward Selection\n",
    "On each iteration eliminate the feature that causes the least performance loss after removal"
   ]
  },
  {
   "cell_type": "code",
   "execution_count": 251,
   "metadata": {
    "collapsed": false
   },
   "outputs": [],
   "source": [
    "def allButOneCombinations(indices):\n",
    "    arr=np.array(range(len(indices)))\n",
    "    indices_arr=np.array(indices)\n",
    "    return [indices_arr[arr[arr!=i]] for i in arr]\n",
    "#allButOneCombinations([0,3,4,6,7])\n",
    "\n",
    "class SBS():\n",
    "    \"\"\"\n",
    "    keep_feature_fraction_per_iteration must be a number between 0 and 1. If 0.8, 20% of\n",
    "    the features will be removed at each iteration. (cumulative: at iteration #2, it'll\n",
    "    be 20% of the 80% remaining...etc... until we remove a minimum of 1 feature per iteration)\n",
    "    \"\"\"\n",
    "    def __init__(self, estimator, k_features, features, \n",
    "                 keep_feature_fraction_per_iteration=0.1,\n",
    "        test_size=0.25, random_state=1):\n",
    "        \n",
    "        from sklearn.metrics import f1_score\n",
    "        from sklearn.base import clone\n",
    "        self.scoring = f1_score\n",
    "        self.estimator = clone(estimator)\n",
    "        self.k_features = k_features\n",
    "        self.keep_feature_fraction_per_iteration = keep_feature_fraction_per_iteration\n",
    "        self.features = np.array(features)\n",
    "        self.feature_sets = {}\n",
    "\n",
    "        self.test_size = test_size\n",
    "        self.random_state = random_state\n",
    "\n",
    "    def fit(self, X, y):\n",
    "        from sklearn.cross_validation import train_test_split\n",
    "        X_train, X_test, y_train, y_test = train_test_split(X, y, test_size=self.test_size, random_state=self.random_state)\n",
    "\n",
    "        dim = X_train.shape[1]\n",
    "        self.remaining_indices=np.array(range(dim))\n",
    "        score = self._calc_score(X_train, y_train, X_test, y_test, self.remaining_indices)\n",
    "        self.subsets_ = [self.remaining_indices]\n",
    "        self.scores_ = [score]\n",
    "        # print('remaining_indices: %s' % self.remaining_indices )\n",
    "\n",
    "        while dim > self.k_features:\n",
    "            scores = []\n",
    "            \n",
    "            for indices in allButOneCombinations(self.remaining_indices):\n",
    "                # compute score when removing feature 'feature'\n",
    "                score = self._calc_score(X_train, y_train, X_test, y_test, indices)\n",
    "                scores.append(score)\n",
    "                # print('score %.6f for indices %s' % (score,indices))\n",
    "\n",
    "            sorted_scores=sorted(scores)\n",
    "            # determine the number of features to remove\n",
    "            if self.keep_feature_fraction_per_iteration is None:\n",
    "                cntToRemove=1\n",
    "                min_score=max(sorted_scores) # remove only the max score\n",
    "            else:\n",
    "                # retain all features except the ones that yielded the best score when they were removed\n",
    "                # and remove a max of cntToRemove features (to account for equal scores)\n",
    "                best_scores=sorted_scores[(min(-1,-int(len(sorted_scores) * (1-self.keep_feature_fraction_per_iteration)))) :]\n",
    "                # print('retaining the best %d scores' % len(best_scores))\n",
    "                min_score = min(best_scores)\n",
    "                cntToRemove=len(best_scores)\n",
    "\n",
    "            from collections import defaultdict\n",
    "            scoresToRemove=defaultdict(lambda:0)\n",
    "            for i,score in enumerate(reversed(sorted_scores)):\n",
    "                if (i == cntToRemove):\n",
    "                    break\n",
    "                if score >= min_score:\n",
    "                    scoresToRemove[score] = scoresToRemove[score]+1\n",
    "            # print('scoresToRemove: %s' % (str(scoresToRemove)))\n",
    "            indices_to_keep=[]\n",
    "            for i,indice in enumerate(self.remaining_indices):\n",
    "                if scores[i] in scoresToRemove and scoresToRemove[scores[i]] > 0:\n",
    "                    scoresToRemove[scores[i]] = scoresToRemove[scores[i]] - 1\n",
    "                    # print('i: %d, removing score: %.6f, removing index: %d' % (i,scores[i],self.remaining_indices[i]))\n",
    "                else:\n",
    "                    # print('i: %d, score: %.6f, keep index: %d' % (i,scores[i],self.remaining_indices[i]))\n",
    "                    indices_to_keep.append(self.remaining_indices[i])\n",
    "            # print('indices_to_keep: %s' % str(indices_to_keep))\n",
    "            \n",
    "            self.remaining_indices = indices_to_keep\n",
    "            \n",
    "            self.subsets_.append(self.remaining_indices)\n",
    "            self.scores_.append(min_score)\n",
    "            # print('features: %s' % self.features)\n",
    "            # print('self.remaining_indices: %s' % self.remaining_indices)\n",
    "\n",
    "            dim -= cntToRemove\n",
    "            \n",
    "            print('number of features: %d : score: %.6f' % (dim,min_score))\n",
    "            # uncomment for additional details\n",
    "            # print('number of features: %d : score: %.6f, %s' % (dim,min_score,str( self.features[self.remaining_indices])))\n",
    "\n",
    "        self.k_score_ = self.scores_[-1]\n",
    "\n",
    "        # dictionary: number of features => feature set\n",
    "        from collections import OrderedDict\n",
    "        feature_sets = [ (sbs.features[subset], len(subset)) for subset in sbs.subsets_]\n",
    "        self.feature_sets = { i:feature_set for feature_set,i in feature_sets }\n",
    "\n",
    "        return self\n",
    "\n",
    "    def transform(self, X):\n",
    "        return X[:, self.remaining_indices]\n",
    "\n",
    "    def _calc_score(self, X_train, y_train, X_test, y_test, indices):\n",
    "        self.estimator.fit(X_train[:, indices], y_train)\n",
    "        y_pred = self.estimator.predict(X_test[:, indices])\n",
    "        score = self.scoring(y_test, y_pred)\n",
    "        return score"
   ]
  },
  {
   "cell_type": "code",
   "execution_count": 252,
   "metadata": {
    "collapsed": true
   },
   "outputs": [],
   "source": [
    "X_train_std, X_test_std, y_train, y_test, columns = getDataSetStdCopy()\n",
    "\n",
    "# uncomment below to start from a subset of columns\n",
    "\n",
    "#dfX_train_std=pd.DataFrame(X_train_std, columns=columns)\n",
    "#dfX_test_std=pd.DataFrame(X_test_std, columns=columns)\n",
    "#columns=['age', 'capital-gain', 'capital-loss', 'education-num', 'fnlwgt', 'hours-per-week', \n",
    "#         'marital-status_Married-civ-spouse', 'marital-status_Never-married', \n",
    "#         'occupation_Exec-managerial', 'occupation_Prof-specialty', 'relationship_Husband', \n",
    "#         'relationship_Own-child']\n",
    "#X_train_std=dfX_train_std.loc[:,columns].values\n",
    "#X_test_std=dfX_test_std.loc[:,columns].values"
   ]
  },
  {
   "cell_type": "code",
   "execution_count": 253,
   "metadata": {
    "collapsed": false
   },
   "outputs": [
    {
     "name": "stdout",
     "output_type": "stream",
     "text": [
      "number of features: 104 : score: 0.664967\n",
      "number of features: 103 : score: 0.665817\n",
      "number of features: 102 : score: 0.665987\n",
      "number of features: 101 : score: 0.666497\n",
      "number of features: 100 : score: 0.667006\n",
      "number of features: 99 : score: 0.667176\n",
      "number of features: 98 : score: 0.667176\n",
      "number of features: 97 : score: 0.667176\n",
      "number of features: 96 : score: 0.667176\n",
      "number of features: 95 : score: 0.667176\n",
      "number of features: 94 : score: 0.667516\n",
      "number of features: 93 : score: 0.667855\n",
      "number of features: 92 : score: 0.668017\n",
      "number of features: 91 : score: 0.669369\n",
      "number of features: 90 : score: 0.670215\n",
      "number of features: 89 : score: 0.670385\n",
      "number of features: 88 : score: 0.670555\n",
      "number of features: 87 : score: 0.670558\n",
      "number of features: 86 : score: 0.670886\n",
      "number of features: 85 : score: 0.670886\n",
      "number of features: 84 : score: 0.670886\n",
      "number of features: 83 : score: 0.670886\n",
      "number of features: 82 : score: 0.670886\n",
      "number of features: 81 : score: 0.670886\n",
      "number of features: 80 : score: 0.670886\n",
      "number of features: 79 : score: 0.671053\n",
      "number of features: 78 : score: 0.671053\n",
      "number of features: 77 : score: 0.671053\n",
      "number of features: 76 : score: 0.671053\n",
      "number of features: 75 : score: 0.671389\n",
      "number of features: 74 : score: 0.671725\n",
      "number of features: 73 : score: 0.671895\n",
      "number of features: 72 : score: 0.671895\n",
      "number of features: 71 : score: 0.671895\n",
      "number of features: 70 : score: 0.671895\n",
      "number of features: 69 : score: 0.672226\n",
      "number of features: 68 : score: 0.672562\n",
      "number of features: 67 : score: 0.672562\n",
      "number of features: 66 : score: 0.672562\n",
      "number of features: 65 : score: 0.672562\n",
      "number of features: 64 : score: 0.672562\n",
      "number of features: 63 : score: 0.672562\n",
      "number of features: 62 : score: 0.672562\n",
      "number of features: 61 : score: 0.672562\n",
      "number of features: 60 : score: 0.672562\n",
      "number of features: 59 : score: 0.672562\n",
      "number of features: 58 : score: 0.672562\n",
      "number of features: 57 : score: 0.672566\n",
      "number of features: 56 : score: 0.672902\n",
      "number of features: 55 : score: 0.672902\n",
      "number of features: 54 : score: 0.672902\n",
      "number of features: 53 : score: 0.672902\n",
      "number of features: 52 : score: 0.672902\n",
      "number of features: 51 : score: 0.672566\n",
      "number of features: 50 : score: 0.672401\n",
      "number of features: 49 : score: 0.672401\n",
      "number of features: 48 : score: 0.672401\n",
      "number of features: 47 : score: 0.672401\n",
      "number of features: 46 : score: 0.672235\n",
      "number of features: 45 : score: 0.672243\n",
      "number of features: 44 : score: 0.672750\n",
      "number of features: 43 : score: 0.672746\n",
      "number of features: 42 : score: 0.673087\n",
      "number of features: 41 : score: 0.672750\n",
      "number of features: 40 : score: 0.672248\n",
      "number of features: 39 : score: 0.671911\n",
      "number of features: 38 : score: 0.671740\n",
      "number of features: 37 : score: 0.671740\n",
      "number of features: 36 : score: 0.671063\n",
      "number of features: 35 : score: 0.670892\n",
      "number of features: 34 : score: 0.670218\n",
      "number of features: 33 : score: 0.669543\n",
      "number of features: 32 : score: 0.669373\n",
      "number of features: 31 : score: 0.669377\n",
      "number of features: 30 : score: 0.669032\n",
      "number of features: 29 : score: 0.668525\n",
      "number of features: 28 : score: 0.668693\n",
      "number of features: 27 : score: 0.669534\n",
      "number of features: 26 : score: 0.669027\n",
      "number of features: 25 : score: 0.668525\n",
      "number of features: 24 : score: 0.667681\n",
      "number of features: 23 : score: 0.667343\n",
      "number of features: 22 : score: 0.666328\n",
      "number of features: 21 : score: 0.664628\n",
      "number of features: 20 : score: 0.665139\n",
      "number of features: 19 : score: 0.665478\n",
      "number of features: 18 : score: 0.665139\n",
      "number of features: 17 : score: 0.665301\n",
      "number of features: 16 : score: 0.665642\n",
      "number of features: 15 : score: 0.666496\n",
      "number of features: 14 : score: 0.665129\n",
      "number of features: 13 : score: 0.665126\n",
      "number of features: 12 : score: 0.661503\n",
      "number of features: 11 : score: 0.659079\n",
      "number of features: 10 : score: 0.656995\n",
      "number of features: 9 : score: 0.651417\n",
      "number of features: 8 : score: 0.650221\n",
      "number of features: 7 : score: 0.649909\n",
      "number of features: 6 : score: 0.646138\n",
      "number of features: 5 : score: 0.645944\n",
      "number of features: 4 : score: 0.635372\n",
      "number of features: 3 : score: 0.617194\n",
      "number of features: 2 : score: 0.532464\n"
     ]
    },
    {
     "data": {
      "text/plain": [
       "<__main__.SBS instance at 0x000000001A68E748>"
      ]
     },
     "execution_count": 253,
     "metadata": {},
     "output_type": "execute_result"
    }
   ],
   "source": [
    "from sklearn.linear_model import LogisticRegression\n",
    "lr = LogisticRegression(C=100.0, random_state=0)\n",
    "sbs = SBS(lr, k_features=2,features=columns, keep_feature_fraction_per_iteration=None)\n",
    "sbs.fit(X_train_std, y_train)"
   ]
  },
  {
   "cell_type": "code",
   "execution_count": 256,
   "metadata": {
    "collapsed": false
   },
   "outputs": [
    {
     "data": {
      "image/png": "[encoded data removed]",
      "text/plain": [
       "<matplotlib.figure.Figure at 0xa1ed828>"
      ]
     },
     "metadata": {},
     "output_type": "display_data"
    }
   ],
   "source": [
    "k_feat = [len(k) for k in sbs.subsets_]\n",
    "plt.plot(k_feat, sbs.scores_, marker='o')\n",
    "plt.ylim([0.5, 0.7])\n",
    "plt.ylabel('F1 score')\n",
    "plt.xlabel('Number of features')\n",
    "plt.grid()\n",
    "plt.show()"
   ]
  },
  {
   "cell_type": "code",
   "execution_count": 258,
   "metadata": {
    "collapsed": false
   },
   "outputs": [
    {
     "data": {
      "text/plain": [
       "['age',\n",
       " 'capital-gain',\n",
       " 'capital-loss',\n",
       " 'education-num',\n",
       " 'hours-per-week',\n",
       " 'marital-status_Married-civ-spouse',\n",
       " 'occupation_Exec-managerial',\n",
       " 'workclass_Self-emp-not-inc']"
      ]
     },
     "execution_count": 258,
     "metadata": {},
     "output_type": "execute_result"
    }
   ],
   "source": [
    "sorted(sbs.feature_sets[8])"
   ]
  },
  {
   "cell_type": "code",
   "execution_count": 259,
   "metadata": {
    "collapsed": false
   },
   "outputs": [
    {
     "name": "stdout",
     "output_type": "stream",
     "text": [
      "score for 8 columns: ['age' 'workclass_Self-emp-not-inc' 'education-num'\n",
      " 'marital-status_Married-civ-spouse' 'occupation_Exec-managerial'\n",
      " 'capital-gain' 'capital-loss' 'hours-per-week']\n",
      "\n",
      "==== Training set ====\n",
      "[[25998  1865]\n",
      " [ 3776  4992]]\n",
      "Precision: 0.728\n",
      "Recall: 0.569\n",
      "F1 train: 0.639\n",
      "\n",
      "==== Test set ====\n",
      "[[8657  635]\n",
      " [1219 1700]]\n",
      "Precision: 0.728\n",
      "Recall: 0.582\n",
      "F1 test: 0.647\n"
     ]
    }
   ],
   "source": [
    "# retrain on train set and verify score on test set\n",
    "X_train_std, X_test_std, y_train, y_test, columns = getDataSetStdCopy()\n",
    "print('score for 8 columns: %s\\n' % str(sbs.feature_sets[8]))\n",
    "scoreWithColumns(lr, X_train_std, X_test_std, y_train, y_test, columns, sbs.feature_sets[8])"
   ]
  },
  {
   "cell_type": "code",
   "execution_count": 168,
   "metadata": {
    "collapsed": false
   },
   "outputs": [
    {
     "name": "stdout",
     "output_type": "stream",
     "text": [
      "score for 8 columns: ['age' 'capital-gain' 'capital-loss' 'education-num' 'hours-per-week'\n",
      " 'marital-status_Married-civ-spouse' 'occupation_Exec-managerial'\n",
      " 'occupation_Prof-specialty']\n",
      "\n",
      "==== Training set ====\n",
      "[[25989  1874]\n",
      " [ 3793  4975]]\n",
      "Precision: 0.726\n",
      "Recall: 0.567\n",
      "F1 train: 0.637\n",
      "\n",
      "==== Test set ====\n",
      "[[8667  625]\n",
      " [1234 1685]]\n",
      "Precision: 0.729\n",
      "Recall: 0.577\n",
      "F1 test: 0.644\n"
     ]
    }
   ],
   "source": [
    "# retrain on train set and verify score on test set\n",
    "X_train_std, X_test_std, y_train, y_test, columns = getDataSetStdCopy()\n",
    "print('score for 8 columns: %s\\n' % str(sbs.feature_sets[8]))\n",
    "scoreWithColumns(lr, X_train_std, X_test_std, y_train, y_test, columns, sbs.feature_sets[8])"
   ]
  },
  {
   "cell_type": "markdown",
   "metadata": {},
   "source": [
    "## Recursive Feature Elimination\n",
    "Given an external estimator that assigns weights to features (e.g., the coefficients of a linear model), recursive feature elimination (RFE) is to select features by recursively considering smaller and smaller sets of features. First, the estimator is trained on the initial set of features and weights are assigned to each one of them. Then, features whose absolute weights are the smallest are pruned from the current set features. That procedure is recursively repeated on the pruned set until the desired number of features to select is eventually reached"
   ]
  },
  {
   "cell_type": "code",
   "execution_count": 274,
   "metadata": {
    "collapsed": true
   },
   "outputs": [],
   "source": [
    "from sklearn.datasets import make_friedman1\n",
    "from sklearn.feature_selection import RFE\n",
    "from sklearn.linear_model import LogisticRegression\n",
    "\n",
    "X_train_std, X_test_std, y_train, y_test, columns = getDataSetStdCopy()\n",
    "\n",
    "# uncomment below to start from a subset of columns\n",
    "\n",
    "#dfX_train_std=pd.DataFrame(X_train_std, columns=columns)\n",
    "#dfX_test_std=pd.DataFrame(X_test_std, columns=columns)\n",
    "#columns=['age', 'capital-gain', 'capital-loss', 'education-num', 'fnlwgt', 'hours-per-week', \n",
    "#         'marital-status_Married-civ-spouse', 'marital-status_Never-married', \n",
    "#         'occupation_Exec-managerial', 'occupation_Prof-specialty', 'relationship_Husband', \n",
    "#         'relationship_Own-child']\n",
    "#X_train_std=dfX_train_std.loc[:,columns].values\n",
    "#X_test_std=dfX_test_std.loc[:,columns].values\n",
    "\n",
    "lr = LogisticRegression(C=100.0, random_state=0)\n",
    "selector = RFE(lr, n_features_to_select=8, step=0.1)\n",
    "selector = selector.fit(X_train_std, y_train)"
   ]
  },
  {
   "cell_type": "markdown",
   "metadata": {},
   "source": [
    "#### the 8 retained features (removing 10% of the features at each iteration)"
   ]
  },
  {
   "cell_type": "code",
   "execution_count": 285,
   "metadata": {
    "collapsed": false
   },
   "outputs": [
    {
     "data": {
      "text/plain": [
       "['capital-gain',\n",
       " 'education-num',\n",
       " 'hours-per-week',\n",
       " 'marital-status_Divorced',\n",
       " 'marital-status_Never-married',\n",
       " 'marital-status_Separated',\n",
       " 'marital-status_Widowed',\n",
       " 'relationship_Own-child']"
      ]
     },
     "execution_count": 285,
     "metadata": {},
     "output_type": "execute_result"
    }
   ],
   "source": [
    "sorted(np.array(columns)[selector.support_])"
   ]
  },
  {
   "cell_type": "markdown",
   "metadata": {},
   "source": [
    "#### the 20 most important features"
   ]
  },
  {
   "cell_type": "code",
   "execution_count": 284,
   "metadata": {
    "collapsed": false
   },
   "outputs": [
    {
     "data": {
      "text/plain": [
       "[(1, 'capital-gain'),\n",
       " (1, 'education-num'),\n",
       " (1, 'hours-per-week'),\n",
       " (1, 'marital-status_Divorced'),\n",
       " (1, 'marital-status_Never-married'),\n",
       " (1, 'marital-status_Separated'),\n",
       " (1, 'marital-status_Widowed'),\n",
       " (1, 'relationship_Own-child'),\n",
       " (2, 'age'),\n",
       " (2, 'capital-loss'),\n",
       " (2, 'marital-status_Married-spouse-absent'),\n",
       " (2, 'occupation_Exec-managerial'),\n",
       " (2, 'occupation_Farming-fishing'),\n",
       " (2, 'occupation_Other-service'),\n",
       " (2, 'relationship_Husband'),\n",
       " (3, 'native-country_Mexico'),\n",
       " (3, 'occupation_Handlers-cleaners'),\n",
       " (3, 'occupation_Priv-house-serv'),\n",
       " (3, 'occupation_Prof-specialty'),\n",
       " (3, 'relationship_Other-relative')]"
      ]
     },
     "execution_count": 284,
     "metadata": {},
     "output_type": "execute_result"
    }
   ],
   "source": [
    "sorted(zip(selector.ranking_,columns))[:20]"
   ]
  },
  {
   "cell_type": "markdown",
   "metadata": {},
   "source": [
    "#### retrain on train set and verify score on test set"
   ]
  },
  {
   "cell_type": "code",
   "execution_count": 286,
   "metadata": {
    "collapsed": false
   },
   "outputs": [
    {
     "name": "stdout",
     "output_type": "stream",
     "text": [
      "score for 8 columns: ['education-num' 'marital-status_Divorced' 'marital-status_Never-married'\n",
      " 'marital-status_Separated' 'marital-status_Widowed'\n",
      " 'relationship_Own-child' 'capital-gain' 'hours-per-week']\n",
      "\n",
      "==== Training set ====\n",
      "[[25814  2049]\n",
      " [ 3976  4792]]\n",
      "Precision: 0.700\n",
      "Recall: 0.547\n",
      "F1 train: 0.614\n",
      "\n",
      "==== Test set ====\n",
      "[[8606  686]\n",
      " [1296 1623]]\n",
      "Precision: 0.703\n",
      "Recall: 0.556\n",
      "F1 test: 0.621\n"
     ]
    }
   ],
   "source": [
    "print('score for 8 columns: %s\\n' % str(np.array(columns)[selector.support_]))\n",
    "scoreWithColumns(lr, X_train_std, X_test_std, y_train, y_test, columns, np.array(columns)[selector.support_])"
   ]
  },
  {
   "cell_type": "markdown",
   "metadata": {},
   "source": [
    "### Same but removing only 1 feature per iteration (step = 1) (same result)"
   ]
  },
  {
   "cell_type": "code",
   "execution_count": 287,
   "metadata": {
    "collapsed": true
   },
   "outputs": [],
   "source": [
    "lr = LogisticRegression(C=100.0, random_state=0)\n",
    "selector = RFE(lr, n_features_to_select=8, step=1)\n",
    "selector = selector.fit(X_train_std, y_train)"
   ]
  },
  {
   "cell_type": "markdown",
   "metadata": {},
   "source": [
    "#### the 8 retained features (removing 1 feature at each iteration)"
   ]
  },
  {
   "cell_type": "code",
   "execution_count": 340,
   "metadata": {
    "collapsed": false
   },
   "outputs": [
    {
     "data": {
      "text/plain": [
       "['capital-gain',\n",
       " 'education-num',\n",
       " 'hours-per-week',\n",
       " 'marital-status_Divorced',\n",
       " 'marital-status_Never-married',\n",
       " 'marital-status_Separated',\n",
       " 'marital-status_Widowed',\n",
       " 'relationship_Own-child']"
      ]
     },
     "execution_count": 340,
     "metadata": {},
     "output_type": "execute_result"
    }
   ],
   "source": [
    "sorted(np.array(columns)[selector.support_])"
   ]
  },
  {
   "cell_type": "markdown",
   "metadata": {},
   "source": [
    "#### the 20 most important features"
   ]
  },
  {
   "cell_type": "code",
   "execution_count": 353,
   "metadata": {
    "collapsed": false
   },
   "outputs": [
    {
     "name": "stdout",
     "output_type": "stream",
     "text": [
      " 1) hours-per-week                       1.000000\n",
      " 2) marital-status_Never-married         1.000000\n",
      " 3) capital-gain                         1.000000\n",
      " 4) relationship_Own-child               1.000000\n",
      " 5) marital-status_Widowed               1.000000\n",
      " 6) marital-status_Separated             1.000000\n",
      " 7) education-num                        1.000000\n",
      " 8) marital-status_Divorced              1.000000\n",
      " 9) occupation_Other-service             0.500000\n",
      "10) age                                  0.333333\n",
      "11) marital-status_Married-spouse-absent 0.250000\n",
      "12) relationship_Husband                 0.200000\n",
      "13) sex_Male                             0.166667\n",
      "14) occupation_Farming-fishing           0.142857\n",
      "15) capital-loss                         0.125000\n",
      "16) relationship_Other-relative          0.111111\n",
      "17) occupation_Exec-managerial           0.100000\n",
      "18) occupation_Priv-house-serv           0.090909\n",
      "19) sex_Female                           0.083333\n",
      "20) occupation_Handlers-cleaners         0.076923\n"
     ]
    }
   ],
   "source": [
    "# infer an importance from the rank (use the inverse)\n",
    "importances=np.array([1.0/r for r in selector.ranking_])\n",
    "indices=np.argsort(importances)[::-1]\n",
    "for f in range(20):\n",
    "    print(\"%2d) %-*s %f\" % (f + 1, 36, \n",
    "                            columns[indices[f]], \n",
    "                            importances[indices[f]]))"
   ]
  },
  {
   "cell_type": "markdown",
   "metadata": {},
   "source": [
    "#### retrain on train set and verify score on test set for the 8 columns"
   ]
  },
  {
   "cell_type": "code",
   "execution_count": 290,
   "metadata": {
    "collapsed": false
   },
   "outputs": [
    {
     "name": "stdout",
     "output_type": "stream",
     "text": [
      "score for 8 columns: ['education-num' 'marital-status_Divorced' 'marital-status_Never-married'\n",
      " 'marital-status_Separated' 'marital-status_Widowed'\n",
      " 'relationship_Own-child' 'capital-gain' 'hours-per-week']\n",
      "\n",
      "==== Training set ====\n",
      "[[25814  2049]\n",
      " [ 3976  4792]]\n",
      "Precision: 0.700\n",
      "Recall: 0.547\n",
      "F1 train: 0.614\n",
      "\n",
      "==== Test set ====\n",
      "[[8606  686]\n",
      " [1296 1623]]\n",
      "Precision: 0.703\n",
      "Recall: 0.556\n",
      "F1 test: 0.621\n"
     ]
    }
   ],
   "source": [
    "print('score for 8 columns: %s\\n' % str(np.array(columns)[selector.support_]))\n",
    "scoreWithColumns(lr, X_train_std, X_test_std, y_train, y_test, columns, np.array(columns)[selector.support_])"
   ]
  },
  {
   "cell_type": "markdown",
   "metadata": {},
   "source": [
    "## Feature Selection with L1 regularization\n",
    "L1 favors sparse results (the larger the regularization parameter, the more coefficients are 0). Coefficients = 0 is equivalent to feature elimination. We can increase the regularization parameter until we have the desired number of features (the ones with non 0 coefficient)"
   ]
  },
  {
   "cell_type": "code",
   "execution_count": 222,
   "metadata": {
    "collapsed": true
   },
   "outputs": [],
   "source": [
    "def selectFeaturesWithL1LogReg(X, y, columns, reg_params):\n",
    "    from sklearn.linear_model import LogisticRegression\n",
    "    from sklearn.cross_validation import train_test_split\n",
    "    from sklearn.metrics import f1_score\n",
    "\n",
    "    X_train, X_test, y_train, y_test = train_test_split(X, y, test_size=0.3, random_state=0)\n",
    "\n",
    "    dic={}\n",
    "    for reg_param in reg_params:\n",
    "        lr = LogisticRegression(C=reg_param, penalty='l1', random_state=0)\n",
    "        lr.fit(X_train, y_train)\n",
    "\n",
    "        y_test_pred = lr.predict(X_test)\n",
    "        score = f1_score(y_true=y_test, y_pred=y_test_pred)\n",
    "        \n",
    "        features_nb = sum(lr.coef_[0]!=0)\n",
    "        print('reg: %.6f, features: %d, f1 score: %.4f' % (reg_param, features_nb, score))\n",
    "        features=(np.array(columns))[lr.coef_[0]!=0]\n",
    "        dic[features_nb] = (features,score)\n",
    "\n",
    "    from collections import OrderedDict\n",
    "    return OrderedDict(sorted(dic.items()))"
   ]
  },
  {
   "cell_type": "code",
   "execution_count": 223,
   "metadata": {
    "collapsed": false
   },
   "outputs": [
    {
     "name": "stdout",
     "output_type": "stream",
     "text": [
      "reg: 1.000000, features: 96, f1 score: 0.6600\n",
      "reg: 0.100000, features: 84, f1 score: 0.6590\n",
      "reg: 0.050000, features: 75, f1 score: 0.6554\n",
      "reg: 0.010000, features: 41, f1 score: 0.6471\n",
      "reg: 0.005000, features: 24, f1 score: 0.6319\n",
      "reg: 0.003000, features: 15, f1 score: 0.6214\n",
      "reg: 0.002000, features: 10, f1 score: 0.6018\n",
      "reg: 0.001000, features: 7, f1 score: 0.5535\n",
      "reg: 0.000500, features: 3, f1 score: 0.5152\n"
     ]
    }
   ],
   "source": [
    "X_train_std, X_test_std, y_train, y_test, columns = getDataSetStdCopy()\n",
    "\n",
    "selected_features = selectFeaturesWithL1LogReg(X_train_std, y_train, columns,\n",
    "                                              [1,0.1,0.05,0.01,0.005,0.003,0.002,0.001,0.0005])"
   ]
  },
  {
   "cell_type": "code",
   "execution_count": 236,
   "metadata": {
    "collapsed": false
   },
   "outputs": [
    {
     "data": {
      "image/png": "[encoded data removed]",
      "text/plain": [
       "<matplotlib.figure.Figure at 0xafc5710>"
      ]
     },
     "metadata": {},
     "output_type": "display_data"
    }
   ],
   "source": [
    "feature_nbs = [nb for nb,_ in selected_features.items()]\n",
    "scores = [score for nb,(feat,score) in selected_features.items()]\n",
    "plt.plot(feature_nbs, scores, marker='o')\n",
    "plt.ylim([0.5, 0.7])\n",
    "plt.ylabel('F1 score')\n",
    "plt.xlabel('Number of features')\n",
    "plt.grid()\n",
    "plt.show()"
   ]
  },
  {
   "cell_type": "markdown",
   "metadata": {},
   "source": [
    "#### the above is only used to select features\n",
    "### retrain on train set and verify score on test set with L2 regularization (score will be different)"
   ]
  },
  {
   "cell_type": "code",
   "execution_count": 241,
   "metadata": {
    "collapsed": false
   },
   "outputs": [
    {
     "name": "stdout",
     "output_type": "stream",
     "text": [
      "score for 15 columns: (array(['age', 'workclass_Federal-gov', 'workclass_Self-emp-not-inc',\n",
      "       'education-num', 'marital-status_Married-civ-spouse',\n",
      "       'marital-status_Never-married', 'occupation_Exec-managerial',\n",
      "       'occupation_Farming-fishing', 'occupation_Other-service',\n",
      "       'occupation_Prof-specialty', 'occupation_Tech-support',\n",
      "       'relationship_Own-child', 'capital-gain', 'capital-loss',\n",
      "       'hours-per-week'], \n",
      "      dtype='|S41'), 0.62140992167101838)\n",
      "\n",
      "==== Training set ====\n",
      "[[26002  1861]\n",
      " [ 3658  5110]]\n",
      "Precision: 0.733\n",
      "Recall: 0.583\n",
      "F1 train: 0.649\n",
      "\n",
      "==== Test set ====\n",
      "[[8674  618]\n",
      " [1178 1741]]\n",
      "Precision: 0.738\n",
      "Recall: 0.596\n",
      "F1 test: 0.660\n"
     ]
    }
   ],
   "source": [
    "# retrain on train set and verify score on test set\n",
    "print('score for 15 columns: %s\\n' % str(selected_features[15]))\n",
    "scoreWithColumns(lr, X_train_std, X_test_std, y_train, y_test, columns, selected_features[15][0])"
   ]
  },
  {
   "cell_type": "markdown",
   "metadata": {},
   "source": [
    "## Feature Selection with Random Forests\n",
    "Remove the less important features. Importance is measured with the impurity decrease."
   ]
  },
  {
   "cell_type": "code",
   "execution_count": null,
   "metadata": {
    "collapsed": true
   },
   "outputs": [],
   "source": [
    "X_train, X_test, y_train, y_test, columns = getDataSetCopy()\n",
    "\n",
    "from sklearn.ensemble import RandomForestClassifier\n",
    "forest = RandomForestClassifier(n_estimators=1000,\n",
    "                               random_state=0,\n",
    "                               n_jobs=-1)\n",
    "forest.fit(X_train, y_train)"
   ]
  },
  {
   "cell_type": "code",
   "execution_count": 304,
   "metadata": {
    "collapsed": false
   },
   "outputs": [
    {
     "name": "stdout",
     "output_type": "stream",
     "text": [
      " 1) fnlwgt                         0.166864\n",
      " 2) age                            0.151366\n",
      " 3) capital-gain                   0.096578\n",
      " 4) hours-per-week                 0.085391\n",
      " 5) marital-status_Married-civ-spouse 0.062672\n",
      " 6) education-num                  0.058073\n",
      " 7) relationship_Husband           0.047349\n",
      " 8) capital-loss                   0.029648\n",
      " 9) marital-status_Never-married   0.023815\n",
      "10) occupation_Exec-managerial     0.018822\n",
      "11) occupation_Prof-specialty      0.015750\n",
      "12) education_Bachelors            0.011860\n",
      "13) workclass_Private              0.010885\n",
      "14) relationship_Not-in-family     0.010714\n",
      "15) relationship_Wife              0.009301\n",
      "16) sex_Female                     0.009167\n",
      "17) sex_Male                       0.008996\n",
      "18) relationship_Own-child         0.008425\n",
      "19) workclass_Self-emp-not-inc     0.008311\n",
      "20) education_Masters              0.007792\n"
     ]
    }
   ],
   "source": [
    "importances = forest.feature_importances_\n",
    "indices = np.argsort(importances)[::-1]\n",
    "for f in range(X_train.shape[1])[:20]:\n",
    "    print(\"%2d) %-*s %f\" % (f + 1, 30, \n",
    "                            columns[indices[f]], \n",
    "                            importances[indices[f]]))"
   ]
  },
  {
   "cell_type": "markdown",
   "metadata": {},
   "source": [
    "#### retrain on train set and verify score on test set for the 15 most important features"
   ]
  },
  {
   "cell_type": "code",
   "execution_count": 316,
   "metadata": {
    "collapsed": false
   },
   "outputs": [
    {
     "name": "stdout",
     "output_type": "stream",
     "text": [
      "score for 15 columns: ['fnlwgt', 'age', 'capital-gain', 'hours-per-week', 'marital-status_Married-civ-spouse', 'education-num', 'relationship_Husband', 'capital-loss', 'marital-status_Never-married', 'occupation_Exec-managerial', 'occupation_Prof-specialty', 'education_Bachelors', 'workclass_Private', 'relationship_Not-in-family', 'relationship_Wife']\n",
      "\n",
      "==== Training set ====\n",
      "[[26018  1845]\n",
      " [ 3782  4986]]\n",
      "Precision: 0.730\n",
      "Recall: 0.569\n",
      "F1 train: 0.639\n",
      "\n",
      "==== Test set ====\n",
      "[[8662  630]\n",
      " [1231 1688]]\n",
      "Precision: 0.728\n",
      "Recall: 0.578\n",
      "F1 test: 0.645\n"
     ]
    }
   ],
   "source": [
    "# retrain on train set and verify score on test set\n",
    "selected_features=list(np.array(columns)[indices][:15])\n",
    "print('score for 15 columns: %s\\n' % str(selected_features))\n",
    "scoreWithColumns(lr, X_train_std, X_test_std, y_train, y_test, columns, selected_features)"
   ]
  },
  {
   "cell_type": "markdown",
   "metadata": {},
   "source": [
    "## Learning Curve : do we need more samples ?"
   ]
  },
  {
   "cell_type": "code",
   "execution_count": 220,
   "metadata": {
    "collapsed": false
   },
   "outputs": [
    {
     "data": {
      "image/png": "[encoded data removed]",
      "text/plain": [
       "<matplotlib.figure.Figure at 0x9bab978>"
      ]
     },
     "metadata": {},
     "output_type": "display_data"
    }
   ],
   "source": [
    "X_train, X_test, y_train, y_test, columns = getDataSetCopy()\n",
    "\n",
    "from sklearn.learning_curve import learning_curve\n",
    "from sklearn.pipeline import Pipeline\n",
    "\n",
    "pipe_lr = Pipeline([('scl', StandardScaler()),\n",
    "                    ('clf', LogisticRegression(random_state=0))])\n",
    "\n",
    "train_sizes, train_scores, test_scores =\\\n",
    "                learning_curve(estimator=pipe_lr, \n",
    "                X=X_train, \n",
    "                y=y_train, \n",
    "                train_sizes=np.linspace(0.1, 1.0, 10), \n",
    "                cv=5, scoring='f1',\n",
    "                n_jobs=-1)\n",
    "\n",
    "train_mean = np.mean(train_scores, axis=1)\n",
    "train_std = np.std(train_scores, axis=1)\n",
    "test_mean = np.mean(test_scores, axis=1)\n",
    "test_std = np.std(test_scores, axis=1)\n",
    "\n",
    "plt.plot(train_sizes, train_mean, \n",
    "         color='blue', marker='o', \n",
    "         markersize=5, label='training f1')\n",
    "\n",
    "plt.fill_between(train_sizes, \n",
    "                 train_mean + train_std,\n",
    "                 train_mean - train_std, \n",
    "                 alpha=0.15, color='blue')\n",
    "\n",
    "plt.plot(train_sizes, test_mean, \n",
    "         color='green', linestyle='--', \n",
    "         marker='s', markersize=5, \n",
    "         label='validation f1')\n",
    "\n",
    "plt.fill_between(train_sizes, \n",
    "                 test_mean + test_std,\n",
    "                 test_mean - test_std, \n",
    "                 alpha=0.15, color='green')\n",
    "\n",
    "plt.grid()\n",
    "plt.xlabel('Number of training samples')\n",
    "plt.ylabel('f1')\n",
    "plt.legend(loc='lower right')\n",
    "plt.tight_layout()\n",
    "plt.show()"
   ]
  },
  {
   "cell_type": "markdown",
   "metadata": {},
   "source": [
    "#### Score increases with samples. No overfitting from 7500 samples"
   ]
  },
  {
   "cell_type": "markdown",
   "metadata": {},
   "source": [
    "## Validation Curve: find the best L2 regularization parameter for logistic regression"
   ]
  },
  {
   "cell_type": "code",
   "execution_count": 221,
   "metadata": {
    "collapsed": false
   },
   "outputs": [
    {
     "data": {
      "image/png": "[encoded data removed]",
      "text/plain": [
       "<matplotlib.figure.Figure at 0x86e8eb8>"
      ]
     },
     "metadata": {},
     "output_type": "display_data"
    }
   ],
   "source": [
    "from sklearn.learning_curve import validation_curve\n",
    "\n",
    "param_range = [0.001, 0.01, 0.1, 1.0, 10.0, 100.0]\n",
    "train_scores, test_scores = validation_curve(\n",
    "                estimator=pipe_lr, \n",
    "                X=X_train, \n",
    "                y=y_train, \n",
    "                param_name='clf__C', \n",
    "                param_range=param_range,\n",
    "                scoring='f1',\n",
    "                cv=5, n_jobs=-1)\n",
    "\n",
    "train_mean = np.mean(train_scores, axis=1)\n",
    "train_std = np.std(train_scores, axis=1)\n",
    "test_mean = np.mean(test_scores, axis=1)\n",
    "test_std = np.std(test_scores, axis=1)\n",
    "\n",
    "plt.plot(param_range, train_mean, \n",
    "         color='blue', marker='o', \n",
    "         markersize=5, label='training F1')\n",
    "\n",
    "plt.fill_between(param_range, train_mean + train_std,\n",
    "                 train_mean - train_std, alpha=0.15,\n",
    "                 color='blue')\n",
    "\n",
    "plt.plot(param_range, test_mean, \n",
    "         color='green', linestyle='--', \n",
    "         marker='s', markersize=5, \n",
    "         label='validation F1')\n",
    "\n",
    "plt.fill_between(param_range, \n",
    "                 test_mean + test_std,\n",
    "                 test_mean - test_std, \n",
    "                 alpha=0.15, color='green')\n",
    "\n",
    "plt.grid()\n",
    "plt.xscale('log')\n",
    "plt.legend(loc='lower right')\n",
    "plt.xlabel('Parameter C')\n",
    "plt.ylabel('f1')\n",
    "plt.tight_layout()\n",
    "# plt.savefig('./figures/validation_curve.png', dpi=300)\n",
    "plt.show()"
   ]
  },
  {
   "cell_type": "markdown",
   "metadata": {},
   "source": [
    "#### Use C=100 (inverse of regularization)"
   ]
  },
  {
   "cell_type": "markdown",
   "metadata": {},
   "source": [
    "## Use PCA to find most significant features"
   ]
  },
  {
   "cell_type": "code",
   "execution_count": 371,
   "metadata": {
    "collapsed": false
   },
   "outputs": [],
   "source": [
    "X_train_std, X_test_std, y_train, y_test, columns = getDataSetStdCopy()\n",
    "\n",
    "from sklearn.decomposition import PCA\n",
    "pca = PCA(n_components=None)\n",
    "X_train_pca = pca.fit_transform(X_train_std)\n",
    "var_exp=pca.explained_variance_ratio_\n",
    "cum_var_exp = np.cumsum(pca.explained_variance_ratio_)\n"
   ]
  },
  {
   "cell_type": "code",
   "execution_count": 374,
   "metadata": {
    "collapsed": false
   },
   "outputs": [
    {
     "data": {
      "image/png": "[encoded data removed]",
      "text/plain": [
       "<matplotlib.figure.Figure at 0xaa71b00>"
      ]
     },
     "metadata": {},
     "output_type": "display_data"
    }
   ],
   "source": [
    "plt.figure(1,figsize=(7,7))\n",
    "plt.subplot(211)\n",
    "plt.bar(range(1, len(var_exp)+1), pca.explained_variance_ratio_, alpha=0.5, align='center',\n",
    "        label='individual explained variance')\n",
    "plt.xlabel('Principal components')\n",
    "plt.ylabel('Individual explained variance')\n",
    "plt.legend(loc='best')\n",
    "plt.tight_layout()\n",
    "plt.xlim([0.00, len(var_exp)])\n",
    "plt.ylim([0.00, 0.05])\n",
    "plt.subplot(212)\n",
    "plt.step(range(1, len(var_exp)+1), cum_var_exp, where='mid',\n",
    "         label='cumulative explained variance')\n",
    "plt.xlabel('Principal components')\n",
    "plt.ylabel('Cumulative explained variance')\n",
    "plt.legend(loc='best')\n",
    "plt.tight_layout()\n",
    "plt.xlim([0.00, len(var_exp)])\n",
    "plt.ylim([0.00, 1])\n",
    "plt.show()"
   ]
  },
  {
   "cell_type": "markdown",
   "metadata": {},
   "source": [
    "#### Long tail: no small number of features with lot of value\n",
    "### See how the F1 score evolves with the number of retained dimensions with Logistic Regression"
   ]
  },
  {
   "cell_type": "code",
   "execution_count": 402,
   "metadata": {
    "collapsed": false
   },
   "outputs": [
    {
     "name": "stdout",
     "output_type": "stream",
     "text": [
      "F1 for 1 components: 0.48\n",
      "F1 for 2 components: 0.57\n",
      "F1 for 3 components: 0.57\n",
      "F1 for 4 components: 0.57\n",
      "F1 for 5 components: 0.57\n",
      "F1 for 6 components: 0.60\n",
      "F1 for 7 components: 0.60\n",
      "F1 for 8 components: 0.61\n",
      "F1 for 9 components: 0.61\n"
     ]
    }
   ],
   "source": [
    "from sklearn.metrics import f1_score\n",
    "pca_f1=[]\n",
    "pca_comp=[]\n",
    "for n in range(1,10,1):\n",
    "    pca = PCA(n_components=n)\n",
    "    X_train_pca = pca.fit_transform(X_train_std)\n",
    "    X_test_pca = pca.transform(X_test_std)\n",
    "    lr = LogisticRegression()\n",
    "    lr = lr.fit(X_train_pca, y_train)\n",
    "    y_pred = lr.predict(X_test_pca)\n",
    "    pca_f1.append(f1_score(y_test, y_pred))\n",
    "    pca_comp.append(n)\n",
    "    print('F1 for %d components: %.2f' % (n,f1_score(y_test, y_pred)))"
   ]
  },
  {
   "cell_type": "code",
   "execution_count": 403,
   "metadata": {
    "collapsed": false
   },
   "outputs": [
    {
     "data": {
      "image/png": "[encoded data removed]",
      "text/plain": [
       "<matplotlib.figure.Figure at 0x315b4390>"
      ]
     },
     "metadata": {},
     "output_type": "display_data"
    }
   ],
   "source": [
    "plt.plot(pca_comp, pca_f1, \n",
    "         color='blue', marker='o', \n",
    "         markersize=5, label='test f1')\n",
    "plt.legend(loc='lower right')\n",
    "plt.xlabel('pca components')\n",
    "plt.ylabel('Test F1')\n",
    "plt.show()"
   ]
  },
  {
   "cell_type": "markdown",
   "metadata": {},
   "source": [
    "#### No advantage compared to original feature selection (see above)"
   ]
  },
  {
   "cell_type": "code",
   "execution_count": 393,
   "metadata": {
    "collapsed": false
   },
   "outputs": [
    {
     "data": {
      "image/png": "[encoded data removed]",
      "text/plain": [
       "<matplotlib.figure.Figure at 0x77db73c8>"
      ]
     },
     "metadata": {},
     "output_type": "display_data"
    }
   ],
   "source": [
    "pca = PCA(n_components=2)\n",
    "X_train_pca = pca.fit_transform(X_train_std)\n",
    "X_test_pca = pca.transform(X_test_std)\n",
    "plt.scatter(X_train_pca[:,0], X_train_pca[:,1], c='b')\n",
    "plt.scatter(X_test_pca[:,0], X_test_pca[:,1], c='r')\n",
    "plt.xlabel('PC 1')\n",
    "plt.ylabel('PC 2')\n",
    "plt.show()"
   ]
  },
  {
   "cell_type": "markdown",
   "metadata": {},
   "source": [
    "#### No separation visible with 2 dimensions"
   ]
  },
  {
   "cell_type": "markdown",
   "metadata": {},
   "source": [
    "## Decision Tree"
   ]
  },
  {
   "cell_type": "code",
   "execution_count": 398,
   "metadata": {
    "collapsed": false
   },
   "outputs": [
    {
     "data": {
      "text/plain": [
       "DecisionTreeClassifier(class_weight=None, criterion='entropy', max_depth=None,\n",
       "            max_features=None, max_leaf_nodes=None, min_samples_leaf=1,\n",
       "            min_samples_split=2, min_weight_fraction_leaf=0.0,\n",
       "            presort=False, random_state=0, splitter='best')"
      ]
     },
     "execution_count": 398,
     "metadata": {},
     "output_type": "execute_result"
    }
   ],
   "source": [
    "X_train, X_test, y_train, y_test, columns = getDataSetCopy()\n",
    "\n",
    "from sklearn.tree import DecisionTreeClassifier\n",
    "tree = DecisionTreeClassifier(criterion='entropy', max_depth=None, random_state=0)\n",
    "tree.fit(X_train, y_train)"
   ]
  },
  {
   "cell_type": "code",
   "execution_count": 399,
   "metadata": {
    "collapsed": true
   },
   "outputs": [],
   "source": [
    "from sklearn.tree import export_graphviz\n",
    "# export_graphviz(tree, out_file='tree.dot', feature_names=['petal length', 'petal width'])\n",
    "export_graphviz(tree, out_file='tree.dot')\n",
    "# dot -Tpng tree.dot -o tree.png"
   ]
  },
  {
   "cell_type": "code",
   "execution_count": 400,
   "metadata": {
    "collapsed": false
   },
   "outputs": [
    {
     "data": {
      "image/png": "[encoded data removed]",
      "text/plain": [
       "<matplotlib.figure.Figure at 0x1dbb27f0>"
      ]
     },
     "metadata": {},
     "output_type": "display_data"
    }
   ],
   "source": [
    "plt.figure(1,figsize=(20,20))\n",
    "plt.subplot(111)\n",
    "image = plt.imread('tree.png')\n",
    "plt.imshow(image)\n",
    "plt.axis('off')\n",
    "plt.show()"
   ]
  },
  {
   "cell_type": "code",
   "execution_count": 401,
   "metadata": {
    "collapsed": false
   },
   "outputs": [
    {
     "data": {
      "text/plain": [
       "0.61786684782608703"
      ]
     },
     "execution_count": 401,
     "metadata": {},
     "output_type": "execute_result"
    }
   ],
   "source": [
    "y_pred = tree.predict(X_test)\n",
    "f1_score(y_test, y_pred)"
   ]
  },
  {
   "cell_type": "markdown",
   "metadata": {
    "collapsed": true
   },
   "source": [
    "## Conclusion so far: difficult to go beyond F1 = 0.66"
   ]
  }
 ],
 "metadata": {
  "kernelspec": {
   "display_name": "Python 2",
   "language": "python",
   "name": "python2"
  },
  "language_info": {
   "codemirror_mode": {
    "name": "ipython",
    "version": 2
   },
   "file_extension": ".py",
   "mimetype": "text/x-python",
   "name": "python",
   "nbconvert_exporter": "python",
   "pygments_lexer": "ipython2",
   "version": "2.7.11"
  }
 },
 "nbformat": 4,
 "nbformat_minor": 0
}
